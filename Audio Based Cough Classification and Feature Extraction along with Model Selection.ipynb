{
 "cells": [
  {
   "cell_type": "markdown",
   "id": "23240bd9",
   "metadata": {},
   "source": [
    "## FEATURE EXTRACTION AND DATA PREPROCESSING"
   ]
  },
  {
   "cell_type": "code",
   "execution_count": 1,
   "id": "1bb203d4",
   "metadata": {},
   "outputs": [],
   "source": [
    "import os\n",
    "import librosa\n",
    "import numpy as np\n",
    "import pandas as pd\n",
    "from tqdm import tqdm\n",
    "from sklearn.utils import resample"
   ]
  },
  {
   "cell_type": "code",
   "execution_count": 2,
   "id": "c00a7f50",
   "metadata": {},
   "outputs": [],
   "source": [
    "def extract_features(file_path):\n",
    "    y, sr = librosa.load(file_path, sr=None)\n",
    "    \n",
    "    # Trim silence from the audio\n",
    "    y, _ = librosa.effects.trim(y, top_db=20)\n",
    "    \n",
    "    # Extract features\n",
    "    zcr = np.mean(librosa.feature.zero_crossing_rate(y))\n",
    "    spectral_centroid = np.mean(librosa.feature.spectral_centroid(y=y, sr=sr))\n",
    "    spectral_bandwidth = np.mean(librosa.feature.spectral_bandwidth(y=y, sr=sr))\n",
    "    spectral_contrast = np.mean(librosa.feature.spectral_contrast(y=y, sr=sr))\n",
    "    spectral_rolloff = np.mean(librosa.feature.spectral_rolloff(y=y, sr=sr))\n",
    "    rms_energy = np.mean(librosa.feature.rms(y=y))\n",
    "    \n",
    "    mfccs = librosa.feature.mfcc(y=y, sr=sr, n_mfcc=21)\n",
    "    mfccs_mean = np.mean(mfccs, axis=1)\n",
    "    \n",
    "    features = [zcr, spectral_centroid, spectral_bandwidth, spectral_contrast, spectral_rolloff, rms_energy] + list(mfccs_mean)\n",
    "    return features"
   ]
  },
  {
   "cell_type": "code",
   "execution_count": 3,
   "id": "5910f1da",
   "metadata": {},
   "outputs": [],
   "source": [
    "def process_folder(folder_path, label):\n",
    "    data = []\n",
    "    for file_name in tqdm(os.listdir(folder_path), desc=f\"Processing {label} files\"):\n",
    "        if file_name.endswith('.wav'):\n",
    "            file_path = os.path.join(folder_path, file_name)\n",
    "            features = extract_features(file_path)\n",
    "            features.append(file_name)  \n",
    "            features.append(label) \n",
    "            data.append(features)\n",
    "    return data"
   ]
  },
  {
   "cell_type": "code",
   "execution_count": 4,
   "id": "28038510",
   "metadata": {},
   "outputs": [],
   "source": [
    "cough_folder_path = \"H:/My Drive/COUGH\"\n",
    "non_cough_folder_path = \"H:/My Drive/NOT_COUGH\""
   ]
  },
  {
   "cell_type": "code",
   "execution_count": 5,
   "id": "683fd6e5",
   "metadata": {},
   "outputs": [
    {
     "name": "stderr",
     "output_type": "stream",
     "text": [
      "Processing cough files: 100%|████████████████████████████████████████████████████████| 431/431 [03:36<00:00,  1.99it/s]\n",
      "Processing non_cough files: 100%|████████████████████████████████████████████████████| 431/431 [03:20<00:00,  2.15it/s]\n"
     ]
    }
   ],
   "source": [
    "cough_data = process_folder(cough_folder_path, 'cough')\n",
    "non_cough_data = process_folder(non_cough_folder_path, 'non_cough')"
   ]
  },
  {
   "cell_type": "code",
   "execution_count": 6,
   "id": "d74b0ea9",
   "metadata": {},
   "outputs": [],
   "source": [
    "combine_data = cough_data + non_cough_data"
   ]
  },
  {
   "cell_type": "code",
   "execution_count": 7,
   "id": "5ee39abe",
   "metadata": {},
   "outputs": [],
   "source": [
    "columns = ['zcr', 'spectral_centroid', 'spectral_bandwidth', 'spectral_contrast', 'spectral_rolloff', 'rms_energy'] + [f'mfcc_{i}' for i in range(1, 22)] + ['file_name', 'label']"
   ]
  },
  {
   "cell_type": "code",
   "execution_count": 8,
   "id": "9f336d3a",
   "metadata": {},
   "outputs": [],
   "source": [
    "df = pd.DataFrame(combine_data, columns=columns)"
   ]
  },
  {
   "cell_type": "code",
   "execution_count": 9,
   "id": "8da9916a",
   "metadata": {},
   "outputs": [],
   "source": [
    "df = df.drop(['file_name'], axis=1)"
   ]
  },
  {
   "cell_type": "code",
   "execution_count": 10,
   "id": "eaaf7e2a",
   "metadata": {},
   "outputs": [],
   "source": [
    "df.to_csv('H:/My Drive/Task 2 - Feature Extarction/CNN Model 3/feature_extraction.csv', index=False)"
   ]
  },
  {
   "cell_type": "code",
   "execution_count": 11,
   "id": "89b1dee3",
   "metadata": {},
   "outputs": [],
   "source": [
    "df_features = pd.read_csv('H:/My Drive/Task 2 - Feature Extarction/CNN Model 3/feature_extraction.csv')"
   ]
  },
  {
   "cell_type": "code",
   "execution_count": 12,
   "id": "7fb9d11f",
   "metadata": {},
   "outputs": [],
   "source": [
    "df_majority = df_features[df_features['label'] == 'non_cough']\n",
    "df_minority = df_features[df_features['label'] == 'cough']\n",
    "df_majority_balanced = resample(df_majority, replace=False, n_samples=len(df_minority), random_state=42)\n",
    "df_balanced = pd.concat([df_majority_balanced, df_minority])"
   ]
  },
  {
   "cell_type": "code",
   "execution_count": 13,
   "id": "05faddbb",
   "metadata": {},
   "outputs": [],
   "source": [
    "df_balanced.to_csv('H:/My Drive/Task 2 - Feature Extarction/CNN Model 3/feature_extraction.csv', index=False)"
   ]
  },
  {
   "cell_type": "code",
   "execution_count": 14,
   "id": "b4e1a094",
   "metadata": {},
   "outputs": [
    {
     "name": "stdout",
     "output_type": "stream",
     "text": [
      "Total number of examples: 862\n",
      "Number of cough examples: 431\n",
      "Number of not cough examples: 431\n"
     ]
    }
   ],
   "source": [
    "print('Total number of examples:', len(df_balanced))\n",
    "print('Number of cough examples:', len(df_balanced[df_balanced['label'] == 'cough']))\n",
    "print('Number of not cough examples:', len(df_balanced[df_balanced['label'] == 'non_cough']))"
   ]
  },
  {
   "cell_type": "code",
   "execution_count": 15,
   "id": "1d23b4a7",
   "metadata": {},
   "outputs": [],
   "source": [
    "df = pd.read_csv(\"feature_extraction.csv\")"
   ]
  },
  {
   "cell_type": "code",
   "execution_count": 16,
   "id": "9d7e204e",
   "metadata": {},
   "outputs": [
    {
     "data": {
      "text/html": [
       "<div>\n",
       "<style scoped>\n",
       "    .dataframe tbody tr th:only-of-type {\n",
       "        vertical-align: middle;\n",
       "    }\n",
       "\n",
       "    .dataframe tbody tr th {\n",
       "        vertical-align: top;\n",
       "    }\n",
       "\n",
       "    .dataframe thead th {\n",
       "        text-align: right;\n",
       "    }\n",
       "</style>\n",
       "<table border=\"1\" class=\"dataframe\">\n",
       "  <thead>\n",
       "    <tr style=\"text-align: right;\">\n",
       "      <th></th>\n",
       "      <th>zcr</th>\n",
       "      <th>spectral_centroid</th>\n",
       "      <th>spectral_bandwidth</th>\n",
       "      <th>spectral_contrast</th>\n",
       "      <th>spectral_rolloff</th>\n",
       "      <th>rms_energy</th>\n",
       "      <th>mfcc_1</th>\n",
       "      <th>mfcc_2</th>\n",
       "      <th>mfcc_3</th>\n",
       "      <th>mfcc_4</th>\n",
       "      <th>...</th>\n",
       "      <th>mfcc_13</th>\n",
       "      <th>mfcc_14</th>\n",
       "      <th>mfcc_15</th>\n",
       "      <th>mfcc_16</th>\n",
       "      <th>mfcc_17</th>\n",
       "      <th>mfcc_18</th>\n",
       "      <th>mfcc_19</th>\n",
       "      <th>mfcc_20</th>\n",
       "      <th>mfcc_21</th>\n",
       "      <th>label</th>\n",
       "    </tr>\n",
       "  </thead>\n",
       "  <tbody>\n",
       "    <tr>\n",
       "      <th>0</th>\n",
       "      <td>0.029213</td>\n",
       "      <td>1112.871564</td>\n",
       "      <td>1604.056017</td>\n",
       "      <td>24.892593</td>\n",
       "      <td>1760.744265</td>\n",
       "      <td>0.081122</td>\n",
       "      <td>-448.81583</td>\n",
       "      <td>122.14291</td>\n",
       "      <td>-30.411432</td>\n",
       "      <td>-21.905825</td>\n",
       "      <td>...</td>\n",
       "      <td>-17.041662</td>\n",
       "      <td>-19.493896</td>\n",
       "      <td>-17.205946</td>\n",
       "      <td>-9.201260</td>\n",
       "      <td>-0.198663</td>\n",
       "      <td>5.860787</td>\n",
       "      <td>7.860169</td>\n",
       "      <td>7.522961</td>\n",
       "      <td>8.683452</td>\n",
       "      <td>non_cough</td>\n",
       "    </tr>\n",
       "    <tr>\n",
       "      <th>1</th>\n",
       "      <td>0.012457</td>\n",
       "      <td>1050.948040</td>\n",
       "      <td>2174.865326</td>\n",
       "      <td>15.973477</td>\n",
       "      <td>1694.400239</td>\n",
       "      <td>0.040163</td>\n",
       "      <td>-412.30994</td>\n",
       "      <td>130.85251</td>\n",
       "      <td>16.608328</td>\n",
       "      <td>69.699390</td>\n",
       "      <td>...</td>\n",
       "      <td>-8.629910</td>\n",
       "      <td>-6.937414</td>\n",
       "      <td>-1.147614</td>\n",
       "      <td>-5.570846</td>\n",
       "      <td>0.199644</td>\n",
       "      <td>1.057782</td>\n",
       "      <td>-6.458854</td>\n",
       "      <td>0.350183</td>\n",
       "      <td>-0.142641</td>\n",
       "      <td>non_cough</td>\n",
       "    </tr>\n",
       "    <tr>\n",
       "      <th>2</th>\n",
       "      <td>0.100690</td>\n",
       "      <td>3195.011947</td>\n",
       "      <td>3049.857138</td>\n",
       "      <td>16.933318</td>\n",
       "      <td>5852.706205</td>\n",
       "      <td>0.109561</td>\n",
       "      <td>-293.02173</td>\n",
       "      <td>150.12302</td>\n",
       "      <td>-19.515726</td>\n",
       "      <td>-0.561357</td>\n",
       "      <td>...</td>\n",
       "      <td>5.950315</td>\n",
       "      <td>-3.206813</td>\n",
       "      <td>-0.501098</td>\n",
       "      <td>-3.582239</td>\n",
       "      <td>-4.231604</td>\n",
       "      <td>2.062259</td>\n",
       "      <td>2.788978</td>\n",
       "      <td>-0.896737</td>\n",
       "      <td>-0.267438</td>\n",
       "      <td>non_cough</td>\n",
       "    </tr>\n",
       "    <tr>\n",
       "      <th>3</th>\n",
       "      <td>0.001611</td>\n",
       "      <td>1067.626882</td>\n",
       "      <td>2618.348851</td>\n",
       "      <td>12.851745</td>\n",
       "      <td>1894.921875</td>\n",
       "      <td>0.250158</td>\n",
       "      <td>-320.02070</td>\n",
       "      <td>119.57776</td>\n",
       "      <td>6.242011</td>\n",
       "      <td>41.371864</td>\n",
       "      <td>...</td>\n",
       "      <td>11.427472</td>\n",
       "      <td>10.879184</td>\n",
       "      <td>10.726569</td>\n",
       "      <td>9.264940</td>\n",
       "      <td>5.624715</td>\n",
       "      <td>2.997437</td>\n",
       "      <td>5.239369</td>\n",
       "      <td>6.776089</td>\n",
       "      <td>3.964313</td>\n",
       "      <td>non_cough</td>\n",
       "    </tr>\n",
       "    <tr>\n",
       "      <th>4</th>\n",
       "      <td>0.044128</td>\n",
       "      <td>2770.453081</td>\n",
       "      <td>2867.777937</td>\n",
       "      <td>19.252790</td>\n",
       "      <td>5707.644653</td>\n",
       "      <td>0.161779</td>\n",
       "      <td>-195.62204</td>\n",
       "      <td>129.60016</td>\n",
       "      <td>-58.906826</td>\n",
       "      <td>52.263382</td>\n",
       "      <td>...</td>\n",
       "      <td>7.825397</td>\n",
       "      <td>-2.478972</td>\n",
       "      <td>6.249976</td>\n",
       "      <td>9.515294</td>\n",
       "      <td>-5.330663</td>\n",
       "      <td>1.446208</td>\n",
       "      <td>-8.028227</td>\n",
       "      <td>-5.254991</td>\n",
       "      <td>-3.608084</td>\n",
       "      <td>non_cough</td>\n",
       "    </tr>\n",
       "    <tr>\n",
       "      <th>...</th>\n",
       "      <td>...</td>\n",
       "      <td>...</td>\n",
       "      <td>...</td>\n",
       "      <td>...</td>\n",
       "      <td>...</td>\n",
       "      <td>...</td>\n",
       "      <td>...</td>\n",
       "      <td>...</td>\n",
       "      <td>...</td>\n",
       "      <td>...</td>\n",
       "      <td>...</td>\n",
       "      <td>...</td>\n",
       "      <td>...</td>\n",
       "      <td>...</td>\n",
       "      <td>...</td>\n",
       "      <td>...</td>\n",
       "      <td>...</td>\n",
       "      <td>...</td>\n",
       "      <td>...</td>\n",
       "      <td>...</td>\n",
       "      <td>...</td>\n",
       "    </tr>\n",
       "    <tr>\n",
       "      <th>857</th>\n",
       "      <td>0.079220</td>\n",
       "      <td>2693.482587</td>\n",
       "      <td>2599.789602</td>\n",
       "      <td>17.428186</td>\n",
       "      <td>4800.445662</td>\n",
       "      <td>0.040164</td>\n",
       "      <td>-300.02795</td>\n",
       "      <td>155.08849</td>\n",
       "      <td>-66.840660</td>\n",
       "      <td>20.671022</td>\n",
       "      <td>...</td>\n",
       "      <td>-8.014601</td>\n",
       "      <td>6.603203</td>\n",
       "      <td>-1.622552</td>\n",
       "      <td>-0.095497</td>\n",
       "      <td>5.154353</td>\n",
       "      <td>-5.718300</td>\n",
       "      <td>1.815212</td>\n",
       "      <td>-5.435640</td>\n",
       "      <td>-2.056177</td>\n",
       "      <td>cough</td>\n",
       "    </tr>\n",
       "    <tr>\n",
       "      <th>858</th>\n",
       "      <td>0.086063</td>\n",
       "      <td>4237.359232</td>\n",
       "      <td>4647.301584</td>\n",
       "      <td>17.323820</td>\n",
       "      <td>8733.250537</td>\n",
       "      <td>0.014105</td>\n",
       "      <td>-427.93470</td>\n",
       "      <td>102.49376</td>\n",
       "      <td>-26.879637</td>\n",
       "      <td>7.111455</td>\n",
       "      <td>...</td>\n",
       "      <td>-19.243622</td>\n",
       "      <td>-7.554722</td>\n",
       "      <td>-6.590545</td>\n",
       "      <td>-4.727139</td>\n",
       "      <td>-4.538400</td>\n",
       "      <td>-4.069426</td>\n",
       "      <td>-5.873992</td>\n",
       "      <td>-1.550436</td>\n",
       "      <td>-5.683088</td>\n",
       "      <td>cough</td>\n",
       "    </tr>\n",
       "    <tr>\n",
       "      <th>859</th>\n",
       "      <td>0.024711</td>\n",
       "      <td>1195.888758</td>\n",
       "      <td>1972.589472</td>\n",
       "      <td>17.095105</td>\n",
       "      <td>2294.282131</td>\n",
       "      <td>0.078553</td>\n",
       "      <td>-306.71332</td>\n",
       "      <td>169.64798</td>\n",
       "      <td>5.926561</td>\n",
       "      <td>-17.236458</td>\n",
       "      <td>...</td>\n",
       "      <td>4.376550</td>\n",
       "      <td>-4.724573</td>\n",
       "      <td>4.331160</td>\n",
       "      <td>9.613692</td>\n",
       "      <td>1.660168</td>\n",
       "      <td>1.348640</td>\n",
       "      <td>6.709805</td>\n",
       "      <td>2.372028</td>\n",
       "      <td>-0.943119</td>\n",
       "      <td>cough</td>\n",
       "    </tr>\n",
       "    <tr>\n",
       "      <th>860</th>\n",
       "      <td>0.108596</td>\n",
       "      <td>3871.364219</td>\n",
       "      <td>4093.153195</td>\n",
       "      <td>17.292438</td>\n",
       "      <td>7456.062180</td>\n",
       "      <td>0.011830</td>\n",
       "      <td>-444.11957</td>\n",
       "      <td>127.43482</td>\n",
       "      <td>-37.609917</td>\n",
       "      <td>35.145657</td>\n",
       "      <td>...</td>\n",
       "      <td>2.233887</td>\n",
       "      <td>-0.598832</td>\n",
       "      <td>10.553861</td>\n",
       "      <td>-9.460074</td>\n",
       "      <td>-0.121605</td>\n",
       "      <td>4.381053</td>\n",
       "      <td>-6.817329</td>\n",
       "      <td>2.434754</td>\n",
       "      <td>-3.922333</td>\n",
       "      <td>cough</td>\n",
       "    </tr>\n",
       "    <tr>\n",
       "      <th>861</th>\n",
       "      <td>0.055596</td>\n",
       "      <td>1684.951561</td>\n",
       "      <td>1554.551033</td>\n",
       "      <td>18.466850</td>\n",
       "      <td>2726.325758</td>\n",
       "      <td>0.170683</td>\n",
       "      <td>-212.80153</td>\n",
       "      <td>167.89682</td>\n",
       "      <td>-49.961820</td>\n",
       "      <td>-42.788550</td>\n",
       "      <td>...</td>\n",
       "      <td>1.079924</td>\n",
       "      <td>1.572679</td>\n",
       "      <td>-3.577433</td>\n",
       "      <td>1.724799</td>\n",
       "      <td>4.526328</td>\n",
       "      <td>-3.280967</td>\n",
       "      <td>-0.454278</td>\n",
       "      <td>5.085599</td>\n",
       "      <td>0.560330</td>\n",
       "      <td>cough</td>\n",
       "    </tr>\n",
       "  </tbody>\n",
       "</table>\n",
       "<p>862 rows × 28 columns</p>\n",
       "</div>"
      ],
      "text/plain": [
       "          zcr  spectral_centroid  spectral_bandwidth  spectral_contrast   \n",
       "0    0.029213        1112.871564         1604.056017          24.892593  \\\n",
       "1    0.012457        1050.948040         2174.865326          15.973477   \n",
       "2    0.100690        3195.011947         3049.857138          16.933318   \n",
       "3    0.001611        1067.626882         2618.348851          12.851745   \n",
       "4    0.044128        2770.453081         2867.777937          19.252790   \n",
       "..        ...                ...                 ...                ...   \n",
       "857  0.079220        2693.482587         2599.789602          17.428186   \n",
       "858  0.086063        4237.359232         4647.301584          17.323820   \n",
       "859  0.024711        1195.888758         1972.589472          17.095105   \n",
       "860  0.108596        3871.364219         4093.153195          17.292438   \n",
       "861  0.055596        1684.951561         1554.551033          18.466850   \n",
       "\n",
       "     spectral_rolloff  rms_energy     mfcc_1     mfcc_2     mfcc_3     mfcc_4   \n",
       "0         1760.744265    0.081122 -448.81583  122.14291 -30.411432 -21.905825  \\\n",
       "1         1694.400239    0.040163 -412.30994  130.85251  16.608328  69.699390   \n",
       "2         5852.706205    0.109561 -293.02173  150.12302 -19.515726  -0.561357   \n",
       "3         1894.921875    0.250158 -320.02070  119.57776   6.242011  41.371864   \n",
       "4         5707.644653    0.161779 -195.62204  129.60016 -58.906826  52.263382   \n",
       "..                ...         ...        ...        ...        ...        ...   \n",
       "857       4800.445662    0.040164 -300.02795  155.08849 -66.840660  20.671022   \n",
       "858       8733.250537    0.014105 -427.93470  102.49376 -26.879637   7.111455   \n",
       "859       2294.282131    0.078553 -306.71332  169.64798   5.926561 -17.236458   \n",
       "860       7456.062180    0.011830 -444.11957  127.43482 -37.609917  35.145657   \n",
       "861       2726.325758    0.170683 -212.80153  167.89682 -49.961820 -42.788550   \n",
       "\n",
       "     ...    mfcc_13    mfcc_14    mfcc_15   mfcc_16   mfcc_17   mfcc_18   \n",
       "0    ... -17.041662 -19.493896 -17.205946 -9.201260 -0.198663  5.860787  \\\n",
       "1    ...  -8.629910  -6.937414  -1.147614 -5.570846  0.199644  1.057782   \n",
       "2    ...   5.950315  -3.206813  -0.501098 -3.582239 -4.231604  2.062259   \n",
       "3    ...  11.427472  10.879184  10.726569  9.264940  5.624715  2.997437   \n",
       "4    ...   7.825397  -2.478972   6.249976  9.515294 -5.330663  1.446208   \n",
       "..   ...        ...        ...        ...       ...       ...       ...   \n",
       "857  ...  -8.014601   6.603203  -1.622552 -0.095497  5.154353 -5.718300   \n",
       "858  ... -19.243622  -7.554722  -6.590545 -4.727139 -4.538400 -4.069426   \n",
       "859  ...   4.376550  -4.724573   4.331160  9.613692  1.660168  1.348640   \n",
       "860  ...   2.233887  -0.598832  10.553861 -9.460074 -0.121605  4.381053   \n",
       "861  ...   1.079924   1.572679  -3.577433  1.724799  4.526328 -3.280967   \n",
       "\n",
       "      mfcc_19   mfcc_20   mfcc_21      label  \n",
       "0    7.860169  7.522961  8.683452  non_cough  \n",
       "1   -6.458854  0.350183 -0.142641  non_cough  \n",
       "2    2.788978 -0.896737 -0.267438  non_cough  \n",
       "3    5.239369  6.776089  3.964313  non_cough  \n",
       "4   -8.028227 -5.254991 -3.608084  non_cough  \n",
       "..        ...       ...       ...        ...  \n",
       "857  1.815212 -5.435640 -2.056177      cough  \n",
       "858 -5.873992 -1.550436 -5.683088      cough  \n",
       "859  6.709805  2.372028 -0.943119      cough  \n",
       "860 -6.817329  2.434754 -3.922333      cough  \n",
       "861 -0.454278  5.085599  0.560330      cough  \n",
       "\n",
       "[862 rows x 28 columns]"
      ]
     },
     "execution_count": 16,
     "metadata": {},
     "output_type": "execute_result"
    }
   ],
   "source": [
    "df"
   ]
  },
  {
   "cell_type": "markdown",
   "id": "af25ae12",
   "metadata": {},
   "source": [
    "## RANDOM FOREST CLASSIFIER"
   ]
  },
  {
   "cell_type": "code",
   "execution_count": 17,
   "id": "98aeb2fe",
   "metadata": {},
   "outputs": [],
   "source": [
    "import numpy as np\n",
    "import pandas as pd\n",
    "from sklearn.ensemble import RandomForestClassifier\n",
    "from sklearn.model_selection import train_test_split\n",
    "from sklearn.metrics import accuracy_score, precision_score, recall_score, f1_score\n",
    "import joblib"
   ]
  },
  {
   "cell_type": "code",
   "execution_count": 19,
   "id": "1d64b5a3",
   "metadata": {},
   "outputs": [],
   "source": [
    "df = pd.read_csv('H:/My Drive/Task 2 - Feature Extarction/CNN Model 3/feature_extraction.csv')"
   ]
  },
  {
   "cell_type": "code",
   "execution_count": 20,
   "id": "05163805",
   "metadata": {},
   "outputs": [],
   "source": [
    "X = df.drop(['label'], axis=1)\n",
    "y = df['label']"
   ]
  },
  {
   "cell_type": "code",
   "execution_count": 21,
   "id": "55e8a83c",
   "metadata": {},
   "outputs": [],
   "source": [
    "X_train, X_test, y_train, y_test = train_test_split(X, y, test_size=0.2, random_state=42)"
   ]
  },
  {
   "cell_type": "code",
   "execution_count": 22,
   "id": "14c9beba",
   "metadata": {},
   "outputs": [],
   "source": [
    "rf = RandomForestClassifier(n_estimators=100, max_depth=5, random_state=42)"
   ]
  },
  {
   "cell_type": "code",
   "execution_count": 23,
   "id": "2925321a",
   "metadata": {},
   "outputs": [
    {
     "data": {
      "text/html": [
       "<style>#sk-container-id-1 {color: black;background-color: white;}#sk-container-id-1 pre{padding: 0;}#sk-container-id-1 div.sk-toggleable {background-color: white;}#sk-container-id-1 label.sk-toggleable__label {cursor: pointer;display: block;width: 100%;margin-bottom: 0;padding: 0.3em;box-sizing: border-box;text-align: center;}#sk-container-id-1 label.sk-toggleable__label-arrow:before {content: \"▸\";float: left;margin-right: 0.25em;color: #696969;}#sk-container-id-1 label.sk-toggleable__label-arrow:hover:before {color: black;}#sk-container-id-1 div.sk-estimator:hover label.sk-toggleable__label-arrow:before {color: black;}#sk-container-id-1 div.sk-toggleable__content {max-height: 0;max-width: 0;overflow: hidden;text-align: left;background-color: #f0f8ff;}#sk-container-id-1 div.sk-toggleable__content pre {margin: 0.2em;color: black;border-radius: 0.25em;background-color: #f0f8ff;}#sk-container-id-1 input.sk-toggleable__control:checked~div.sk-toggleable__content {max-height: 200px;max-width: 100%;overflow: auto;}#sk-container-id-1 input.sk-toggleable__control:checked~label.sk-toggleable__label-arrow:before {content: \"▾\";}#sk-container-id-1 div.sk-estimator input.sk-toggleable__control:checked~label.sk-toggleable__label {background-color: #d4ebff;}#sk-container-id-1 div.sk-label input.sk-toggleable__control:checked~label.sk-toggleable__label {background-color: #d4ebff;}#sk-container-id-1 input.sk-hidden--visually {border: 0;clip: rect(1px 1px 1px 1px);clip: rect(1px, 1px, 1px, 1px);height: 1px;margin: -1px;overflow: hidden;padding: 0;position: absolute;width: 1px;}#sk-container-id-1 div.sk-estimator {font-family: monospace;background-color: #f0f8ff;border: 1px dotted black;border-radius: 0.25em;box-sizing: border-box;margin-bottom: 0.5em;}#sk-container-id-1 div.sk-estimator:hover {background-color: #d4ebff;}#sk-container-id-1 div.sk-parallel-item::after {content: \"\";width: 100%;border-bottom: 1px solid gray;flex-grow: 1;}#sk-container-id-1 div.sk-label:hover label.sk-toggleable__label {background-color: #d4ebff;}#sk-container-id-1 div.sk-serial::before {content: \"\";position: absolute;border-left: 1px solid gray;box-sizing: border-box;top: 0;bottom: 0;left: 50%;z-index: 0;}#sk-container-id-1 div.sk-serial {display: flex;flex-direction: column;align-items: center;background-color: white;padding-right: 0.2em;padding-left: 0.2em;position: relative;}#sk-container-id-1 div.sk-item {position: relative;z-index: 1;}#sk-container-id-1 div.sk-parallel {display: flex;align-items: stretch;justify-content: center;background-color: white;position: relative;}#sk-container-id-1 div.sk-item::before, #sk-container-id-1 div.sk-parallel-item::before {content: \"\";position: absolute;border-left: 1px solid gray;box-sizing: border-box;top: 0;bottom: 0;left: 50%;z-index: -1;}#sk-container-id-1 div.sk-parallel-item {display: flex;flex-direction: column;z-index: 1;position: relative;background-color: white;}#sk-container-id-1 div.sk-parallel-item:first-child::after {align-self: flex-end;width: 50%;}#sk-container-id-1 div.sk-parallel-item:last-child::after {align-self: flex-start;width: 50%;}#sk-container-id-1 div.sk-parallel-item:only-child::after {width: 0;}#sk-container-id-1 div.sk-dashed-wrapped {border: 1px dashed gray;margin: 0 0.4em 0.5em 0.4em;box-sizing: border-box;padding-bottom: 0.4em;background-color: white;}#sk-container-id-1 div.sk-label label {font-family: monospace;font-weight: bold;display: inline-block;line-height: 1.2em;}#sk-container-id-1 div.sk-label-container {text-align: center;}#sk-container-id-1 div.sk-container {/* jupyter's `normalize.less` sets `[hidden] { display: none; }` but bootstrap.min.css set `[hidden] { display: none !important; }` so we also need the `!important` here to be able to override the default hidden behavior on the sphinx rendered scikit-learn.org. See: https://github.com/scikit-learn/scikit-learn/issues/21755 */display: inline-block !important;position: relative;}#sk-container-id-1 div.sk-text-repr-fallback {display: none;}</style><div id=\"sk-container-id-1\" class=\"sk-top-container\"><div class=\"sk-text-repr-fallback\"><pre>RandomForestClassifier(max_depth=5, random_state=42)</pre><b>In a Jupyter environment, please rerun this cell to show the HTML representation or trust the notebook. <br />On GitHub, the HTML representation is unable to render, please try loading this page with nbviewer.org.</b></div><div class=\"sk-container\" hidden><div class=\"sk-item\"><div class=\"sk-estimator sk-toggleable\"><input class=\"sk-toggleable__control sk-hidden--visually\" id=\"sk-estimator-id-1\" type=\"checkbox\" checked><label for=\"sk-estimator-id-1\" class=\"sk-toggleable__label sk-toggleable__label-arrow\">RandomForestClassifier</label><div class=\"sk-toggleable__content\"><pre>RandomForestClassifier(max_depth=5, random_state=42)</pre></div></div></div></div></div>"
      ],
      "text/plain": [
       "RandomForestClassifier(max_depth=5, random_state=42)"
      ]
     },
     "execution_count": 23,
     "metadata": {},
     "output_type": "execute_result"
    }
   ],
   "source": [
    "rf.fit(X_train, y_train)"
   ]
  },
  {
   "cell_type": "code",
   "execution_count": 25,
   "id": "52a7eeba",
   "metadata": {},
   "outputs": [],
   "source": [
    "y_pred = rf.predict(X_test)"
   ]
  },
  {
   "cell_type": "code",
   "execution_count": 26,
   "id": "ed9e8569",
   "metadata": {},
   "outputs": [],
   "source": [
    "acc = accuracy_score(y_test, y_pred)\n",
    "p = precision_score(y_test, y_pred, average='macro')\n",
    "r = recall_score(y_test, y_pred, average='macro')\n",
    "f1 = f1_score(y_test, y_pred, average='macro')"
   ]
  },
  {
   "cell_type": "code",
   "execution_count": 27,
   "id": "aa9fed6e",
   "metadata": {},
   "outputs": [
    {
     "name": "stdout",
     "output_type": "stream",
     "text": [
      "Accuracy: 0.85\n",
      "Precision: 0.85\n",
      "Recall: 0.85\n",
      "F1 Score: 0.85\n"
     ]
    }
   ],
   "source": [
    "print(\"Accuracy: {:.2f}\".format(acc))\n",
    "print(\"Precision: {:.2f}\".format(p))\n",
    "print(\"Recall: {:.2f}\".format(r))\n",
    "print(\"F1 Score: {:.2f}\".format(f1))"
   ]
  },
  {
   "cell_type": "code",
   "execution_count": 28,
   "id": "b67e667d",
   "metadata": {},
   "outputs": [
    {
     "data": {
      "text/plain": [
       "['H:/My Drive/Task 2 - Feature Extarction/CNN Model 3/model_randon_forest.pkl']"
      ]
     },
     "execution_count": 28,
     "metadata": {},
     "output_type": "execute_result"
    }
   ],
   "source": [
    "joblib.dump(rf, 'H:/My Drive/Task 2 - Feature Extarction/CNN Model 3/model_randon_forest.pkl')"
   ]
  },
  {
   "cell_type": "markdown",
   "id": "a2aad6cf",
   "metadata": {},
   "source": [
    "### PREDICTION"
   ]
  },
  {
   "cell_type": "code",
   "execution_count": 31,
   "id": "8e91e78f",
   "metadata": {},
   "outputs": [
    {
     "name": "stdout",
     "output_type": "stream",
     "text": [
      "The prediction for  H:/My Drive/Task 2 - Feature Extarction/kashish_mru.wav  is  non_cough\n"
     ]
    },
    {
     "name": "stderr",
     "output_type": "stream",
     "text": [
      "C:\\Users\\pavan\\AppData\\Local\\Programs\\Python\\Python310\\lib\\site-packages\\sklearn\\base.py:439: UserWarning: X does not have valid feature names, but RandomForestClassifier was fitted with feature names\n",
      "  warnings.warn(\n"
     ]
    }
   ],
   "source": [
    "import joblib\n",
    "\n",
    "model = joblib.load('model_randon_forest.pkl')\n",
    "\n",
    "def predict(file_path):\n",
    "    features = extract_features(file_path)\n",
    "    features = np.array(features).reshape(1, -1)\n",
    "    prediction = model.predict(features)\n",
    "    return prediction[0]\n",
    "\n",
    "new_audio_signal = \"H:/My Drive/Task 2 - Feature Extarction/kashish_mru.wav\"\n",
    "prediction = predict(new_audio_signal)\n",
    "print(\"The prediction for \",new_audio_signal,\" is \",prediction)"
   ]
  },
  {
   "cell_type": "markdown",
   "id": "c2935f96",
   "metadata": {},
   "source": [
    "## SUPPORT VECTOR MACHINE"
   ]
  },
  {
   "cell_type": "code",
   "execution_count": 32,
   "id": "f4892d07",
   "metadata": {},
   "outputs": [],
   "source": [
    "import pandas as pd\n",
    "from sklearn.model_selection import train_test_split\n",
    "from sklearn.svm import SVC\n",
    "from sklearn.metrics import accuracy_score, precision_score, recall_score, f1_score\n",
    "import joblib"
   ]
  },
  {
   "cell_type": "code",
   "execution_count": 33,
   "id": "e40eefa4",
   "metadata": {},
   "outputs": [],
   "source": [
    "df = pd.read_csv('feature_extraction.csv')"
   ]
  },
  {
   "cell_type": "code",
   "execution_count": 34,
   "id": "f06e51e0",
   "metadata": {},
   "outputs": [
    {
     "data": {
      "text/html": [
       "<div>\n",
       "<style scoped>\n",
       "    .dataframe tbody tr th:only-of-type {\n",
       "        vertical-align: middle;\n",
       "    }\n",
       "\n",
       "    .dataframe tbody tr th {\n",
       "        vertical-align: top;\n",
       "    }\n",
       "\n",
       "    .dataframe thead th {\n",
       "        text-align: right;\n",
       "    }\n",
       "</style>\n",
       "<table border=\"1\" class=\"dataframe\">\n",
       "  <thead>\n",
       "    <tr style=\"text-align: right;\">\n",
       "      <th></th>\n",
       "      <th>zcr</th>\n",
       "      <th>spectral_centroid</th>\n",
       "      <th>spectral_bandwidth</th>\n",
       "      <th>spectral_contrast</th>\n",
       "      <th>spectral_rolloff</th>\n",
       "      <th>rms_energy</th>\n",
       "      <th>mfcc_1</th>\n",
       "      <th>mfcc_2</th>\n",
       "      <th>mfcc_3</th>\n",
       "      <th>mfcc_4</th>\n",
       "      <th>...</th>\n",
       "      <th>mfcc_13</th>\n",
       "      <th>mfcc_14</th>\n",
       "      <th>mfcc_15</th>\n",
       "      <th>mfcc_16</th>\n",
       "      <th>mfcc_17</th>\n",
       "      <th>mfcc_18</th>\n",
       "      <th>mfcc_19</th>\n",
       "      <th>mfcc_20</th>\n",
       "      <th>mfcc_21</th>\n",
       "      <th>label</th>\n",
       "    </tr>\n",
       "  </thead>\n",
       "  <tbody>\n",
       "    <tr>\n",
       "      <th>0</th>\n",
       "      <td>0.029213</td>\n",
       "      <td>1112.871564</td>\n",
       "      <td>1604.056017</td>\n",
       "      <td>24.892593</td>\n",
       "      <td>1760.744265</td>\n",
       "      <td>0.081122</td>\n",
       "      <td>-448.81583</td>\n",
       "      <td>122.14291</td>\n",
       "      <td>-30.411432</td>\n",
       "      <td>-21.905825</td>\n",
       "      <td>...</td>\n",
       "      <td>-17.041662</td>\n",
       "      <td>-19.493896</td>\n",
       "      <td>-17.205946</td>\n",
       "      <td>-9.201260</td>\n",
       "      <td>-0.198663</td>\n",
       "      <td>5.860787</td>\n",
       "      <td>7.860169</td>\n",
       "      <td>7.522961</td>\n",
       "      <td>8.683452</td>\n",
       "      <td>non_cough</td>\n",
       "    </tr>\n",
       "    <tr>\n",
       "      <th>1</th>\n",
       "      <td>0.012457</td>\n",
       "      <td>1050.948040</td>\n",
       "      <td>2174.865326</td>\n",
       "      <td>15.973477</td>\n",
       "      <td>1694.400239</td>\n",
       "      <td>0.040163</td>\n",
       "      <td>-412.30994</td>\n",
       "      <td>130.85251</td>\n",
       "      <td>16.608328</td>\n",
       "      <td>69.699390</td>\n",
       "      <td>...</td>\n",
       "      <td>-8.629910</td>\n",
       "      <td>-6.937414</td>\n",
       "      <td>-1.147614</td>\n",
       "      <td>-5.570846</td>\n",
       "      <td>0.199644</td>\n",
       "      <td>1.057782</td>\n",
       "      <td>-6.458854</td>\n",
       "      <td>0.350183</td>\n",
       "      <td>-0.142641</td>\n",
       "      <td>non_cough</td>\n",
       "    </tr>\n",
       "    <tr>\n",
       "      <th>2</th>\n",
       "      <td>0.100690</td>\n",
       "      <td>3195.011947</td>\n",
       "      <td>3049.857138</td>\n",
       "      <td>16.933318</td>\n",
       "      <td>5852.706205</td>\n",
       "      <td>0.109561</td>\n",
       "      <td>-293.02173</td>\n",
       "      <td>150.12302</td>\n",
       "      <td>-19.515726</td>\n",
       "      <td>-0.561357</td>\n",
       "      <td>...</td>\n",
       "      <td>5.950315</td>\n",
       "      <td>-3.206813</td>\n",
       "      <td>-0.501098</td>\n",
       "      <td>-3.582239</td>\n",
       "      <td>-4.231604</td>\n",
       "      <td>2.062259</td>\n",
       "      <td>2.788978</td>\n",
       "      <td>-0.896737</td>\n",
       "      <td>-0.267438</td>\n",
       "      <td>non_cough</td>\n",
       "    </tr>\n",
       "    <tr>\n",
       "      <th>3</th>\n",
       "      <td>0.001611</td>\n",
       "      <td>1067.626882</td>\n",
       "      <td>2618.348851</td>\n",
       "      <td>12.851745</td>\n",
       "      <td>1894.921875</td>\n",
       "      <td>0.250158</td>\n",
       "      <td>-320.02070</td>\n",
       "      <td>119.57776</td>\n",
       "      <td>6.242011</td>\n",
       "      <td>41.371864</td>\n",
       "      <td>...</td>\n",
       "      <td>11.427472</td>\n",
       "      <td>10.879184</td>\n",
       "      <td>10.726569</td>\n",
       "      <td>9.264940</td>\n",
       "      <td>5.624715</td>\n",
       "      <td>2.997437</td>\n",
       "      <td>5.239369</td>\n",
       "      <td>6.776089</td>\n",
       "      <td>3.964313</td>\n",
       "      <td>non_cough</td>\n",
       "    </tr>\n",
       "    <tr>\n",
       "      <th>4</th>\n",
       "      <td>0.044128</td>\n",
       "      <td>2770.453081</td>\n",
       "      <td>2867.777937</td>\n",
       "      <td>19.252790</td>\n",
       "      <td>5707.644653</td>\n",
       "      <td>0.161779</td>\n",
       "      <td>-195.62204</td>\n",
       "      <td>129.60016</td>\n",
       "      <td>-58.906826</td>\n",
       "      <td>52.263382</td>\n",
       "      <td>...</td>\n",
       "      <td>7.825397</td>\n",
       "      <td>-2.478972</td>\n",
       "      <td>6.249976</td>\n",
       "      <td>9.515294</td>\n",
       "      <td>-5.330663</td>\n",
       "      <td>1.446208</td>\n",
       "      <td>-8.028227</td>\n",
       "      <td>-5.254991</td>\n",
       "      <td>-3.608084</td>\n",
       "      <td>non_cough</td>\n",
       "    </tr>\n",
       "    <tr>\n",
       "      <th>...</th>\n",
       "      <td>...</td>\n",
       "      <td>...</td>\n",
       "      <td>...</td>\n",
       "      <td>...</td>\n",
       "      <td>...</td>\n",
       "      <td>...</td>\n",
       "      <td>...</td>\n",
       "      <td>...</td>\n",
       "      <td>...</td>\n",
       "      <td>...</td>\n",
       "      <td>...</td>\n",
       "      <td>...</td>\n",
       "      <td>...</td>\n",
       "      <td>...</td>\n",
       "      <td>...</td>\n",
       "      <td>...</td>\n",
       "      <td>...</td>\n",
       "      <td>...</td>\n",
       "      <td>...</td>\n",
       "      <td>...</td>\n",
       "      <td>...</td>\n",
       "    </tr>\n",
       "    <tr>\n",
       "      <th>857</th>\n",
       "      <td>0.079220</td>\n",
       "      <td>2693.482587</td>\n",
       "      <td>2599.789602</td>\n",
       "      <td>17.428186</td>\n",
       "      <td>4800.445662</td>\n",
       "      <td>0.040164</td>\n",
       "      <td>-300.02795</td>\n",
       "      <td>155.08849</td>\n",
       "      <td>-66.840660</td>\n",
       "      <td>20.671022</td>\n",
       "      <td>...</td>\n",
       "      <td>-8.014601</td>\n",
       "      <td>6.603203</td>\n",
       "      <td>-1.622552</td>\n",
       "      <td>-0.095497</td>\n",
       "      <td>5.154353</td>\n",
       "      <td>-5.718300</td>\n",
       "      <td>1.815212</td>\n",
       "      <td>-5.435640</td>\n",
       "      <td>-2.056177</td>\n",
       "      <td>cough</td>\n",
       "    </tr>\n",
       "    <tr>\n",
       "      <th>858</th>\n",
       "      <td>0.086063</td>\n",
       "      <td>4237.359232</td>\n",
       "      <td>4647.301584</td>\n",
       "      <td>17.323820</td>\n",
       "      <td>8733.250537</td>\n",
       "      <td>0.014105</td>\n",
       "      <td>-427.93470</td>\n",
       "      <td>102.49376</td>\n",
       "      <td>-26.879637</td>\n",
       "      <td>7.111455</td>\n",
       "      <td>...</td>\n",
       "      <td>-19.243622</td>\n",
       "      <td>-7.554722</td>\n",
       "      <td>-6.590545</td>\n",
       "      <td>-4.727139</td>\n",
       "      <td>-4.538400</td>\n",
       "      <td>-4.069426</td>\n",
       "      <td>-5.873992</td>\n",
       "      <td>-1.550436</td>\n",
       "      <td>-5.683088</td>\n",
       "      <td>cough</td>\n",
       "    </tr>\n",
       "    <tr>\n",
       "      <th>859</th>\n",
       "      <td>0.024711</td>\n",
       "      <td>1195.888758</td>\n",
       "      <td>1972.589472</td>\n",
       "      <td>17.095105</td>\n",
       "      <td>2294.282131</td>\n",
       "      <td>0.078553</td>\n",
       "      <td>-306.71332</td>\n",
       "      <td>169.64798</td>\n",
       "      <td>5.926561</td>\n",
       "      <td>-17.236458</td>\n",
       "      <td>...</td>\n",
       "      <td>4.376550</td>\n",
       "      <td>-4.724573</td>\n",
       "      <td>4.331160</td>\n",
       "      <td>9.613692</td>\n",
       "      <td>1.660168</td>\n",
       "      <td>1.348640</td>\n",
       "      <td>6.709805</td>\n",
       "      <td>2.372028</td>\n",
       "      <td>-0.943119</td>\n",
       "      <td>cough</td>\n",
       "    </tr>\n",
       "    <tr>\n",
       "      <th>860</th>\n",
       "      <td>0.108596</td>\n",
       "      <td>3871.364219</td>\n",
       "      <td>4093.153195</td>\n",
       "      <td>17.292438</td>\n",
       "      <td>7456.062180</td>\n",
       "      <td>0.011830</td>\n",
       "      <td>-444.11957</td>\n",
       "      <td>127.43482</td>\n",
       "      <td>-37.609917</td>\n",
       "      <td>35.145657</td>\n",
       "      <td>...</td>\n",
       "      <td>2.233887</td>\n",
       "      <td>-0.598832</td>\n",
       "      <td>10.553861</td>\n",
       "      <td>-9.460074</td>\n",
       "      <td>-0.121605</td>\n",
       "      <td>4.381053</td>\n",
       "      <td>-6.817329</td>\n",
       "      <td>2.434754</td>\n",
       "      <td>-3.922333</td>\n",
       "      <td>cough</td>\n",
       "    </tr>\n",
       "    <tr>\n",
       "      <th>861</th>\n",
       "      <td>0.055596</td>\n",
       "      <td>1684.951561</td>\n",
       "      <td>1554.551033</td>\n",
       "      <td>18.466850</td>\n",
       "      <td>2726.325758</td>\n",
       "      <td>0.170683</td>\n",
       "      <td>-212.80153</td>\n",
       "      <td>167.89682</td>\n",
       "      <td>-49.961820</td>\n",
       "      <td>-42.788550</td>\n",
       "      <td>...</td>\n",
       "      <td>1.079924</td>\n",
       "      <td>1.572679</td>\n",
       "      <td>-3.577433</td>\n",
       "      <td>1.724799</td>\n",
       "      <td>4.526328</td>\n",
       "      <td>-3.280967</td>\n",
       "      <td>-0.454278</td>\n",
       "      <td>5.085599</td>\n",
       "      <td>0.560330</td>\n",
       "      <td>cough</td>\n",
       "    </tr>\n",
       "  </tbody>\n",
       "</table>\n",
       "<p>862 rows × 28 columns</p>\n",
       "</div>"
      ],
      "text/plain": [
       "          zcr  spectral_centroid  spectral_bandwidth  spectral_contrast   \n",
       "0    0.029213        1112.871564         1604.056017          24.892593  \\\n",
       "1    0.012457        1050.948040         2174.865326          15.973477   \n",
       "2    0.100690        3195.011947         3049.857138          16.933318   \n",
       "3    0.001611        1067.626882         2618.348851          12.851745   \n",
       "4    0.044128        2770.453081         2867.777937          19.252790   \n",
       "..        ...                ...                 ...                ...   \n",
       "857  0.079220        2693.482587         2599.789602          17.428186   \n",
       "858  0.086063        4237.359232         4647.301584          17.323820   \n",
       "859  0.024711        1195.888758         1972.589472          17.095105   \n",
       "860  0.108596        3871.364219         4093.153195          17.292438   \n",
       "861  0.055596        1684.951561         1554.551033          18.466850   \n",
       "\n",
       "     spectral_rolloff  rms_energy     mfcc_1     mfcc_2     mfcc_3     mfcc_4   \n",
       "0         1760.744265    0.081122 -448.81583  122.14291 -30.411432 -21.905825  \\\n",
       "1         1694.400239    0.040163 -412.30994  130.85251  16.608328  69.699390   \n",
       "2         5852.706205    0.109561 -293.02173  150.12302 -19.515726  -0.561357   \n",
       "3         1894.921875    0.250158 -320.02070  119.57776   6.242011  41.371864   \n",
       "4         5707.644653    0.161779 -195.62204  129.60016 -58.906826  52.263382   \n",
       "..                ...         ...        ...        ...        ...        ...   \n",
       "857       4800.445662    0.040164 -300.02795  155.08849 -66.840660  20.671022   \n",
       "858       8733.250537    0.014105 -427.93470  102.49376 -26.879637   7.111455   \n",
       "859       2294.282131    0.078553 -306.71332  169.64798   5.926561 -17.236458   \n",
       "860       7456.062180    0.011830 -444.11957  127.43482 -37.609917  35.145657   \n",
       "861       2726.325758    0.170683 -212.80153  167.89682 -49.961820 -42.788550   \n",
       "\n",
       "     ...    mfcc_13    mfcc_14    mfcc_15   mfcc_16   mfcc_17   mfcc_18   \n",
       "0    ... -17.041662 -19.493896 -17.205946 -9.201260 -0.198663  5.860787  \\\n",
       "1    ...  -8.629910  -6.937414  -1.147614 -5.570846  0.199644  1.057782   \n",
       "2    ...   5.950315  -3.206813  -0.501098 -3.582239 -4.231604  2.062259   \n",
       "3    ...  11.427472  10.879184  10.726569  9.264940  5.624715  2.997437   \n",
       "4    ...   7.825397  -2.478972   6.249976  9.515294 -5.330663  1.446208   \n",
       "..   ...        ...        ...        ...       ...       ...       ...   \n",
       "857  ...  -8.014601   6.603203  -1.622552 -0.095497  5.154353 -5.718300   \n",
       "858  ... -19.243622  -7.554722  -6.590545 -4.727139 -4.538400 -4.069426   \n",
       "859  ...   4.376550  -4.724573   4.331160  9.613692  1.660168  1.348640   \n",
       "860  ...   2.233887  -0.598832  10.553861 -9.460074 -0.121605  4.381053   \n",
       "861  ...   1.079924   1.572679  -3.577433  1.724799  4.526328 -3.280967   \n",
       "\n",
       "      mfcc_19   mfcc_20   mfcc_21      label  \n",
       "0    7.860169  7.522961  8.683452  non_cough  \n",
       "1   -6.458854  0.350183 -0.142641  non_cough  \n",
       "2    2.788978 -0.896737 -0.267438  non_cough  \n",
       "3    5.239369  6.776089  3.964313  non_cough  \n",
       "4   -8.028227 -5.254991 -3.608084  non_cough  \n",
       "..        ...       ...       ...        ...  \n",
       "857  1.815212 -5.435640 -2.056177      cough  \n",
       "858 -5.873992 -1.550436 -5.683088      cough  \n",
       "859  6.709805  2.372028 -0.943119      cough  \n",
       "860 -6.817329  2.434754 -3.922333      cough  \n",
       "861 -0.454278  5.085599  0.560330      cough  \n",
       "\n",
       "[862 rows x 28 columns]"
      ]
     },
     "execution_count": 34,
     "metadata": {},
     "output_type": "execute_result"
    }
   ],
   "source": [
    "df"
   ]
  },
  {
   "cell_type": "code",
   "execution_count": 35,
   "id": "1736e7ab",
   "metadata": {},
   "outputs": [],
   "source": [
    "X = df.drop(['label'], axis=1)\n",
    "y = df['label']"
   ]
  },
  {
   "cell_type": "code",
   "execution_count": 36,
   "id": "e1fcd053",
   "metadata": {},
   "outputs": [],
   "source": [
    "X_train, X_test, y_train, y_test = train_test_split(X, y, test_size=0.2, random_state=42)"
   ]
  },
  {
   "cell_type": "code",
   "execution_count": 37,
   "id": "6fe3f3fe",
   "metadata": {},
   "outputs": [
    {
     "data": {
      "text/html": [
       "<style>#sk-container-id-2 {color: black;background-color: white;}#sk-container-id-2 pre{padding: 0;}#sk-container-id-2 div.sk-toggleable {background-color: white;}#sk-container-id-2 label.sk-toggleable__label {cursor: pointer;display: block;width: 100%;margin-bottom: 0;padding: 0.3em;box-sizing: border-box;text-align: center;}#sk-container-id-2 label.sk-toggleable__label-arrow:before {content: \"▸\";float: left;margin-right: 0.25em;color: #696969;}#sk-container-id-2 label.sk-toggleable__label-arrow:hover:before {color: black;}#sk-container-id-2 div.sk-estimator:hover label.sk-toggleable__label-arrow:before {color: black;}#sk-container-id-2 div.sk-toggleable__content {max-height: 0;max-width: 0;overflow: hidden;text-align: left;background-color: #f0f8ff;}#sk-container-id-2 div.sk-toggleable__content pre {margin: 0.2em;color: black;border-radius: 0.25em;background-color: #f0f8ff;}#sk-container-id-2 input.sk-toggleable__control:checked~div.sk-toggleable__content {max-height: 200px;max-width: 100%;overflow: auto;}#sk-container-id-2 input.sk-toggleable__control:checked~label.sk-toggleable__label-arrow:before {content: \"▾\";}#sk-container-id-2 div.sk-estimator input.sk-toggleable__control:checked~label.sk-toggleable__label {background-color: #d4ebff;}#sk-container-id-2 div.sk-label input.sk-toggleable__control:checked~label.sk-toggleable__label {background-color: #d4ebff;}#sk-container-id-2 input.sk-hidden--visually {border: 0;clip: rect(1px 1px 1px 1px);clip: rect(1px, 1px, 1px, 1px);height: 1px;margin: -1px;overflow: hidden;padding: 0;position: absolute;width: 1px;}#sk-container-id-2 div.sk-estimator {font-family: monospace;background-color: #f0f8ff;border: 1px dotted black;border-radius: 0.25em;box-sizing: border-box;margin-bottom: 0.5em;}#sk-container-id-2 div.sk-estimator:hover {background-color: #d4ebff;}#sk-container-id-2 div.sk-parallel-item::after {content: \"\";width: 100%;border-bottom: 1px solid gray;flex-grow: 1;}#sk-container-id-2 div.sk-label:hover label.sk-toggleable__label {background-color: #d4ebff;}#sk-container-id-2 div.sk-serial::before {content: \"\";position: absolute;border-left: 1px solid gray;box-sizing: border-box;top: 0;bottom: 0;left: 50%;z-index: 0;}#sk-container-id-2 div.sk-serial {display: flex;flex-direction: column;align-items: center;background-color: white;padding-right: 0.2em;padding-left: 0.2em;position: relative;}#sk-container-id-2 div.sk-item {position: relative;z-index: 1;}#sk-container-id-2 div.sk-parallel {display: flex;align-items: stretch;justify-content: center;background-color: white;position: relative;}#sk-container-id-2 div.sk-item::before, #sk-container-id-2 div.sk-parallel-item::before {content: \"\";position: absolute;border-left: 1px solid gray;box-sizing: border-box;top: 0;bottom: 0;left: 50%;z-index: -1;}#sk-container-id-2 div.sk-parallel-item {display: flex;flex-direction: column;z-index: 1;position: relative;background-color: white;}#sk-container-id-2 div.sk-parallel-item:first-child::after {align-self: flex-end;width: 50%;}#sk-container-id-2 div.sk-parallel-item:last-child::after {align-self: flex-start;width: 50%;}#sk-container-id-2 div.sk-parallel-item:only-child::after {width: 0;}#sk-container-id-2 div.sk-dashed-wrapped {border: 1px dashed gray;margin: 0 0.4em 0.5em 0.4em;box-sizing: border-box;padding-bottom: 0.4em;background-color: white;}#sk-container-id-2 div.sk-label label {font-family: monospace;font-weight: bold;display: inline-block;line-height: 1.2em;}#sk-container-id-2 div.sk-label-container {text-align: center;}#sk-container-id-2 div.sk-container {/* jupyter's `normalize.less` sets `[hidden] { display: none; }` but bootstrap.min.css set `[hidden] { display: none !important; }` so we also need the `!important` here to be able to override the default hidden behavior on the sphinx rendered scikit-learn.org. See: https://github.com/scikit-learn/scikit-learn/issues/21755 */display: inline-block !important;position: relative;}#sk-container-id-2 div.sk-text-repr-fallback {display: none;}</style><div id=\"sk-container-id-2\" class=\"sk-top-container\"><div class=\"sk-text-repr-fallback\"><pre>SVC(kernel=&#x27;linear&#x27;, random_state=42)</pre><b>In a Jupyter environment, please rerun this cell to show the HTML representation or trust the notebook. <br />On GitHub, the HTML representation is unable to render, please try loading this page with nbviewer.org.</b></div><div class=\"sk-container\" hidden><div class=\"sk-item\"><div class=\"sk-estimator sk-toggleable\"><input class=\"sk-toggleable__control sk-hidden--visually\" id=\"sk-estimator-id-2\" type=\"checkbox\" checked><label for=\"sk-estimator-id-2\" class=\"sk-toggleable__label sk-toggleable__label-arrow\">SVC</label><div class=\"sk-toggleable__content\"><pre>SVC(kernel=&#x27;linear&#x27;, random_state=42)</pre></div></div></div></div></div>"
      ],
      "text/plain": [
       "SVC(kernel='linear', random_state=42)"
      ]
     },
     "execution_count": 37,
     "metadata": {},
     "output_type": "execute_result"
    }
   ],
   "source": [
    "svm_model = SVC(kernel='linear', random_state=42)\n",
    "svm_model.fit(X_train, y_train)"
   ]
  },
  {
   "cell_type": "code",
   "execution_count": 38,
   "id": "2eaae160",
   "metadata": {},
   "outputs": [],
   "source": [
    "y_pred = svm_model.predict(X_test)"
   ]
  },
  {
   "cell_type": "code",
   "execution_count": 39,
   "id": "7004ad7d",
   "metadata": {},
   "outputs": [],
   "source": [
    "acc = accuracy_score(y_test, y_pred)\n",
    "p = precision_score(y_test, y_pred, average='macro')\n",
    "r = recall_score(y_test, y_pred, average='macro')\n",
    "f1 = f1_score(y_test, y_pred, average='macro')"
   ]
  },
  {
   "cell_type": "code",
   "execution_count": 40,
   "id": "08c51fdb",
   "metadata": {},
   "outputs": [
    {
     "name": "stdout",
     "output_type": "stream",
     "text": [
      "Accuracy: 0.71\n",
      "Precision: 0.71\n",
      "Recall: 0.71\n",
      "F1 Score: 0.71\n"
     ]
    }
   ],
   "source": [
    "print(\"Accuracy: {:.2f}\".format(acc))\n",
    "print(\"Precision: {:.2f}\".format(p))\n",
    "print(\"Recall: {:.2f}\".format(r))\n",
    "print(\"F1 Score: {:.2f}\".format(f1))"
   ]
  },
  {
   "cell_type": "code",
   "execution_count": 41,
   "id": "87bbf489",
   "metadata": {},
   "outputs": [
    {
     "data": {
      "text/plain": [
       "['svm_model.pkl']"
      ]
     },
     "execution_count": 41,
     "metadata": {},
     "output_type": "execute_result"
    }
   ],
   "source": [
    "joblib.dump(svm_model, 'svm_model.pkl')"
   ]
  },
  {
   "cell_type": "markdown",
   "id": "eb3965de",
   "metadata": {},
   "source": [
    "### PREDICTION"
   ]
  },
  {
   "cell_type": "code",
   "execution_count": 42,
   "id": "afdd6f53",
   "metadata": {},
   "outputs": [
    {
     "name": "stdout",
     "output_type": "stream",
     "text": [
      "The prediction for  H:/My Drive/Task 2 - Feature Extarction/kashish_mru.wav  is  non_cough\n"
     ]
    },
    {
     "name": "stderr",
     "output_type": "stream",
     "text": [
      "C:\\Users\\pavan\\AppData\\Local\\Programs\\Python\\Python310\\lib\\site-packages\\sklearn\\base.py:439: UserWarning: X does not have valid feature names, but SVC was fitted with feature names\n",
      "  warnings.warn(\n"
     ]
    }
   ],
   "source": [
    "import joblib\n",
    "\n",
    "model = joblib.load('svm_model.pkl')\n",
    "\n",
    "def predict(file_path):\n",
    "    features = extract_features(file_path)\n",
    "    features = np.array(features).reshape(1, -1)\n",
    "    prediction = model.predict(features)\n",
    "    return prediction[0]\n",
    "\n",
    "new_audio_signal = \"H:/My Drive/Task 2 - Feature Extarction/kashish_mru.wav\"\n",
    "prediction = predict(new_audio_signal)\n",
    "print(\"The prediction for \",new_audio_signal,\" is \",prediction)"
   ]
  },
  {
   "cell_type": "markdown",
   "id": "495d32e4",
   "metadata": {},
   "source": [
    "## GRADIENT BOOSTING CLASSIFIER"
   ]
  },
  {
   "cell_type": "code",
   "execution_count": 43,
   "id": "fe977eae",
   "metadata": {},
   "outputs": [],
   "source": [
    "import pandas as pd\n",
    "from sklearn.model_selection import train_test_split\n",
    "from sklearn.ensemble import GradientBoostingClassifier\n",
    "from sklearn.metrics import accuracy_score, precision_score, recall_score, f1_score\n",
    "import joblib"
   ]
  },
  {
   "cell_type": "code",
   "execution_count": 44,
   "id": "0b4cb3ff",
   "metadata": {},
   "outputs": [],
   "source": [
    "df = pd.read_csv('feature_extraction.csv')"
   ]
  },
  {
   "cell_type": "code",
   "execution_count": 45,
   "id": "0406b98a",
   "metadata": {},
   "outputs": [
    {
     "data": {
      "text/html": [
       "<div>\n",
       "<style scoped>\n",
       "    .dataframe tbody tr th:only-of-type {\n",
       "        vertical-align: middle;\n",
       "    }\n",
       "\n",
       "    .dataframe tbody tr th {\n",
       "        vertical-align: top;\n",
       "    }\n",
       "\n",
       "    .dataframe thead th {\n",
       "        text-align: right;\n",
       "    }\n",
       "</style>\n",
       "<table border=\"1\" class=\"dataframe\">\n",
       "  <thead>\n",
       "    <tr style=\"text-align: right;\">\n",
       "      <th></th>\n",
       "      <th>zcr</th>\n",
       "      <th>spectral_centroid</th>\n",
       "      <th>spectral_bandwidth</th>\n",
       "      <th>spectral_contrast</th>\n",
       "      <th>spectral_rolloff</th>\n",
       "      <th>rms_energy</th>\n",
       "      <th>mfcc_1</th>\n",
       "      <th>mfcc_2</th>\n",
       "      <th>mfcc_3</th>\n",
       "      <th>mfcc_4</th>\n",
       "      <th>...</th>\n",
       "      <th>mfcc_13</th>\n",
       "      <th>mfcc_14</th>\n",
       "      <th>mfcc_15</th>\n",
       "      <th>mfcc_16</th>\n",
       "      <th>mfcc_17</th>\n",
       "      <th>mfcc_18</th>\n",
       "      <th>mfcc_19</th>\n",
       "      <th>mfcc_20</th>\n",
       "      <th>mfcc_21</th>\n",
       "      <th>label</th>\n",
       "    </tr>\n",
       "  </thead>\n",
       "  <tbody>\n",
       "    <tr>\n",
       "      <th>0</th>\n",
       "      <td>0.029213</td>\n",
       "      <td>1112.871564</td>\n",
       "      <td>1604.056017</td>\n",
       "      <td>24.892593</td>\n",
       "      <td>1760.744265</td>\n",
       "      <td>0.081122</td>\n",
       "      <td>-448.81583</td>\n",
       "      <td>122.14291</td>\n",
       "      <td>-30.411432</td>\n",
       "      <td>-21.905825</td>\n",
       "      <td>...</td>\n",
       "      <td>-17.041662</td>\n",
       "      <td>-19.493896</td>\n",
       "      <td>-17.205946</td>\n",
       "      <td>-9.201260</td>\n",
       "      <td>-0.198663</td>\n",
       "      <td>5.860787</td>\n",
       "      <td>7.860169</td>\n",
       "      <td>7.522961</td>\n",
       "      <td>8.683452</td>\n",
       "      <td>non_cough</td>\n",
       "    </tr>\n",
       "    <tr>\n",
       "      <th>1</th>\n",
       "      <td>0.012457</td>\n",
       "      <td>1050.948040</td>\n",
       "      <td>2174.865326</td>\n",
       "      <td>15.973477</td>\n",
       "      <td>1694.400239</td>\n",
       "      <td>0.040163</td>\n",
       "      <td>-412.30994</td>\n",
       "      <td>130.85251</td>\n",
       "      <td>16.608328</td>\n",
       "      <td>69.699390</td>\n",
       "      <td>...</td>\n",
       "      <td>-8.629910</td>\n",
       "      <td>-6.937414</td>\n",
       "      <td>-1.147614</td>\n",
       "      <td>-5.570846</td>\n",
       "      <td>0.199644</td>\n",
       "      <td>1.057782</td>\n",
       "      <td>-6.458854</td>\n",
       "      <td>0.350183</td>\n",
       "      <td>-0.142641</td>\n",
       "      <td>non_cough</td>\n",
       "    </tr>\n",
       "    <tr>\n",
       "      <th>2</th>\n",
       "      <td>0.100690</td>\n",
       "      <td>3195.011947</td>\n",
       "      <td>3049.857138</td>\n",
       "      <td>16.933318</td>\n",
       "      <td>5852.706205</td>\n",
       "      <td>0.109561</td>\n",
       "      <td>-293.02173</td>\n",
       "      <td>150.12302</td>\n",
       "      <td>-19.515726</td>\n",
       "      <td>-0.561357</td>\n",
       "      <td>...</td>\n",
       "      <td>5.950315</td>\n",
       "      <td>-3.206813</td>\n",
       "      <td>-0.501098</td>\n",
       "      <td>-3.582239</td>\n",
       "      <td>-4.231604</td>\n",
       "      <td>2.062259</td>\n",
       "      <td>2.788978</td>\n",
       "      <td>-0.896737</td>\n",
       "      <td>-0.267438</td>\n",
       "      <td>non_cough</td>\n",
       "    </tr>\n",
       "    <tr>\n",
       "      <th>3</th>\n",
       "      <td>0.001611</td>\n",
       "      <td>1067.626882</td>\n",
       "      <td>2618.348851</td>\n",
       "      <td>12.851745</td>\n",
       "      <td>1894.921875</td>\n",
       "      <td>0.250158</td>\n",
       "      <td>-320.02070</td>\n",
       "      <td>119.57776</td>\n",
       "      <td>6.242011</td>\n",
       "      <td>41.371864</td>\n",
       "      <td>...</td>\n",
       "      <td>11.427472</td>\n",
       "      <td>10.879184</td>\n",
       "      <td>10.726569</td>\n",
       "      <td>9.264940</td>\n",
       "      <td>5.624715</td>\n",
       "      <td>2.997437</td>\n",
       "      <td>5.239369</td>\n",
       "      <td>6.776089</td>\n",
       "      <td>3.964313</td>\n",
       "      <td>non_cough</td>\n",
       "    </tr>\n",
       "    <tr>\n",
       "      <th>4</th>\n",
       "      <td>0.044128</td>\n",
       "      <td>2770.453081</td>\n",
       "      <td>2867.777937</td>\n",
       "      <td>19.252790</td>\n",
       "      <td>5707.644653</td>\n",
       "      <td>0.161779</td>\n",
       "      <td>-195.62204</td>\n",
       "      <td>129.60016</td>\n",
       "      <td>-58.906826</td>\n",
       "      <td>52.263382</td>\n",
       "      <td>...</td>\n",
       "      <td>7.825397</td>\n",
       "      <td>-2.478972</td>\n",
       "      <td>6.249976</td>\n",
       "      <td>9.515294</td>\n",
       "      <td>-5.330663</td>\n",
       "      <td>1.446208</td>\n",
       "      <td>-8.028227</td>\n",
       "      <td>-5.254991</td>\n",
       "      <td>-3.608084</td>\n",
       "      <td>non_cough</td>\n",
       "    </tr>\n",
       "    <tr>\n",
       "      <th>...</th>\n",
       "      <td>...</td>\n",
       "      <td>...</td>\n",
       "      <td>...</td>\n",
       "      <td>...</td>\n",
       "      <td>...</td>\n",
       "      <td>...</td>\n",
       "      <td>...</td>\n",
       "      <td>...</td>\n",
       "      <td>...</td>\n",
       "      <td>...</td>\n",
       "      <td>...</td>\n",
       "      <td>...</td>\n",
       "      <td>...</td>\n",
       "      <td>...</td>\n",
       "      <td>...</td>\n",
       "      <td>...</td>\n",
       "      <td>...</td>\n",
       "      <td>...</td>\n",
       "      <td>...</td>\n",
       "      <td>...</td>\n",
       "      <td>...</td>\n",
       "    </tr>\n",
       "    <tr>\n",
       "      <th>857</th>\n",
       "      <td>0.079220</td>\n",
       "      <td>2693.482587</td>\n",
       "      <td>2599.789602</td>\n",
       "      <td>17.428186</td>\n",
       "      <td>4800.445662</td>\n",
       "      <td>0.040164</td>\n",
       "      <td>-300.02795</td>\n",
       "      <td>155.08849</td>\n",
       "      <td>-66.840660</td>\n",
       "      <td>20.671022</td>\n",
       "      <td>...</td>\n",
       "      <td>-8.014601</td>\n",
       "      <td>6.603203</td>\n",
       "      <td>-1.622552</td>\n",
       "      <td>-0.095497</td>\n",
       "      <td>5.154353</td>\n",
       "      <td>-5.718300</td>\n",
       "      <td>1.815212</td>\n",
       "      <td>-5.435640</td>\n",
       "      <td>-2.056177</td>\n",
       "      <td>cough</td>\n",
       "    </tr>\n",
       "    <tr>\n",
       "      <th>858</th>\n",
       "      <td>0.086063</td>\n",
       "      <td>4237.359232</td>\n",
       "      <td>4647.301584</td>\n",
       "      <td>17.323820</td>\n",
       "      <td>8733.250537</td>\n",
       "      <td>0.014105</td>\n",
       "      <td>-427.93470</td>\n",
       "      <td>102.49376</td>\n",
       "      <td>-26.879637</td>\n",
       "      <td>7.111455</td>\n",
       "      <td>...</td>\n",
       "      <td>-19.243622</td>\n",
       "      <td>-7.554722</td>\n",
       "      <td>-6.590545</td>\n",
       "      <td>-4.727139</td>\n",
       "      <td>-4.538400</td>\n",
       "      <td>-4.069426</td>\n",
       "      <td>-5.873992</td>\n",
       "      <td>-1.550436</td>\n",
       "      <td>-5.683088</td>\n",
       "      <td>cough</td>\n",
       "    </tr>\n",
       "    <tr>\n",
       "      <th>859</th>\n",
       "      <td>0.024711</td>\n",
       "      <td>1195.888758</td>\n",
       "      <td>1972.589472</td>\n",
       "      <td>17.095105</td>\n",
       "      <td>2294.282131</td>\n",
       "      <td>0.078553</td>\n",
       "      <td>-306.71332</td>\n",
       "      <td>169.64798</td>\n",
       "      <td>5.926561</td>\n",
       "      <td>-17.236458</td>\n",
       "      <td>...</td>\n",
       "      <td>4.376550</td>\n",
       "      <td>-4.724573</td>\n",
       "      <td>4.331160</td>\n",
       "      <td>9.613692</td>\n",
       "      <td>1.660168</td>\n",
       "      <td>1.348640</td>\n",
       "      <td>6.709805</td>\n",
       "      <td>2.372028</td>\n",
       "      <td>-0.943119</td>\n",
       "      <td>cough</td>\n",
       "    </tr>\n",
       "    <tr>\n",
       "      <th>860</th>\n",
       "      <td>0.108596</td>\n",
       "      <td>3871.364219</td>\n",
       "      <td>4093.153195</td>\n",
       "      <td>17.292438</td>\n",
       "      <td>7456.062180</td>\n",
       "      <td>0.011830</td>\n",
       "      <td>-444.11957</td>\n",
       "      <td>127.43482</td>\n",
       "      <td>-37.609917</td>\n",
       "      <td>35.145657</td>\n",
       "      <td>...</td>\n",
       "      <td>2.233887</td>\n",
       "      <td>-0.598832</td>\n",
       "      <td>10.553861</td>\n",
       "      <td>-9.460074</td>\n",
       "      <td>-0.121605</td>\n",
       "      <td>4.381053</td>\n",
       "      <td>-6.817329</td>\n",
       "      <td>2.434754</td>\n",
       "      <td>-3.922333</td>\n",
       "      <td>cough</td>\n",
       "    </tr>\n",
       "    <tr>\n",
       "      <th>861</th>\n",
       "      <td>0.055596</td>\n",
       "      <td>1684.951561</td>\n",
       "      <td>1554.551033</td>\n",
       "      <td>18.466850</td>\n",
       "      <td>2726.325758</td>\n",
       "      <td>0.170683</td>\n",
       "      <td>-212.80153</td>\n",
       "      <td>167.89682</td>\n",
       "      <td>-49.961820</td>\n",
       "      <td>-42.788550</td>\n",
       "      <td>...</td>\n",
       "      <td>1.079924</td>\n",
       "      <td>1.572679</td>\n",
       "      <td>-3.577433</td>\n",
       "      <td>1.724799</td>\n",
       "      <td>4.526328</td>\n",
       "      <td>-3.280967</td>\n",
       "      <td>-0.454278</td>\n",
       "      <td>5.085599</td>\n",
       "      <td>0.560330</td>\n",
       "      <td>cough</td>\n",
       "    </tr>\n",
       "  </tbody>\n",
       "</table>\n",
       "<p>862 rows × 28 columns</p>\n",
       "</div>"
      ],
      "text/plain": [
       "          zcr  spectral_centroid  spectral_bandwidth  spectral_contrast   \n",
       "0    0.029213        1112.871564         1604.056017          24.892593  \\\n",
       "1    0.012457        1050.948040         2174.865326          15.973477   \n",
       "2    0.100690        3195.011947         3049.857138          16.933318   \n",
       "3    0.001611        1067.626882         2618.348851          12.851745   \n",
       "4    0.044128        2770.453081         2867.777937          19.252790   \n",
       "..        ...                ...                 ...                ...   \n",
       "857  0.079220        2693.482587         2599.789602          17.428186   \n",
       "858  0.086063        4237.359232         4647.301584          17.323820   \n",
       "859  0.024711        1195.888758         1972.589472          17.095105   \n",
       "860  0.108596        3871.364219         4093.153195          17.292438   \n",
       "861  0.055596        1684.951561         1554.551033          18.466850   \n",
       "\n",
       "     spectral_rolloff  rms_energy     mfcc_1     mfcc_2     mfcc_3     mfcc_4   \n",
       "0         1760.744265    0.081122 -448.81583  122.14291 -30.411432 -21.905825  \\\n",
       "1         1694.400239    0.040163 -412.30994  130.85251  16.608328  69.699390   \n",
       "2         5852.706205    0.109561 -293.02173  150.12302 -19.515726  -0.561357   \n",
       "3         1894.921875    0.250158 -320.02070  119.57776   6.242011  41.371864   \n",
       "4         5707.644653    0.161779 -195.62204  129.60016 -58.906826  52.263382   \n",
       "..                ...         ...        ...        ...        ...        ...   \n",
       "857       4800.445662    0.040164 -300.02795  155.08849 -66.840660  20.671022   \n",
       "858       8733.250537    0.014105 -427.93470  102.49376 -26.879637   7.111455   \n",
       "859       2294.282131    0.078553 -306.71332  169.64798   5.926561 -17.236458   \n",
       "860       7456.062180    0.011830 -444.11957  127.43482 -37.609917  35.145657   \n",
       "861       2726.325758    0.170683 -212.80153  167.89682 -49.961820 -42.788550   \n",
       "\n",
       "     ...    mfcc_13    mfcc_14    mfcc_15   mfcc_16   mfcc_17   mfcc_18   \n",
       "0    ... -17.041662 -19.493896 -17.205946 -9.201260 -0.198663  5.860787  \\\n",
       "1    ...  -8.629910  -6.937414  -1.147614 -5.570846  0.199644  1.057782   \n",
       "2    ...   5.950315  -3.206813  -0.501098 -3.582239 -4.231604  2.062259   \n",
       "3    ...  11.427472  10.879184  10.726569  9.264940  5.624715  2.997437   \n",
       "4    ...   7.825397  -2.478972   6.249976  9.515294 -5.330663  1.446208   \n",
       "..   ...        ...        ...        ...       ...       ...       ...   \n",
       "857  ...  -8.014601   6.603203  -1.622552 -0.095497  5.154353 -5.718300   \n",
       "858  ... -19.243622  -7.554722  -6.590545 -4.727139 -4.538400 -4.069426   \n",
       "859  ...   4.376550  -4.724573   4.331160  9.613692  1.660168  1.348640   \n",
       "860  ...   2.233887  -0.598832  10.553861 -9.460074 -0.121605  4.381053   \n",
       "861  ...   1.079924   1.572679  -3.577433  1.724799  4.526328 -3.280967   \n",
       "\n",
       "      mfcc_19   mfcc_20   mfcc_21      label  \n",
       "0    7.860169  7.522961  8.683452  non_cough  \n",
       "1   -6.458854  0.350183 -0.142641  non_cough  \n",
       "2    2.788978 -0.896737 -0.267438  non_cough  \n",
       "3    5.239369  6.776089  3.964313  non_cough  \n",
       "4   -8.028227 -5.254991 -3.608084  non_cough  \n",
       "..        ...       ...       ...        ...  \n",
       "857  1.815212 -5.435640 -2.056177      cough  \n",
       "858 -5.873992 -1.550436 -5.683088      cough  \n",
       "859  6.709805  2.372028 -0.943119      cough  \n",
       "860 -6.817329  2.434754 -3.922333      cough  \n",
       "861 -0.454278  5.085599  0.560330      cough  \n",
       "\n",
       "[862 rows x 28 columns]"
      ]
     },
     "execution_count": 45,
     "metadata": {},
     "output_type": "execute_result"
    }
   ],
   "source": [
    "df"
   ]
  },
  {
   "cell_type": "code",
   "execution_count": 46,
   "id": "d24a502d",
   "metadata": {},
   "outputs": [],
   "source": [
    "X = df.drop(['label'], axis=1)\n",
    "y = df['label']"
   ]
  },
  {
   "cell_type": "code",
   "execution_count": 47,
   "id": "b43b5945",
   "metadata": {},
   "outputs": [],
   "source": [
    "X_train, X_test, y_train, y_test = train_test_split(X, y, test_size=0.2, random_state=42)"
   ]
  },
  {
   "cell_type": "code",
   "execution_count": 48,
   "id": "b443f464",
   "metadata": {},
   "outputs": [
    {
     "data": {
      "text/plain": [
       "(689, 27)"
      ]
     },
     "execution_count": 48,
     "metadata": {},
     "output_type": "execute_result"
    }
   ],
   "source": [
    "X_train.shape"
   ]
  },
  {
   "cell_type": "code",
   "execution_count": 49,
   "id": "9cc0c80d",
   "metadata": {},
   "outputs": [
    {
     "data": {
      "text/plain": [
       "(173, 27)"
      ]
     },
     "execution_count": 49,
     "metadata": {},
     "output_type": "execute_result"
    }
   ],
   "source": [
    "X_test.shape"
   ]
  },
  {
   "cell_type": "code",
   "execution_count": 50,
   "id": "08b99b92",
   "metadata": {},
   "outputs": [
    {
     "data": {
      "text/html": [
       "<style>#sk-container-id-3 {color: black;background-color: white;}#sk-container-id-3 pre{padding: 0;}#sk-container-id-3 div.sk-toggleable {background-color: white;}#sk-container-id-3 label.sk-toggleable__label {cursor: pointer;display: block;width: 100%;margin-bottom: 0;padding: 0.3em;box-sizing: border-box;text-align: center;}#sk-container-id-3 label.sk-toggleable__label-arrow:before {content: \"▸\";float: left;margin-right: 0.25em;color: #696969;}#sk-container-id-3 label.sk-toggleable__label-arrow:hover:before {color: black;}#sk-container-id-3 div.sk-estimator:hover label.sk-toggleable__label-arrow:before {color: black;}#sk-container-id-3 div.sk-toggleable__content {max-height: 0;max-width: 0;overflow: hidden;text-align: left;background-color: #f0f8ff;}#sk-container-id-3 div.sk-toggleable__content pre {margin: 0.2em;color: black;border-radius: 0.25em;background-color: #f0f8ff;}#sk-container-id-3 input.sk-toggleable__control:checked~div.sk-toggleable__content {max-height: 200px;max-width: 100%;overflow: auto;}#sk-container-id-3 input.sk-toggleable__control:checked~label.sk-toggleable__label-arrow:before {content: \"▾\";}#sk-container-id-3 div.sk-estimator input.sk-toggleable__control:checked~label.sk-toggleable__label {background-color: #d4ebff;}#sk-container-id-3 div.sk-label input.sk-toggleable__control:checked~label.sk-toggleable__label {background-color: #d4ebff;}#sk-container-id-3 input.sk-hidden--visually {border: 0;clip: rect(1px 1px 1px 1px);clip: rect(1px, 1px, 1px, 1px);height: 1px;margin: -1px;overflow: hidden;padding: 0;position: absolute;width: 1px;}#sk-container-id-3 div.sk-estimator {font-family: monospace;background-color: #f0f8ff;border: 1px dotted black;border-radius: 0.25em;box-sizing: border-box;margin-bottom: 0.5em;}#sk-container-id-3 div.sk-estimator:hover {background-color: #d4ebff;}#sk-container-id-3 div.sk-parallel-item::after {content: \"\";width: 100%;border-bottom: 1px solid gray;flex-grow: 1;}#sk-container-id-3 div.sk-label:hover label.sk-toggleable__label {background-color: #d4ebff;}#sk-container-id-3 div.sk-serial::before {content: \"\";position: absolute;border-left: 1px solid gray;box-sizing: border-box;top: 0;bottom: 0;left: 50%;z-index: 0;}#sk-container-id-3 div.sk-serial {display: flex;flex-direction: column;align-items: center;background-color: white;padding-right: 0.2em;padding-left: 0.2em;position: relative;}#sk-container-id-3 div.sk-item {position: relative;z-index: 1;}#sk-container-id-3 div.sk-parallel {display: flex;align-items: stretch;justify-content: center;background-color: white;position: relative;}#sk-container-id-3 div.sk-item::before, #sk-container-id-3 div.sk-parallel-item::before {content: \"\";position: absolute;border-left: 1px solid gray;box-sizing: border-box;top: 0;bottom: 0;left: 50%;z-index: -1;}#sk-container-id-3 div.sk-parallel-item {display: flex;flex-direction: column;z-index: 1;position: relative;background-color: white;}#sk-container-id-3 div.sk-parallel-item:first-child::after {align-self: flex-end;width: 50%;}#sk-container-id-3 div.sk-parallel-item:last-child::after {align-self: flex-start;width: 50%;}#sk-container-id-3 div.sk-parallel-item:only-child::after {width: 0;}#sk-container-id-3 div.sk-dashed-wrapped {border: 1px dashed gray;margin: 0 0.4em 0.5em 0.4em;box-sizing: border-box;padding-bottom: 0.4em;background-color: white;}#sk-container-id-3 div.sk-label label {font-family: monospace;font-weight: bold;display: inline-block;line-height: 1.2em;}#sk-container-id-3 div.sk-label-container {text-align: center;}#sk-container-id-3 div.sk-container {/* jupyter's `normalize.less` sets `[hidden] { display: none; }` but bootstrap.min.css set `[hidden] { display: none !important; }` so we also need the `!important` here to be able to override the default hidden behavior on the sphinx rendered scikit-learn.org. See: https://github.com/scikit-learn/scikit-learn/issues/21755 */display: inline-block !important;position: relative;}#sk-container-id-3 div.sk-text-repr-fallback {display: none;}</style><div id=\"sk-container-id-3\" class=\"sk-top-container\"><div class=\"sk-text-repr-fallback\"><pre>GradientBoostingClassifier(random_state=42)</pre><b>In a Jupyter environment, please rerun this cell to show the HTML representation or trust the notebook. <br />On GitHub, the HTML representation is unable to render, please try loading this page with nbviewer.org.</b></div><div class=\"sk-container\" hidden><div class=\"sk-item\"><div class=\"sk-estimator sk-toggleable\"><input class=\"sk-toggleable__control sk-hidden--visually\" id=\"sk-estimator-id-3\" type=\"checkbox\" checked><label for=\"sk-estimator-id-3\" class=\"sk-toggleable__label sk-toggleable__label-arrow\">GradientBoostingClassifier</label><div class=\"sk-toggleable__content\"><pre>GradientBoostingClassifier(random_state=42)</pre></div></div></div></div></div>"
      ],
      "text/plain": [
       "GradientBoostingClassifier(random_state=42)"
      ]
     },
     "execution_count": 50,
     "metadata": {},
     "output_type": "execute_result"
    }
   ],
   "source": [
    "gbc_model = GradientBoostingClassifier(n_estimators=100, learning_rate=0.1, max_depth=3, random_state=42)\n",
    "gbc_model.fit(X_train, y_train)"
   ]
  },
  {
   "cell_type": "code",
   "execution_count": 51,
   "id": "55df2c17",
   "metadata": {},
   "outputs": [],
   "source": [
    "y_pred = gbc_model.predict(X_test)"
   ]
  },
  {
   "cell_type": "code",
   "execution_count": 52,
   "id": "829de7f8",
   "metadata": {},
   "outputs": [],
   "source": [
    "acc = accuracy_score(y_test, y_pred)\n",
    "p = precision_score(y_test, y_pred, average='macro')\n",
    "r = recall_score(y_test, y_pred, average='macro')\n",
    "f1 = f1_score(y_test, y_pred, average='macro')"
   ]
  },
  {
   "cell_type": "code",
   "execution_count": 53,
   "id": "99c7a3d9",
   "metadata": {},
   "outputs": [
    {
     "name": "stdout",
     "output_type": "stream",
     "text": [
      "Accuracy: 0.86\n",
      "Precision: 0.86\n",
      "Recall: 0.86\n",
      "F1 Score: 0.86\n"
     ]
    }
   ],
   "source": [
    "print(\"Accuracy: {:.2f}\".format(acc))\n",
    "print(\"Precision: {:.2f}\".format(p))\n",
    "print(\"Recall: {:.2f}\".format(r))\n",
    "print(\"F1 Score: {:.2f}\".format(f1))"
   ]
  },
  {
   "cell_type": "code",
   "execution_count": 54,
   "id": "cb5a6a7c",
   "metadata": {},
   "outputs": [
    {
     "data": {
      "text/plain": [
       "['gbc_model.pkl']"
      ]
     },
     "execution_count": 54,
     "metadata": {},
     "output_type": "execute_result"
    }
   ],
   "source": [
    "joblib.dump(gbc_model, 'gbc_model.pkl')"
   ]
  },
  {
   "cell_type": "markdown",
   "id": "99654ff9",
   "metadata": {},
   "source": [
    "### PREDICTION"
   ]
  },
  {
   "cell_type": "code",
   "execution_count": 55,
   "id": "d8844c2d",
   "metadata": {},
   "outputs": [
    {
     "name": "stdout",
     "output_type": "stream",
     "text": [
      "The prediction for  H:/My Drive/Task 2 - Feature Extarction/kashish_mru.wav  is  non_cough\n"
     ]
    },
    {
     "name": "stderr",
     "output_type": "stream",
     "text": [
      "C:\\Users\\pavan\\AppData\\Local\\Programs\\Python\\Python310\\lib\\site-packages\\sklearn\\base.py:439: UserWarning: X does not have valid feature names, but GradientBoostingClassifier was fitted with feature names\n",
      "  warnings.warn(\n"
     ]
    }
   ],
   "source": [
    "import joblib\n",
    "\n",
    "model = joblib.load('gbc_model.pkl')\n",
    "\n",
    "def predict(file_path):\n",
    "    features = extract_features(file_path)\n",
    "    features = np.array(features).reshape(1, -1)\n",
    "    prediction = model.predict(features)\n",
    "    return prediction[0]\n",
    "\n",
    "new_audio_signal = \"H:/My Drive/Task 2 - Feature Extarction/kashish_mru.wav\"\n",
    "prediction = predict(new_audio_signal)\n",
    "print(\"The prediction for \",new_audio_signal,\" is \",prediction)"
   ]
  },
  {
   "cell_type": "markdown",
   "id": "8033486b",
   "metadata": {},
   "source": [
    "## SUPPORT VECTOR MACHINE HYPERPARAMETER TUNING"
   ]
  },
  {
   "cell_type": "code",
   "execution_count": 122,
   "id": "68ef2c22",
   "metadata": {},
   "outputs": [],
   "source": [
    "from sklearn.svm import SVC\n",
    "from sklearn.model_selection import train_test_split, GridSearchCV\n",
    "from sklearn.metrics import accuracy_score, precision_score, recall_score, f1_score\n",
    "from sklearn.preprocessing import StandardScaler\n",
    "import joblib"
   ]
  },
  {
   "cell_type": "code",
   "execution_count": 123,
   "id": "c9db49b9",
   "metadata": {},
   "outputs": [],
   "source": [
    "df = pd.read_csv('feature_extraction.csv')"
   ]
  },
  {
   "cell_type": "code",
   "execution_count": 124,
   "id": "b58b11a7",
   "metadata": {},
   "outputs": [],
   "source": [
    "X = df.drop(['label'], axis=1)\n",
    "y = df['label']"
   ]
  },
  {
   "cell_type": "code",
   "execution_count": 125,
   "id": "2e061ab0",
   "metadata": {},
   "outputs": [],
   "source": [
    "X_train, X_test, y_train, y_test = train_test_split(X, y, test_size=0.2, random_state=42)"
   ]
  },
  {
   "cell_type": "code",
   "execution_count": 126,
   "id": "32ab9711",
   "metadata": {},
   "outputs": [
    {
     "data": {
      "text/plain": [
       "(689, 27)"
      ]
     },
     "execution_count": 126,
     "metadata": {},
     "output_type": "execute_result"
    }
   ],
   "source": [
    "X_train.shape"
   ]
  },
  {
   "cell_type": "code",
   "execution_count": 127,
   "id": "4a48f384",
   "metadata": {},
   "outputs": [
    {
     "data": {
      "text/plain": [
       "(173, 27)"
      ]
     },
     "execution_count": 127,
     "metadata": {},
     "output_type": "execute_result"
    }
   ],
   "source": [
    "X_test.shape"
   ]
  },
  {
   "cell_type": "code",
   "execution_count": 128,
   "id": "6f90ab20",
   "metadata": {},
   "outputs": [],
   "source": [
    "scaler = StandardScaler()\n",
    "X_train_scaled = scaler.fit_transform(X_train)\n",
    "X_test_scaled = scaler.transform(X_test)"
   ]
  },
  {
   "cell_type": "code",
   "execution_count": 129,
   "id": "9982c843",
   "metadata": {},
   "outputs": [],
   "source": [
    "param_grid = {\n",
    "    'C': [0.1, 1, 10, 100], \n",
    "    'gamma': [0.001, 0.01, 0.1, 1], \n",
    "    'kernel': ['linear', 'rbf', 'poly']\n",
    "}"
   ]
  },
  {
   "cell_type": "code",
   "execution_count": 130,
   "id": "73fb4ad1",
   "metadata": {
    "scrolled": false
   },
   "outputs": [
    {
     "name": "stdout",
     "output_type": "stream",
     "text": [
      "Fitting 3 folds for each of 48 candidates, totalling 144 fits\n"
     ]
    },
    {
     "data": {
      "text/html": [
       "<style>#sk-container-id-9 {color: black;background-color: white;}#sk-container-id-9 pre{padding: 0;}#sk-container-id-9 div.sk-toggleable {background-color: white;}#sk-container-id-9 label.sk-toggleable__label {cursor: pointer;display: block;width: 100%;margin-bottom: 0;padding: 0.3em;box-sizing: border-box;text-align: center;}#sk-container-id-9 label.sk-toggleable__label-arrow:before {content: \"▸\";float: left;margin-right: 0.25em;color: #696969;}#sk-container-id-9 label.sk-toggleable__label-arrow:hover:before {color: black;}#sk-container-id-9 div.sk-estimator:hover label.sk-toggleable__label-arrow:before {color: black;}#sk-container-id-9 div.sk-toggleable__content {max-height: 0;max-width: 0;overflow: hidden;text-align: left;background-color: #f0f8ff;}#sk-container-id-9 div.sk-toggleable__content pre {margin: 0.2em;color: black;border-radius: 0.25em;background-color: #f0f8ff;}#sk-container-id-9 input.sk-toggleable__control:checked~div.sk-toggleable__content {max-height: 200px;max-width: 100%;overflow: auto;}#sk-container-id-9 input.sk-toggleable__control:checked~label.sk-toggleable__label-arrow:before {content: \"▾\";}#sk-container-id-9 div.sk-estimator input.sk-toggleable__control:checked~label.sk-toggleable__label {background-color: #d4ebff;}#sk-container-id-9 div.sk-label input.sk-toggleable__control:checked~label.sk-toggleable__label {background-color: #d4ebff;}#sk-container-id-9 input.sk-hidden--visually {border: 0;clip: rect(1px 1px 1px 1px);clip: rect(1px, 1px, 1px, 1px);height: 1px;margin: -1px;overflow: hidden;padding: 0;position: absolute;width: 1px;}#sk-container-id-9 div.sk-estimator {font-family: monospace;background-color: #f0f8ff;border: 1px dotted black;border-radius: 0.25em;box-sizing: border-box;margin-bottom: 0.5em;}#sk-container-id-9 div.sk-estimator:hover {background-color: #d4ebff;}#sk-container-id-9 div.sk-parallel-item::after {content: \"\";width: 100%;border-bottom: 1px solid gray;flex-grow: 1;}#sk-container-id-9 div.sk-label:hover label.sk-toggleable__label {background-color: #d4ebff;}#sk-container-id-9 div.sk-serial::before {content: \"\";position: absolute;border-left: 1px solid gray;box-sizing: border-box;top: 0;bottom: 0;left: 50%;z-index: 0;}#sk-container-id-9 div.sk-serial {display: flex;flex-direction: column;align-items: center;background-color: white;padding-right: 0.2em;padding-left: 0.2em;position: relative;}#sk-container-id-9 div.sk-item {position: relative;z-index: 1;}#sk-container-id-9 div.sk-parallel {display: flex;align-items: stretch;justify-content: center;background-color: white;position: relative;}#sk-container-id-9 div.sk-item::before, #sk-container-id-9 div.sk-parallel-item::before {content: \"\";position: absolute;border-left: 1px solid gray;box-sizing: border-box;top: 0;bottom: 0;left: 50%;z-index: -1;}#sk-container-id-9 div.sk-parallel-item {display: flex;flex-direction: column;z-index: 1;position: relative;background-color: white;}#sk-container-id-9 div.sk-parallel-item:first-child::after {align-self: flex-end;width: 50%;}#sk-container-id-9 div.sk-parallel-item:last-child::after {align-self: flex-start;width: 50%;}#sk-container-id-9 div.sk-parallel-item:only-child::after {width: 0;}#sk-container-id-9 div.sk-dashed-wrapped {border: 1px dashed gray;margin: 0 0.4em 0.5em 0.4em;box-sizing: border-box;padding-bottom: 0.4em;background-color: white;}#sk-container-id-9 div.sk-label label {font-family: monospace;font-weight: bold;display: inline-block;line-height: 1.2em;}#sk-container-id-9 div.sk-label-container {text-align: center;}#sk-container-id-9 div.sk-container {/* jupyter's `normalize.less` sets `[hidden] { display: none; }` but bootstrap.min.css set `[hidden] { display: none !important; }` so we also need the `!important` here to be able to override the default hidden behavior on the sphinx rendered scikit-learn.org. See: https://github.com/scikit-learn/scikit-learn/issues/21755 */display: inline-block !important;position: relative;}#sk-container-id-9 div.sk-text-repr-fallback {display: none;}</style><div id=\"sk-container-id-9\" class=\"sk-top-container\"><div class=\"sk-text-repr-fallback\"><pre>GridSearchCV(cv=3, estimator=SVC(random_state=42), n_jobs=-1,\n",
       "             param_grid={&#x27;C&#x27;: [0.1, 1, 10, 100], &#x27;gamma&#x27;: [0.001, 0.01, 0.1, 1],\n",
       "                         &#x27;kernel&#x27;: [&#x27;linear&#x27;, &#x27;rbf&#x27;, &#x27;poly&#x27;]},\n",
       "             scoring=&#x27;accuracy&#x27;, verbose=2)</pre><b>In a Jupyter environment, please rerun this cell to show the HTML representation or trust the notebook. <br />On GitHub, the HTML representation is unable to render, please try loading this page with nbviewer.org.</b></div><div class=\"sk-container\" hidden><div class=\"sk-item sk-dashed-wrapped\"><div class=\"sk-label-container\"><div class=\"sk-label sk-toggleable\"><input class=\"sk-toggleable__control sk-hidden--visually\" id=\"sk-estimator-id-15\" type=\"checkbox\" ><label for=\"sk-estimator-id-15\" class=\"sk-toggleable__label sk-toggleable__label-arrow\">GridSearchCV</label><div class=\"sk-toggleable__content\"><pre>GridSearchCV(cv=3, estimator=SVC(random_state=42), n_jobs=-1,\n",
       "             param_grid={&#x27;C&#x27;: [0.1, 1, 10, 100], &#x27;gamma&#x27;: [0.001, 0.01, 0.1, 1],\n",
       "                         &#x27;kernel&#x27;: [&#x27;linear&#x27;, &#x27;rbf&#x27;, &#x27;poly&#x27;]},\n",
       "             scoring=&#x27;accuracy&#x27;, verbose=2)</pre></div></div></div><div class=\"sk-parallel\"><div class=\"sk-parallel-item\"><div class=\"sk-item\"><div class=\"sk-label-container\"><div class=\"sk-label sk-toggleable\"><input class=\"sk-toggleable__control sk-hidden--visually\" id=\"sk-estimator-id-16\" type=\"checkbox\" ><label for=\"sk-estimator-id-16\" class=\"sk-toggleable__label sk-toggleable__label-arrow\">estimator: SVC</label><div class=\"sk-toggleable__content\"><pre>SVC(random_state=42)</pre></div></div></div><div class=\"sk-serial\"><div class=\"sk-item\"><div class=\"sk-estimator sk-toggleable\"><input class=\"sk-toggleable__control sk-hidden--visually\" id=\"sk-estimator-id-17\" type=\"checkbox\" ><label for=\"sk-estimator-id-17\" class=\"sk-toggleable__label sk-toggleable__label-arrow\">SVC</label><div class=\"sk-toggleable__content\"><pre>SVC(random_state=42)</pre></div></div></div></div></div></div></div></div></div></div>"
      ],
      "text/plain": [
       "GridSearchCV(cv=3, estimator=SVC(random_state=42), n_jobs=-1,\n",
       "             param_grid={'C': [0.1, 1, 10, 100], 'gamma': [0.001, 0.01, 0.1, 1],\n",
       "                         'kernel': ['linear', 'rbf', 'poly']},\n",
       "             scoring='accuracy', verbose=2)"
      ]
     },
     "execution_count": 130,
     "metadata": {},
     "output_type": "execute_result"
    }
   ],
   "source": [
    "grid_search = GridSearchCV(SVC(random_state=42), param_grid, cv=3, scoring='accuracy', verbose=2, n_jobs=-1)\n",
    "grid_search.fit(X_train_scaled, y_train)"
   ]
  },
  {
   "cell_type": "code",
   "execution_count": 131,
   "id": "3c91c278",
   "metadata": {},
   "outputs": [
    {
     "name": "stdout",
     "output_type": "stream",
     "text": [
      "Best Parameters: {'C': 1, 'gamma': 0.1, 'kernel': 'rbf'}\n"
     ]
    }
   ],
   "source": [
    "best_params = grid_search.best_params_\n",
    "print(\"Best Parameters:\", best_params)"
   ]
  },
  {
   "cell_type": "code",
   "execution_count": 132,
   "id": "b5cdd181",
   "metadata": {},
   "outputs": [
    {
     "data": {
      "text/html": [
       "<style>#sk-container-id-10 {color: black;background-color: white;}#sk-container-id-10 pre{padding: 0;}#sk-container-id-10 div.sk-toggleable {background-color: white;}#sk-container-id-10 label.sk-toggleable__label {cursor: pointer;display: block;width: 100%;margin-bottom: 0;padding: 0.3em;box-sizing: border-box;text-align: center;}#sk-container-id-10 label.sk-toggleable__label-arrow:before {content: \"▸\";float: left;margin-right: 0.25em;color: #696969;}#sk-container-id-10 label.sk-toggleable__label-arrow:hover:before {color: black;}#sk-container-id-10 div.sk-estimator:hover label.sk-toggleable__label-arrow:before {color: black;}#sk-container-id-10 div.sk-toggleable__content {max-height: 0;max-width: 0;overflow: hidden;text-align: left;background-color: #f0f8ff;}#sk-container-id-10 div.sk-toggleable__content pre {margin: 0.2em;color: black;border-radius: 0.25em;background-color: #f0f8ff;}#sk-container-id-10 input.sk-toggleable__control:checked~div.sk-toggleable__content {max-height: 200px;max-width: 100%;overflow: auto;}#sk-container-id-10 input.sk-toggleable__control:checked~label.sk-toggleable__label-arrow:before {content: \"▾\";}#sk-container-id-10 div.sk-estimator input.sk-toggleable__control:checked~label.sk-toggleable__label {background-color: #d4ebff;}#sk-container-id-10 div.sk-label input.sk-toggleable__control:checked~label.sk-toggleable__label {background-color: #d4ebff;}#sk-container-id-10 input.sk-hidden--visually {border: 0;clip: rect(1px 1px 1px 1px);clip: rect(1px, 1px, 1px, 1px);height: 1px;margin: -1px;overflow: hidden;padding: 0;position: absolute;width: 1px;}#sk-container-id-10 div.sk-estimator {font-family: monospace;background-color: #f0f8ff;border: 1px dotted black;border-radius: 0.25em;box-sizing: border-box;margin-bottom: 0.5em;}#sk-container-id-10 div.sk-estimator:hover {background-color: #d4ebff;}#sk-container-id-10 div.sk-parallel-item::after {content: \"\";width: 100%;border-bottom: 1px solid gray;flex-grow: 1;}#sk-container-id-10 div.sk-label:hover label.sk-toggleable__label {background-color: #d4ebff;}#sk-container-id-10 div.sk-serial::before {content: \"\";position: absolute;border-left: 1px solid gray;box-sizing: border-box;top: 0;bottom: 0;left: 50%;z-index: 0;}#sk-container-id-10 div.sk-serial {display: flex;flex-direction: column;align-items: center;background-color: white;padding-right: 0.2em;padding-left: 0.2em;position: relative;}#sk-container-id-10 div.sk-item {position: relative;z-index: 1;}#sk-container-id-10 div.sk-parallel {display: flex;align-items: stretch;justify-content: center;background-color: white;position: relative;}#sk-container-id-10 div.sk-item::before, #sk-container-id-10 div.sk-parallel-item::before {content: \"\";position: absolute;border-left: 1px solid gray;box-sizing: border-box;top: 0;bottom: 0;left: 50%;z-index: -1;}#sk-container-id-10 div.sk-parallel-item {display: flex;flex-direction: column;z-index: 1;position: relative;background-color: white;}#sk-container-id-10 div.sk-parallel-item:first-child::after {align-self: flex-end;width: 50%;}#sk-container-id-10 div.sk-parallel-item:last-child::after {align-self: flex-start;width: 50%;}#sk-container-id-10 div.sk-parallel-item:only-child::after {width: 0;}#sk-container-id-10 div.sk-dashed-wrapped {border: 1px dashed gray;margin: 0 0.4em 0.5em 0.4em;box-sizing: border-box;padding-bottom: 0.4em;background-color: white;}#sk-container-id-10 div.sk-label label {font-family: monospace;font-weight: bold;display: inline-block;line-height: 1.2em;}#sk-container-id-10 div.sk-label-container {text-align: center;}#sk-container-id-10 div.sk-container {/* jupyter's `normalize.less` sets `[hidden] { display: none; }` but bootstrap.min.css set `[hidden] { display: none !important; }` so we also need the `!important` here to be able to override the default hidden behavior on the sphinx rendered scikit-learn.org. See: https://github.com/scikit-learn/scikit-learn/issues/21755 */display: inline-block !important;position: relative;}#sk-container-id-10 div.sk-text-repr-fallback {display: none;}</style><div id=\"sk-container-id-10\" class=\"sk-top-container\"><div class=\"sk-text-repr-fallback\"><pre>SVC(C=1, gamma=0.1, random_state=42)</pre><b>In a Jupyter environment, please rerun this cell to show the HTML representation or trust the notebook. <br />On GitHub, the HTML representation is unable to render, please try loading this page with nbviewer.org.</b></div><div class=\"sk-container\" hidden><div class=\"sk-item\"><div class=\"sk-estimator sk-toggleable\"><input class=\"sk-toggleable__control sk-hidden--visually\" id=\"sk-estimator-id-18\" type=\"checkbox\" checked><label for=\"sk-estimator-id-18\" class=\"sk-toggleable__label sk-toggleable__label-arrow\">SVC</label><div class=\"sk-toggleable__content\"><pre>SVC(C=1, gamma=0.1, random_state=42)</pre></div></div></div></div></div>"
      ],
      "text/plain": [
       "SVC(C=1, gamma=0.1, random_state=42)"
      ]
     },
     "execution_count": 132,
     "metadata": {},
     "output_type": "execute_result"
    }
   ],
   "source": [
    "svm_model_best = grid_search.best_estimator_\n",
    "svm_model_best.fit(X_train, y_train)"
   ]
  },
  {
   "cell_type": "code",
   "execution_count": 133,
   "id": "d51dbc76",
   "metadata": {},
   "outputs": [
    {
     "name": "stderr",
     "output_type": "stream",
     "text": [
      "C:\\Users\\pavan\\AppData\\Local\\Programs\\Python\\Python310\\lib\\site-packages\\sklearn\\base.py:439: UserWarning: X does not have valid feature names, but SVC was fitted with feature names\n",
      "  warnings.warn(\n"
     ]
    }
   ],
   "source": [
    "y_pred = svm_model_best.predict(X_test_scaled)"
   ]
  },
  {
   "cell_type": "code",
   "execution_count": 134,
   "id": "b91dab36",
   "metadata": {},
   "outputs": [
    {
     "name": "stderr",
     "output_type": "stream",
     "text": [
      "C:\\Users\\pavan\\AppData\\Local\\Programs\\Python\\Python310\\lib\\site-packages\\sklearn\\metrics\\_classification.py:1344: UndefinedMetricWarning: Precision is ill-defined and being set to 0.0 in labels with no predicted samples. Use `zero_division` parameter to control this behavior.\n",
      "  _warn_prf(average, modifier, msg_start, len(result))\n"
     ]
    }
   ],
   "source": [
    "acc = accuracy_score(y_test, y_pred)\n",
    "p = precision_score(y_test, y_pred, average='weighted')\n",
    "r = recall_score(y_test, y_pred, average='weighted')\n",
    "f1 = f1_score(y_test, y_pred, average='weighted')"
   ]
  },
  {
   "cell_type": "code",
   "execution_count": 135,
   "id": "0c4d17b6",
   "metadata": {},
   "outputs": [
    {
     "name": "stdout",
     "output_type": "stream",
     "text": [
      "Improved  Support Vector Machine Evaluation : \n",
      "\n",
      "Accuracy: 0.49\n",
      "Precision: 0.24\n",
      "Recall: 0.49\n",
      "F1 Score: 0.32\n"
     ]
    }
   ],
   "source": [
    "print(\"Improved  Support Vector Machine Evaluation : \\n\")\n",
    "print(\"Accuracy: {:.2f}\".format(acc))\n",
    "print(\"Precision: {:.2f}\".format(p))\n",
    "print(\"Recall: {:.2f}\".format(r))\n",
    "print(\"F1 Score: {:.2f}\".format(f1))"
   ]
  },
  {
   "cell_type": "code",
   "execution_count": 136,
   "id": "499fee1e",
   "metadata": {},
   "outputs": [
    {
     "data": {
      "text/plain": [
       "['svm_model_best.pkl']"
      ]
     },
     "execution_count": 136,
     "metadata": {},
     "output_type": "execute_result"
    }
   ],
   "source": [
    "joblib.dump(svm_model_best, 'svm_model_best.pkl')"
   ]
  },
  {
   "cell_type": "markdown",
   "id": "096a0b68",
   "metadata": {},
   "source": [
    "### PREDICTION"
   ]
  },
  {
   "cell_type": "code",
   "execution_count": 137,
   "id": "001a0054",
   "metadata": {},
   "outputs": [
    {
     "name": "stdout",
     "output_type": "stream",
     "text": [
      "The prediction for  H:/My Drive/Task 2 - Feature Extarction/kashish_mru.wav  is  non_cough\n"
     ]
    },
    {
     "name": "stderr",
     "output_type": "stream",
     "text": [
      "C:\\Users\\pavan\\AppData\\Local\\Programs\\Python\\Python310\\lib\\site-packages\\sklearn\\base.py:439: UserWarning: X does not have valid feature names, but SVC was fitted with feature names\n",
      "  warnings.warn(\n"
     ]
    }
   ],
   "source": [
    "import joblib\n",
    "\n",
    "model = joblib.load('svm_model_best.pkl')\n",
    "\n",
    "def predict(file_path):\n",
    "    features = extract_features(file_path)\n",
    "    features = np.array(features).reshape(1, -1)\n",
    "    prediction = model.predict(features)\n",
    "    return prediction[0]\n",
    "\n",
    "new_audio_signal = \"H:/My Drive/Task 2 - Feature Extarction/kashish_mru.wav\"\n",
    "prediction = predict(new_audio_signal)\n",
    "print(\"The prediction for \",new_audio_signal,\" is \",prediction)"
   ]
  },
  {
   "cell_type": "markdown",
   "id": "0e48050c",
   "metadata": {},
   "source": [
    "## RANDOM FOREST CLASSIFIER HYPERPARAMETER TUNING"
   ]
  },
  {
   "cell_type": "code",
   "execution_count": 138,
   "id": "832cf02c",
   "metadata": {},
   "outputs": [],
   "source": [
    "from sklearn.ensemble import RandomForestClassifier\n",
    "from sklearn.model_selection import train_test_split\n",
    "from sklearn.model_selection import RandomizedSearchCV\n",
    "from sklearn.metrics import accuracy_score, precision_score, recall_score, f1_score\n",
    "from sklearn.preprocessing import StandardScaler\n",
    "import joblib"
   ]
  },
  {
   "cell_type": "code",
   "execution_count": 139,
   "id": "855b4836",
   "metadata": {},
   "outputs": [],
   "source": [
    "df = pd.read_csv('feature_extraction.csv')"
   ]
  },
  {
   "cell_type": "code",
   "execution_count": 140,
   "id": "b5d9b5dd",
   "metadata": {},
   "outputs": [],
   "source": [
    "X = df.drop(['label'], axis=1)\n",
    "y = df['label']"
   ]
  },
  {
   "cell_type": "code",
   "execution_count": 141,
   "id": "b6eac258",
   "metadata": {},
   "outputs": [],
   "source": [
    "X_train, X_test, y_train, y_test = train_test_split(X, y, test_size=0.2, random_state=42)"
   ]
  },
  {
   "cell_type": "code",
   "execution_count": 142,
   "id": "eb3f9f1b",
   "metadata": {},
   "outputs": [
    {
     "data": {
      "text/plain": [
       "(689, 27)"
      ]
     },
     "execution_count": 142,
     "metadata": {},
     "output_type": "execute_result"
    }
   ],
   "source": [
    "X_train.shape"
   ]
  },
  {
   "cell_type": "code",
   "execution_count": 143,
   "id": "38a5b2fc",
   "metadata": {},
   "outputs": [
    {
     "data": {
      "text/plain": [
       "(173, 27)"
      ]
     },
     "execution_count": 143,
     "metadata": {},
     "output_type": "execute_result"
    }
   ],
   "source": [
    "X_test.shape"
   ]
  },
  {
   "cell_type": "code",
   "execution_count": 144,
   "id": "bfb5607a",
   "metadata": {},
   "outputs": [],
   "source": [
    "scaler = StandardScaler()\n",
    "X_train_scaled = scaler.fit_transform(X_train)\n",
    "X_test_scaled = scaler.transform(X_test)"
   ]
  },
  {
   "cell_type": "code",
   "execution_count": 145,
   "id": "86ce4207",
   "metadata": {},
   "outputs": [],
   "source": [
    "param_grid = {\n",
    "    'n_estimators': [50, 100, 200],\n",
    "    'max_depth': [None, 10, 20, 30],\n",
    "    'min_samples_split': [2, 5, 10],\n",
    "    'min_samples_leaf': [1, 2, 4],\n",
    "    'max_features': ['sqrt', 'log2']\n",
    "}"
   ]
  },
  {
   "cell_type": "code",
   "execution_count": 146,
   "id": "9d7eb737",
   "metadata": {
    "scrolled": true
   },
   "outputs": [
    {
     "data": {
      "text/html": [
       "<style>#sk-container-id-11 {color: black;background-color: white;}#sk-container-id-11 pre{padding: 0;}#sk-container-id-11 div.sk-toggleable {background-color: white;}#sk-container-id-11 label.sk-toggleable__label {cursor: pointer;display: block;width: 100%;margin-bottom: 0;padding: 0.3em;box-sizing: border-box;text-align: center;}#sk-container-id-11 label.sk-toggleable__label-arrow:before {content: \"▸\";float: left;margin-right: 0.25em;color: #696969;}#sk-container-id-11 label.sk-toggleable__label-arrow:hover:before {color: black;}#sk-container-id-11 div.sk-estimator:hover label.sk-toggleable__label-arrow:before {color: black;}#sk-container-id-11 div.sk-toggleable__content {max-height: 0;max-width: 0;overflow: hidden;text-align: left;background-color: #f0f8ff;}#sk-container-id-11 div.sk-toggleable__content pre {margin: 0.2em;color: black;border-radius: 0.25em;background-color: #f0f8ff;}#sk-container-id-11 input.sk-toggleable__control:checked~div.sk-toggleable__content {max-height: 200px;max-width: 100%;overflow: auto;}#sk-container-id-11 input.sk-toggleable__control:checked~label.sk-toggleable__label-arrow:before {content: \"▾\";}#sk-container-id-11 div.sk-estimator input.sk-toggleable__control:checked~label.sk-toggleable__label {background-color: #d4ebff;}#sk-container-id-11 div.sk-label input.sk-toggleable__control:checked~label.sk-toggleable__label {background-color: #d4ebff;}#sk-container-id-11 input.sk-hidden--visually {border: 0;clip: rect(1px 1px 1px 1px);clip: rect(1px, 1px, 1px, 1px);height: 1px;margin: -1px;overflow: hidden;padding: 0;position: absolute;width: 1px;}#sk-container-id-11 div.sk-estimator {font-family: monospace;background-color: #f0f8ff;border: 1px dotted black;border-radius: 0.25em;box-sizing: border-box;margin-bottom: 0.5em;}#sk-container-id-11 div.sk-estimator:hover {background-color: #d4ebff;}#sk-container-id-11 div.sk-parallel-item::after {content: \"\";width: 100%;border-bottom: 1px solid gray;flex-grow: 1;}#sk-container-id-11 div.sk-label:hover label.sk-toggleable__label {background-color: #d4ebff;}#sk-container-id-11 div.sk-serial::before {content: \"\";position: absolute;border-left: 1px solid gray;box-sizing: border-box;top: 0;bottom: 0;left: 50%;z-index: 0;}#sk-container-id-11 div.sk-serial {display: flex;flex-direction: column;align-items: center;background-color: white;padding-right: 0.2em;padding-left: 0.2em;position: relative;}#sk-container-id-11 div.sk-item {position: relative;z-index: 1;}#sk-container-id-11 div.sk-parallel {display: flex;align-items: stretch;justify-content: center;background-color: white;position: relative;}#sk-container-id-11 div.sk-item::before, #sk-container-id-11 div.sk-parallel-item::before {content: \"\";position: absolute;border-left: 1px solid gray;box-sizing: border-box;top: 0;bottom: 0;left: 50%;z-index: -1;}#sk-container-id-11 div.sk-parallel-item {display: flex;flex-direction: column;z-index: 1;position: relative;background-color: white;}#sk-container-id-11 div.sk-parallel-item:first-child::after {align-self: flex-end;width: 50%;}#sk-container-id-11 div.sk-parallel-item:last-child::after {align-self: flex-start;width: 50%;}#sk-container-id-11 div.sk-parallel-item:only-child::after {width: 0;}#sk-container-id-11 div.sk-dashed-wrapped {border: 1px dashed gray;margin: 0 0.4em 0.5em 0.4em;box-sizing: border-box;padding-bottom: 0.4em;background-color: white;}#sk-container-id-11 div.sk-label label {font-family: monospace;font-weight: bold;display: inline-block;line-height: 1.2em;}#sk-container-id-11 div.sk-label-container {text-align: center;}#sk-container-id-11 div.sk-container {/* jupyter's `normalize.less` sets `[hidden] { display: none; }` but bootstrap.min.css set `[hidden] { display: none !important; }` so we also need the `!important` here to be able to override the default hidden behavior on the sphinx rendered scikit-learn.org. See: https://github.com/scikit-learn/scikit-learn/issues/21755 */display: inline-block !important;position: relative;}#sk-container-id-11 div.sk-text-repr-fallback {display: none;}</style><div id=\"sk-container-id-11\" class=\"sk-top-container\"><div class=\"sk-text-repr-fallback\"><pre>RandomizedSearchCV(cv=5, estimator=RandomForestClassifier(random_state=42),\n",
       "                   n_iter=20, n_jobs=-1,\n",
       "                   param_distributions={&#x27;max_depth&#x27;: [None, 10, 20, 30],\n",
       "                                        &#x27;max_features&#x27;: [&#x27;sqrt&#x27;, &#x27;log2&#x27;],\n",
       "                                        &#x27;min_samples_leaf&#x27;: [1, 2, 4],\n",
       "                                        &#x27;min_samples_split&#x27;: [2, 5, 10],\n",
       "                                        &#x27;n_estimators&#x27;: [50, 100, 200]},\n",
       "                   random_state=42, scoring=&#x27;accuracy&#x27;)</pre><b>In a Jupyter environment, please rerun this cell to show the HTML representation or trust the notebook. <br />On GitHub, the HTML representation is unable to render, please try loading this page with nbviewer.org.</b></div><div class=\"sk-container\" hidden><div class=\"sk-item sk-dashed-wrapped\"><div class=\"sk-label-container\"><div class=\"sk-label sk-toggleable\"><input class=\"sk-toggleable__control sk-hidden--visually\" id=\"sk-estimator-id-19\" type=\"checkbox\" ><label for=\"sk-estimator-id-19\" class=\"sk-toggleable__label sk-toggleable__label-arrow\">RandomizedSearchCV</label><div class=\"sk-toggleable__content\"><pre>RandomizedSearchCV(cv=5, estimator=RandomForestClassifier(random_state=42),\n",
       "                   n_iter=20, n_jobs=-1,\n",
       "                   param_distributions={&#x27;max_depth&#x27;: [None, 10, 20, 30],\n",
       "                                        &#x27;max_features&#x27;: [&#x27;sqrt&#x27;, &#x27;log2&#x27;],\n",
       "                                        &#x27;min_samples_leaf&#x27;: [1, 2, 4],\n",
       "                                        &#x27;min_samples_split&#x27;: [2, 5, 10],\n",
       "                                        &#x27;n_estimators&#x27;: [50, 100, 200]},\n",
       "                   random_state=42, scoring=&#x27;accuracy&#x27;)</pre></div></div></div><div class=\"sk-parallel\"><div class=\"sk-parallel-item\"><div class=\"sk-item\"><div class=\"sk-label-container\"><div class=\"sk-label sk-toggleable\"><input class=\"sk-toggleable__control sk-hidden--visually\" id=\"sk-estimator-id-20\" type=\"checkbox\" ><label for=\"sk-estimator-id-20\" class=\"sk-toggleable__label sk-toggleable__label-arrow\">estimator: RandomForestClassifier</label><div class=\"sk-toggleable__content\"><pre>RandomForestClassifier(random_state=42)</pre></div></div></div><div class=\"sk-serial\"><div class=\"sk-item\"><div class=\"sk-estimator sk-toggleable\"><input class=\"sk-toggleable__control sk-hidden--visually\" id=\"sk-estimator-id-21\" type=\"checkbox\" ><label for=\"sk-estimator-id-21\" class=\"sk-toggleable__label sk-toggleable__label-arrow\">RandomForestClassifier</label><div class=\"sk-toggleable__content\"><pre>RandomForestClassifier(random_state=42)</pre></div></div></div></div></div></div></div></div></div></div>"
      ],
      "text/plain": [
       "RandomizedSearchCV(cv=5, estimator=RandomForestClassifier(random_state=42),\n",
       "                   n_iter=20, n_jobs=-1,\n",
       "                   param_distributions={'max_depth': [None, 10, 20, 30],\n",
       "                                        'max_features': ['sqrt', 'log2'],\n",
       "                                        'min_samples_leaf': [1, 2, 4],\n",
       "                                        'min_samples_split': [2, 5, 10],\n",
       "                                        'n_estimators': [50, 100, 200]},\n",
       "                   random_state=42, scoring='accuracy')"
      ]
     },
     "execution_count": 146,
     "metadata": {},
     "output_type": "execute_result"
    }
   ],
   "source": [
    "rf = RandomForestClassifier(random_state=42)\n",
    "random_search = RandomizedSearchCV(estimator=rf, param_distributions=param_grid, n_iter=20, cv=5, scoring='accuracy', random_state=42, n_jobs=-1)\n",
    "random_search.fit(X_train, y_train)"
   ]
  },
  {
   "cell_type": "code",
   "execution_count": 147,
   "id": "23e0e3df",
   "metadata": {},
   "outputs": [
    {
     "name": "stdout",
     "output_type": "stream",
     "text": [
      "Best Parameters: {'n_estimators': 200, 'min_samples_split': 5, 'min_samples_leaf': 2, 'max_features': 'sqrt', 'max_depth': 30}\n"
     ]
    }
   ],
   "source": [
    "best_params = random_search.best_params_\n",
    "print(\"Best Parameters:\", best_params)"
   ]
  },
  {
   "cell_type": "code",
   "execution_count": 148,
   "id": "42249cf1",
   "metadata": {},
   "outputs": [
    {
     "name": "stderr",
     "output_type": "stream",
     "text": [
      "C:\\Users\\pavan\\AppData\\Local\\Programs\\Python\\Python310\\lib\\site-packages\\sklearn\\base.py:439: UserWarning: X does not have valid feature names, but RandomForestClassifier was fitted with feature names\n",
      "  warnings.warn(\n"
     ]
    }
   ],
   "source": [
    "best_rf_model = random_search.best_estimator_\n",
    "y_pred = best_rf_model.predict(X_test_scaled)"
   ]
  },
  {
   "cell_type": "code",
   "execution_count": 149,
   "id": "48d99564",
   "metadata": {},
   "outputs": [
    {
     "name": "stderr",
     "output_type": "stream",
     "text": [
      "C:\\Users\\pavan\\AppData\\Local\\Programs\\Python\\Python310\\lib\\site-packages\\sklearn\\metrics\\_classification.py:1344: UndefinedMetricWarning: Precision is ill-defined and being set to 0.0 in labels with no predicted samples. Use `zero_division` parameter to control this behavior.\n",
      "  _warn_prf(average, modifier, msg_start, len(result))\n"
     ]
    }
   ],
   "source": [
    "accuracy = accuracy_score(y_test, y_pred)\n",
    "precision = precision_score(y_test, y_pred, average='weighted')\n",
    "recall = recall_score(y_test, y_pred, average='weighted')\n",
    "f1 = f1_score(y_test, y_pred, average='weighted')"
   ]
  },
  {
   "cell_type": "code",
   "execution_count": 150,
   "id": "f438adf0",
   "metadata": {},
   "outputs": [
    {
     "name": "stdout",
     "output_type": "stream",
     "text": [
      "Improved Random Forest Classifier Evaluation:\n",
      "Accuracy: 0.4913294797687861\n",
      "Precision: 0.241404657689866\n",
      "Recall: 0.4913294797687861\n",
      "F1 Score: 0.3237442308554017\n"
     ]
    }
   ],
   "source": [
    "print(\"Improved Random Forest Classifier Evaluation:\")\n",
    "print(\"Accuracy:\", accuracy)\n",
    "print(\"Precision:\", precision)\n",
    "print(\"Recall:\", recall)\n",
    "print(\"F1 Score:\", f1)"
   ]
  },
  {
   "cell_type": "code",
   "execution_count": 151,
   "id": "8f538af7",
   "metadata": {},
   "outputs": [
    {
     "data": {
      "text/plain": [
       "['model_random_forest_best.pkl']"
      ]
     },
     "execution_count": 151,
     "metadata": {},
     "output_type": "execute_result"
    }
   ],
   "source": [
    "joblib.dump(best_rf_model, 'model_random_forest_best.pkl')"
   ]
  },
  {
   "cell_type": "markdown",
   "id": "2aed4345",
   "metadata": {},
   "source": [
    "### PREDICTION"
   ]
  },
  {
   "cell_type": "code",
   "execution_count": 152,
   "id": "91c9667d",
   "metadata": {},
   "outputs": [
    {
     "name": "stdout",
     "output_type": "stream",
     "text": [
      "The prediction for  H:/My Drive/Task 2 - Feature Extarction/kashish_mru.wav  is  non_cough\n"
     ]
    },
    {
     "name": "stderr",
     "output_type": "stream",
     "text": [
      "C:\\Users\\pavan\\AppData\\Local\\Programs\\Python\\Python310\\lib\\site-packages\\sklearn\\base.py:439: UserWarning: X does not have valid feature names, but RandomForestClassifier was fitted with feature names\n",
      "  warnings.warn(\n"
     ]
    }
   ],
   "source": [
    "import joblib\n",
    "\n",
    "model = joblib.load('model_random_forest_best.pkl')\n",
    "\n",
    "def predict(file_path):\n",
    "    features = extract_features(file_path)\n",
    "    features = np.array(features).reshape(1, -1)\n",
    "    prediction = model.predict(features)\n",
    "    return prediction[0]\n",
    "\n",
    "new_audio_signal = \"H:/My Drive/Task 2 - Feature Extarction/kashish_mru.wav\"\n",
    "prediction = predict(new_audio_signal)\n",
    "print(\"The prediction for \",new_audio_signal,\" is \",prediction)"
   ]
  },
  {
   "cell_type": "markdown",
   "id": "20d8aad5",
   "metadata": {},
   "source": [
    "## GRADIENT BOOSTING CLASSIFIER HYPERPARAMETER TUNING"
   ]
  },
  {
   "cell_type": "code",
   "execution_count": 153,
   "id": "df348ed3",
   "metadata": {},
   "outputs": [],
   "source": [
    "from sklearn.ensemble import GradientBoostingClassifier\n",
    "from sklearn.model_selection import train_test_split, GridSearchCV\n",
    "from sklearn.metrics import accuracy_score, precision_score, recall_score, f1_score\n",
    "from sklearn.preprocessing import StandardScaler"
   ]
  },
  {
   "cell_type": "code",
   "execution_count": 154,
   "id": "46597b0b",
   "metadata": {},
   "outputs": [],
   "source": [
    "df = pd.read_csv('feature_extraction.csv')"
   ]
  },
  {
   "cell_type": "code",
   "execution_count": 155,
   "id": "ec456ea5",
   "metadata": {},
   "outputs": [],
   "source": [
    "X = df.drop(['label'], axis=1)\n",
    "y = df['label']"
   ]
  },
  {
   "cell_type": "code",
   "execution_count": 156,
   "id": "259abb00",
   "metadata": {},
   "outputs": [],
   "source": [
    "X_train, X_test, y_train, y_test = train_test_split(X, y, test_size=0.2, random_state=42)"
   ]
  },
  {
   "cell_type": "code",
   "execution_count": 157,
   "id": "acff311a",
   "metadata": {},
   "outputs": [
    {
     "data": {
      "text/plain": [
       "(689, 27)"
      ]
     },
     "execution_count": 157,
     "metadata": {},
     "output_type": "execute_result"
    }
   ],
   "source": [
    "X_train.shape"
   ]
  },
  {
   "cell_type": "code",
   "execution_count": 158,
   "id": "28367cf2",
   "metadata": {},
   "outputs": [
    {
     "data": {
      "text/plain": [
       "(173, 27)"
      ]
     },
     "execution_count": 158,
     "metadata": {},
     "output_type": "execute_result"
    }
   ],
   "source": [
    "X_test.shape"
   ]
  },
  {
   "cell_type": "code",
   "execution_count": 159,
   "id": "8da2ceb0",
   "metadata": {},
   "outputs": [],
   "source": [
    "scaler = StandardScaler()\n",
    "X_train_scaled = scaler.fit_transform(X_train)\n",
    "X_test_scaled = scaler.transform(X_test)"
   ]
  },
  {
   "cell_type": "code",
   "execution_count": 160,
   "id": "3b80cf18",
   "metadata": {},
   "outputs": [],
   "source": [
    "param_grid = {\n",
    "    'n_estimators': [50, 100, 200],             \n",
    "    'learning_rate': [0.1, 0.05, 0.01],         \n",
    "    'max_depth': [3, 5, 7],                     \n",
    "}"
   ]
  },
  {
   "cell_type": "code",
   "execution_count": 161,
   "id": "2163a93e",
   "metadata": {
    "scrolled": false
   },
   "outputs": [
    {
     "name": "stdout",
     "output_type": "stream",
     "text": [
      "Fitting 5 folds for each of 27 candidates, totalling 135 fits\n",
      "[CV] END ....learning_rate=0.1, max_depth=3, n_estimators=50; total time=   1.2s\n",
      "[CV] END ....learning_rate=0.1, max_depth=3, n_estimators=50; total time=   1.2s\n",
      "[CV] END ....learning_rate=0.1, max_depth=3, n_estimators=50; total time=   1.1s\n",
      "[CV] END ....learning_rate=0.1, max_depth=3, n_estimators=50; total time=   1.1s\n",
      "[CV] END ....learning_rate=0.1, max_depth=3, n_estimators=50; total time=   1.1s\n",
      "[CV] END ...learning_rate=0.1, max_depth=3, n_estimators=100; total time=   2.2s\n",
      "[CV] END ...learning_rate=0.1, max_depth=3, n_estimators=100; total time=   2.3s\n",
      "[CV] END ...learning_rate=0.1, max_depth=3, n_estimators=100; total time=   2.2s\n",
      "[CV] END ...learning_rate=0.1, max_depth=3, n_estimators=100; total time=   2.2s\n",
      "[CV] END ...learning_rate=0.1, max_depth=3, n_estimators=100; total time=   2.1s\n",
      "[CV] END ...learning_rate=0.1, max_depth=3, n_estimators=200; total time=   4.1s\n",
      "[CV] END ...learning_rate=0.1, max_depth=3, n_estimators=200; total time=   4.5s\n",
      "[CV] END ...learning_rate=0.1, max_depth=3, n_estimators=200; total time=   4.7s\n",
      "[CV] END ...learning_rate=0.1, max_depth=3, n_estimators=200; total time=   4.8s\n",
      "[CV] END ...learning_rate=0.1, max_depth=3, n_estimators=200; total time=   4.8s\n",
      "[CV] END ....learning_rate=0.1, max_depth=5, n_estimators=50; total time=   1.8s\n",
      "[CV] END ....learning_rate=0.1, max_depth=5, n_estimators=50; total time=   1.9s\n",
      "[CV] END ....learning_rate=0.1, max_depth=5, n_estimators=50; total time=   1.8s\n",
      "[CV] END ....learning_rate=0.1, max_depth=5, n_estimators=50; total time=   1.9s\n",
      "[CV] END ....learning_rate=0.1, max_depth=5, n_estimators=50; total time=   1.9s\n",
      "[CV] END ...learning_rate=0.1, max_depth=5, n_estimators=100; total time=   3.8s\n",
      "[CV] END ...learning_rate=0.1, max_depth=5, n_estimators=100; total time=   3.9s\n",
      "[CV] END ...learning_rate=0.1, max_depth=5, n_estimators=100; total time=   3.9s\n",
      "[CV] END ...learning_rate=0.1, max_depth=5, n_estimators=100; total time=   3.8s\n",
      "[CV] END ...learning_rate=0.1, max_depth=5, n_estimators=100; total time=   3.8s\n",
      "[CV] END ...learning_rate=0.1, max_depth=5, n_estimators=200; total time=   7.8s\n",
      "[CV] END ...learning_rate=0.1, max_depth=5, n_estimators=200; total time=   7.8s\n",
      "[CV] END ...learning_rate=0.1, max_depth=5, n_estimators=200; total time=   7.7s\n",
      "[CV] END ...learning_rate=0.1, max_depth=5, n_estimators=200; total time=   7.7s\n",
      "[CV] END ...learning_rate=0.1, max_depth=5, n_estimators=200; total time=   7.8s\n",
      "[CV] END ....learning_rate=0.1, max_depth=7, n_estimators=50; total time=   2.5s\n",
      "[CV] END ....learning_rate=0.1, max_depth=7, n_estimators=50; total time=   2.7s\n",
      "[CV] END ....learning_rate=0.1, max_depth=7, n_estimators=50; total time=   2.7s\n",
      "[CV] END ....learning_rate=0.1, max_depth=7, n_estimators=50; total time=   2.6s\n",
      "[CV] END ....learning_rate=0.1, max_depth=7, n_estimators=50; total time=   2.7s\n",
      "[CV] END ...learning_rate=0.1, max_depth=7, n_estimators=100; total time=   5.4s\n",
      "[CV] END ...learning_rate=0.1, max_depth=7, n_estimators=100; total time=   5.4s\n",
      "[CV] END ...learning_rate=0.1, max_depth=7, n_estimators=100; total time=   5.4s\n",
      "[CV] END ...learning_rate=0.1, max_depth=7, n_estimators=100; total time=   5.3s\n",
      "[CV] END ...learning_rate=0.1, max_depth=7, n_estimators=100; total time=   5.4s\n",
      "[CV] END ...learning_rate=0.1, max_depth=7, n_estimators=200; total time=  10.9s\n",
      "[CV] END ...learning_rate=0.1, max_depth=7, n_estimators=200; total time=  10.5s\n",
      "[CV] END ...learning_rate=0.1, max_depth=7, n_estimators=200; total time=  10.9s\n",
      "[CV] END ...learning_rate=0.1, max_depth=7, n_estimators=200; total time=  10.3s\n",
      "[CV] END ...learning_rate=0.1, max_depth=7, n_estimators=200; total time=  10.5s\n",
      "[CV] END ...learning_rate=0.05, max_depth=3, n_estimators=50; total time=   1.1s\n",
      "[CV] END ...learning_rate=0.05, max_depth=3, n_estimators=50; total time=   1.1s\n",
      "[CV] END ...learning_rate=0.05, max_depth=3, n_estimators=50; total time=   1.1s\n",
      "[CV] END ...learning_rate=0.05, max_depth=3, n_estimators=50; total time=   1.1s\n",
      "[CV] END ...learning_rate=0.05, max_depth=3, n_estimators=50; total time=   1.1s\n",
      "[CV] END ..learning_rate=0.05, max_depth=3, n_estimators=100; total time=   2.3s\n",
      "[CV] END ..learning_rate=0.05, max_depth=3, n_estimators=100; total time=   2.3s\n",
      "[CV] END ..learning_rate=0.05, max_depth=3, n_estimators=100; total time=   2.3s\n",
      "[CV] END ..learning_rate=0.05, max_depth=3, n_estimators=100; total time=   2.3s\n",
      "[CV] END ..learning_rate=0.05, max_depth=3, n_estimators=100; total time=   2.4s\n",
      "[CV] END ..learning_rate=0.05, max_depth=3, n_estimators=200; total time=   4.7s\n",
      "[CV] END ..learning_rate=0.05, max_depth=3, n_estimators=200; total time=   4.2s\n",
      "[CV] END ..learning_rate=0.05, max_depth=3, n_estimators=200; total time=   4.5s\n",
      "[CV] END ..learning_rate=0.05, max_depth=3, n_estimators=200; total time=   4.7s\n",
      "[CV] END ..learning_rate=0.05, max_depth=3, n_estimators=200; total time=   4.6s\n",
      "[CV] END ...learning_rate=0.05, max_depth=5, n_estimators=50; total time=   1.8s\n",
      "[CV] END ...learning_rate=0.05, max_depth=5, n_estimators=50; total time=   1.8s\n",
      "[CV] END ...learning_rate=0.05, max_depth=5, n_estimators=50; total time=   1.8s\n",
      "[CV] END ...learning_rate=0.05, max_depth=5, n_estimators=50; total time=   1.8s\n",
      "[CV] END ...learning_rate=0.05, max_depth=5, n_estimators=50; total time=   1.8s\n",
      "[CV] END ..learning_rate=0.05, max_depth=5, n_estimators=100; total time=   3.8s\n",
      "[CV] END ..learning_rate=0.05, max_depth=5, n_estimators=100; total time=   3.8s\n",
      "[CV] END ..learning_rate=0.05, max_depth=5, n_estimators=100; total time=   3.8s\n",
      "[CV] END ..learning_rate=0.05, max_depth=5, n_estimators=100; total time=   3.8s\n",
      "[CV] END ..learning_rate=0.05, max_depth=5, n_estimators=100; total time=   3.8s\n",
      "[CV] END ..learning_rate=0.05, max_depth=5, n_estimators=200; total time=   7.7s\n",
      "[CV] END ..learning_rate=0.05, max_depth=5, n_estimators=200; total time=   7.7s\n",
      "[CV] END ..learning_rate=0.05, max_depth=5, n_estimators=200; total time=   8.0s\n",
      "[CV] END ..learning_rate=0.05, max_depth=5, n_estimators=200; total time=   7.5s\n",
      "[CV] END ..learning_rate=0.05, max_depth=5, n_estimators=200; total time=   7.6s\n",
      "[CV] END ...learning_rate=0.05, max_depth=7, n_estimators=50; total time=   2.6s\n",
      "[CV] END ...learning_rate=0.05, max_depth=7, n_estimators=50; total time=   2.0s\n",
      "[CV] END ...learning_rate=0.05, max_depth=7, n_estimators=50; total time=   2.2s\n",
      "[CV] END ...learning_rate=0.05, max_depth=7, n_estimators=50; total time=   2.6s\n",
      "[CV] END ...learning_rate=0.05, max_depth=7, n_estimators=50; total time=   2.5s\n",
      "[CV] END ..learning_rate=0.05, max_depth=7, n_estimators=100; total time=   5.3s\n",
      "[CV] END ..learning_rate=0.05, max_depth=7, n_estimators=100; total time=   5.3s\n",
      "[CV] END ..learning_rate=0.05, max_depth=7, n_estimators=100; total time=   5.3s\n",
      "[CV] END ..learning_rate=0.05, max_depth=7, n_estimators=100; total time=   5.2s\n",
      "[CV] END ..learning_rate=0.05, max_depth=7, n_estimators=100; total time=   5.3s\n",
      "[CV] END ..learning_rate=0.05, max_depth=7, n_estimators=200; total time=  10.6s\n",
      "[CV] END ..learning_rate=0.05, max_depth=7, n_estimators=200; total time=  10.7s\n",
      "[CV] END ..learning_rate=0.05, max_depth=7, n_estimators=200; total time=  10.8s\n",
      "[CV] END ..learning_rate=0.05, max_depth=7, n_estimators=200; total time=  10.8s\n",
      "[CV] END ..learning_rate=0.05, max_depth=7, n_estimators=200; total time=  10.9s\n",
      "[CV] END ...learning_rate=0.01, max_depth=3, n_estimators=50; total time=   1.1s\n",
      "[CV] END ...learning_rate=0.01, max_depth=3, n_estimators=50; total time=   1.1s\n",
      "[CV] END ...learning_rate=0.01, max_depth=3, n_estimators=50; total time=   1.2s\n",
      "[CV] END ...learning_rate=0.01, max_depth=3, n_estimators=50; total time=   1.1s\n",
      "[CV] END ...learning_rate=0.01, max_depth=3, n_estimators=50; total time=   1.1s\n",
      "[CV] END ..learning_rate=0.01, max_depth=3, n_estimators=100; total time=   2.4s\n",
      "[CV] END ..learning_rate=0.01, max_depth=3, n_estimators=100; total time=   2.3s\n",
      "[CV] END ..learning_rate=0.01, max_depth=3, n_estimators=100; total time=   2.3s\n",
      "[CV] END ..learning_rate=0.01, max_depth=3, n_estimators=100; total time=   2.3s\n",
      "[CV] END ..learning_rate=0.01, max_depth=3, n_estimators=100; total time=   2.2s\n",
      "[CV] END ..learning_rate=0.01, max_depth=3, n_estimators=200; total time=   4.8s\n"
     ]
    },
    {
     "name": "stdout",
     "output_type": "stream",
     "text": [
      "[CV] END ..learning_rate=0.01, max_depth=3, n_estimators=200; total time=   4.7s\n",
      "[CV] END ..learning_rate=0.01, max_depth=3, n_estimators=200; total time=   4.4s\n",
      "[CV] END ..learning_rate=0.01, max_depth=3, n_estimators=200; total time=   4.7s\n",
      "[CV] END ..learning_rate=0.01, max_depth=3, n_estimators=200; total time=   4.8s\n",
      "[CV] END ...learning_rate=0.01, max_depth=5, n_estimators=50; total time=   1.8s\n",
      "[CV] END ...learning_rate=0.01, max_depth=5, n_estimators=50; total time=   1.8s\n",
      "[CV] END ...learning_rate=0.01, max_depth=5, n_estimators=50; total time=   1.7s\n",
      "[CV] END ...learning_rate=0.01, max_depth=5, n_estimators=50; total time=   1.8s\n",
      "[CV] END ...learning_rate=0.01, max_depth=5, n_estimators=50; total time=   1.8s\n",
      "[CV] END ..learning_rate=0.01, max_depth=5, n_estimators=100; total time=   3.9s\n",
      "[CV] END ..learning_rate=0.01, max_depth=5, n_estimators=100; total time=   3.8s\n",
      "[CV] END ..learning_rate=0.01, max_depth=5, n_estimators=100; total time=   3.8s\n",
      "[CV] END ..learning_rate=0.01, max_depth=5, n_estimators=100; total time=   3.7s\n",
      "[CV] END ..learning_rate=0.01, max_depth=5, n_estimators=100; total time=   3.8s\n",
      "[CV] END ..learning_rate=0.01, max_depth=5, n_estimators=200; total time=   7.7s\n",
      "[CV] END ..learning_rate=0.01, max_depth=5, n_estimators=200; total time=   7.8s\n",
      "[CV] END ..learning_rate=0.01, max_depth=5, n_estimators=200; total time=   7.8s\n",
      "[CV] END ..learning_rate=0.01, max_depth=5, n_estimators=200; total time=   7.5s\n",
      "[CV] END ..learning_rate=0.01, max_depth=5, n_estimators=200; total time=   7.5s\n",
      "[CV] END ...learning_rate=0.01, max_depth=7, n_estimators=50; total time=   2.5s\n",
      "[CV] END ...learning_rate=0.01, max_depth=7, n_estimators=50; total time=   2.4s\n",
      "[CV] END ...learning_rate=0.01, max_depth=7, n_estimators=50; total time=   2.5s\n",
      "[CV] END ...learning_rate=0.01, max_depth=7, n_estimators=50; total time=   2.4s\n",
      "[CV] END ...learning_rate=0.01, max_depth=7, n_estimators=50; total time=   2.4s\n",
      "[CV] END ..learning_rate=0.01, max_depth=7, n_estimators=100; total time=   5.3s\n",
      "[CV] END ..learning_rate=0.01, max_depth=7, n_estimators=100; total time=   5.0s\n",
      "[CV] END ..learning_rate=0.01, max_depth=7, n_estimators=100; total time=   5.1s\n",
      "[CV] END ..learning_rate=0.01, max_depth=7, n_estimators=100; total time=   5.0s\n",
      "[CV] END ..learning_rate=0.01, max_depth=7, n_estimators=100; total time=   5.1s\n",
      "[CV] END ..learning_rate=0.01, max_depth=7, n_estimators=200; total time=  10.7s\n",
      "[CV] END ..learning_rate=0.01, max_depth=7, n_estimators=200; total time=  10.5s\n",
      "[CV] END ..learning_rate=0.01, max_depth=7, n_estimators=200; total time=   9.9s\n",
      "[CV] END ..learning_rate=0.01, max_depth=7, n_estimators=200; total time=  10.2s\n",
      "[CV] END ..learning_rate=0.01, max_depth=7, n_estimators=200; total time=  10.1s\n"
     ]
    },
    {
     "data": {
      "text/html": [
       "<style>#sk-container-id-12 {color: black;background-color: white;}#sk-container-id-12 pre{padding: 0;}#sk-container-id-12 div.sk-toggleable {background-color: white;}#sk-container-id-12 label.sk-toggleable__label {cursor: pointer;display: block;width: 100%;margin-bottom: 0;padding: 0.3em;box-sizing: border-box;text-align: center;}#sk-container-id-12 label.sk-toggleable__label-arrow:before {content: \"▸\";float: left;margin-right: 0.25em;color: #696969;}#sk-container-id-12 label.sk-toggleable__label-arrow:hover:before {color: black;}#sk-container-id-12 div.sk-estimator:hover label.sk-toggleable__label-arrow:before {color: black;}#sk-container-id-12 div.sk-toggleable__content {max-height: 0;max-width: 0;overflow: hidden;text-align: left;background-color: #f0f8ff;}#sk-container-id-12 div.sk-toggleable__content pre {margin: 0.2em;color: black;border-radius: 0.25em;background-color: #f0f8ff;}#sk-container-id-12 input.sk-toggleable__control:checked~div.sk-toggleable__content {max-height: 200px;max-width: 100%;overflow: auto;}#sk-container-id-12 input.sk-toggleable__control:checked~label.sk-toggleable__label-arrow:before {content: \"▾\";}#sk-container-id-12 div.sk-estimator input.sk-toggleable__control:checked~label.sk-toggleable__label {background-color: #d4ebff;}#sk-container-id-12 div.sk-label input.sk-toggleable__control:checked~label.sk-toggleable__label {background-color: #d4ebff;}#sk-container-id-12 input.sk-hidden--visually {border: 0;clip: rect(1px 1px 1px 1px);clip: rect(1px, 1px, 1px, 1px);height: 1px;margin: -1px;overflow: hidden;padding: 0;position: absolute;width: 1px;}#sk-container-id-12 div.sk-estimator {font-family: monospace;background-color: #f0f8ff;border: 1px dotted black;border-radius: 0.25em;box-sizing: border-box;margin-bottom: 0.5em;}#sk-container-id-12 div.sk-estimator:hover {background-color: #d4ebff;}#sk-container-id-12 div.sk-parallel-item::after {content: \"\";width: 100%;border-bottom: 1px solid gray;flex-grow: 1;}#sk-container-id-12 div.sk-label:hover label.sk-toggleable__label {background-color: #d4ebff;}#sk-container-id-12 div.sk-serial::before {content: \"\";position: absolute;border-left: 1px solid gray;box-sizing: border-box;top: 0;bottom: 0;left: 50%;z-index: 0;}#sk-container-id-12 div.sk-serial {display: flex;flex-direction: column;align-items: center;background-color: white;padding-right: 0.2em;padding-left: 0.2em;position: relative;}#sk-container-id-12 div.sk-item {position: relative;z-index: 1;}#sk-container-id-12 div.sk-parallel {display: flex;align-items: stretch;justify-content: center;background-color: white;position: relative;}#sk-container-id-12 div.sk-item::before, #sk-container-id-12 div.sk-parallel-item::before {content: \"\";position: absolute;border-left: 1px solid gray;box-sizing: border-box;top: 0;bottom: 0;left: 50%;z-index: -1;}#sk-container-id-12 div.sk-parallel-item {display: flex;flex-direction: column;z-index: 1;position: relative;background-color: white;}#sk-container-id-12 div.sk-parallel-item:first-child::after {align-self: flex-end;width: 50%;}#sk-container-id-12 div.sk-parallel-item:last-child::after {align-self: flex-start;width: 50%;}#sk-container-id-12 div.sk-parallel-item:only-child::after {width: 0;}#sk-container-id-12 div.sk-dashed-wrapped {border: 1px dashed gray;margin: 0 0.4em 0.5em 0.4em;box-sizing: border-box;padding-bottom: 0.4em;background-color: white;}#sk-container-id-12 div.sk-label label {font-family: monospace;font-weight: bold;display: inline-block;line-height: 1.2em;}#sk-container-id-12 div.sk-label-container {text-align: center;}#sk-container-id-12 div.sk-container {/* jupyter's `normalize.less` sets `[hidden] { display: none; }` but bootstrap.min.css set `[hidden] { display: none !important; }` so we also need the `!important` here to be able to override the default hidden behavior on the sphinx rendered scikit-learn.org. See: https://github.com/scikit-learn/scikit-learn/issues/21755 */display: inline-block !important;position: relative;}#sk-container-id-12 div.sk-text-repr-fallback {display: none;}</style><div id=\"sk-container-id-12\" class=\"sk-top-container\"><div class=\"sk-text-repr-fallback\"><pre>GridSearchCV(cv=5, estimator=GradientBoostingClassifier(random_state=42),\n",
       "             param_grid={&#x27;learning_rate&#x27;: [0.1, 0.05, 0.01],\n",
       "                         &#x27;max_depth&#x27;: [3, 5, 7],\n",
       "                         &#x27;n_estimators&#x27;: [50, 100, 200]},\n",
       "             scoring=&#x27;accuracy&#x27;, verbose=2)</pre><b>In a Jupyter environment, please rerun this cell to show the HTML representation or trust the notebook. <br />On GitHub, the HTML representation is unable to render, please try loading this page with nbviewer.org.</b></div><div class=\"sk-container\" hidden><div class=\"sk-item sk-dashed-wrapped\"><div class=\"sk-label-container\"><div class=\"sk-label sk-toggleable\"><input class=\"sk-toggleable__control sk-hidden--visually\" id=\"sk-estimator-id-22\" type=\"checkbox\" ><label for=\"sk-estimator-id-22\" class=\"sk-toggleable__label sk-toggleable__label-arrow\">GridSearchCV</label><div class=\"sk-toggleable__content\"><pre>GridSearchCV(cv=5, estimator=GradientBoostingClassifier(random_state=42),\n",
       "             param_grid={&#x27;learning_rate&#x27;: [0.1, 0.05, 0.01],\n",
       "                         &#x27;max_depth&#x27;: [3, 5, 7],\n",
       "                         &#x27;n_estimators&#x27;: [50, 100, 200]},\n",
       "             scoring=&#x27;accuracy&#x27;, verbose=2)</pre></div></div></div><div class=\"sk-parallel\"><div class=\"sk-parallel-item\"><div class=\"sk-item\"><div class=\"sk-label-container\"><div class=\"sk-label sk-toggleable\"><input class=\"sk-toggleable__control sk-hidden--visually\" id=\"sk-estimator-id-23\" type=\"checkbox\" ><label for=\"sk-estimator-id-23\" class=\"sk-toggleable__label sk-toggleable__label-arrow\">estimator: GradientBoostingClassifier</label><div class=\"sk-toggleable__content\"><pre>GradientBoostingClassifier(random_state=42)</pre></div></div></div><div class=\"sk-serial\"><div class=\"sk-item\"><div class=\"sk-estimator sk-toggleable\"><input class=\"sk-toggleable__control sk-hidden--visually\" id=\"sk-estimator-id-24\" type=\"checkbox\" ><label for=\"sk-estimator-id-24\" class=\"sk-toggleable__label sk-toggleable__label-arrow\">GradientBoostingClassifier</label><div class=\"sk-toggleable__content\"><pre>GradientBoostingClassifier(random_state=42)</pre></div></div></div></div></div></div></div></div></div></div>"
      ],
      "text/plain": [
       "GridSearchCV(cv=5, estimator=GradientBoostingClassifier(random_state=42),\n",
       "             param_grid={'learning_rate': [0.1, 0.05, 0.01],\n",
       "                         'max_depth': [3, 5, 7],\n",
       "                         'n_estimators': [50, 100, 200]},\n",
       "             scoring='accuracy', verbose=2)"
      ]
     },
     "execution_count": 161,
     "metadata": {},
     "output_type": "execute_result"
    }
   ],
   "source": [
    "grid_search = GridSearchCV(GradientBoostingClassifier(random_state=42), param_grid, cv=5, scoring='accuracy', verbose=2)\n",
    "grid_search.fit(X_train_scaled, y_train)"
   ]
  },
  {
   "cell_type": "code",
   "execution_count": 162,
   "id": "b21484ec",
   "metadata": {},
   "outputs": [
    {
     "name": "stdout",
     "output_type": "stream",
     "text": [
      "Best Parameters: {'learning_rate': 0.1, 'max_depth': 7, 'n_estimators': 200}\n"
     ]
    }
   ],
   "source": [
    "best_params = grid_search.best_params_\n",
    "print(\"Best Parameters:\", best_params)"
   ]
  },
  {
   "cell_type": "code",
   "execution_count": 163,
   "id": "50e2a678",
   "metadata": {},
   "outputs": [
    {
     "data": {
      "text/html": [
       "<style>#sk-container-id-13 {color: black;background-color: white;}#sk-container-id-13 pre{padding: 0;}#sk-container-id-13 div.sk-toggleable {background-color: white;}#sk-container-id-13 label.sk-toggleable__label {cursor: pointer;display: block;width: 100%;margin-bottom: 0;padding: 0.3em;box-sizing: border-box;text-align: center;}#sk-container-id-13 label.sk-toggleable__label-arrow:before {content: \"▸\";float: left;margin-right: 0.25em;color: #696969;}#sk-container-id-13 label.sk-toggleable__label-arrow:hover:before {color: black;}#sk-container-id-13 div.sk-estimator:hover label.sk-toggleable__label-arrow:before {color: black;}#sk-container-id-13 div.sk-toggleable__content {max-height: 0;max-width: 0;overflow: hidden;text-align: left;background-color: #f0f8ff;}#sk-container-id-13 div.sk-toggleable__content pre {margin: 0.2em;color: black;border-radius: 0.25em;background-color: #f0f8ff;}#sk-container-id-13 input.sk-toggleable__control:checked~div.sk-toggleable__content {max-height: 200px;max-width: 100%;overflow: auto;}#sk-container-id-13 input.sk-toggleable__control:checked~label.sk-toggleable__label-arrow:before {content: \"▾\";}#sk-container-id-13 div.sk-estimator input.sk-toggleable__control:checked~label.sk-toggleable__label {background-color: #d4ebff;}#sk-container-id-13 div.sk-label input.sk-toggleable__control:checked~label.sk-toggleable__label {background-color: #d4ebff;}#sk-container-id-13 input.sk-hidden--visually {border: 0;clip: rect(1px 1px 1px 1px);clip: rect(1px, 1px, 1px, 1px);height: 1px;margin: -1px;overflow: hidden;padding: 0;position: absolute;width: 1px;}#sk-container-id-13 div.sk-estimator {font-family: monospace;background-color: #f0f8ff;border: 1px dotted black;border-radius: 0.25em;box-sizing: border-box;margin-bottom: 0.5em;}#sk-container-id-13 div.sk-estimator:hover {background-color: #d4ebff;}#sk-container-id-13 div.sk-parallel-item::after {content: \"\";width: 100%;border-bottom: 1px solid gray;flex-grow: 1;}#sk-container-id-13 div.sk-label:hover label.sk-toggleable__label {background-color: #d4ebff;}#sk-container-id-13 div.sk-serial::before {content: \"\";position: absolute;border-left: 1px solid gray;box-sizing: border-box;top: 0;bottom: 0;left: 50%;z-index: 0;}#sk-container-id-13 div.sk-serial {display: flex;flex-direction: column;align-items: center;background-color: white;padding-right: 0.2em;padding-left: 0.2em;position: relative;}#sk-container-id-13 div.sk-item {position: relative;z-index: 1;}#sk-container-id-13 div.sk-parallel {display: flex;align-items: stretch;justify-content: center;background-color: white;position: relative;}#sk-container-id-13 div.sk-item::before, #sk-container-id-13 div.sk-parallel-item::before {content: \"\";position: absolute;border-left: 1px solid gray;box-sizing: border-box;top: 0;bottom: 0;left: 50%;z-index: -1;}#sk-container-id-13 div.sk-parallel-item {display: flex;flex-direction: column;z-index: 1;position: relative;background-color: white;}#sk-container-id-13 div.sk-parallel-item:first-child::after {align-self: flex-end;width: 50%;}#sk-container-id-13 div.sk-parallel-item:last-child::after {align-self: flex-start;width: 50%;}#sk-container-id-13 div.sk-parallel-item:only-child::after {width: 0;}#sk-container-id-13 div.sk-dashed-wrapped {border: 1px dashed gray;margin: 0 0.4em 0.5em 0.4em;box-sizing: border-box;padding-bottom: 0.4em;background-color: white;}#sk-container-id-13 div.sk-label label {font-family: monospace;font-weight: bold;display: inline-block;line-height: 1.2em;}#sk-container-id-13 div.sk-label-container {text-align: center;}#sk-container-id-13 div.sk-container {/* jupyter's `normalize.less` sets `[hidden] { display: none; }` but bootstrap.min.css set `[hidden] { display: none !important; }` so we also need the `!important` here to be able to override the default hidden behavior on the sphinx rendered scikit-learn.org. See: https://github.com/scikit-learn/scikit-learn/issues/21755 */display: inline-block !important;position: relative;}#sk-container-id-13 div.sk-text-repr-fallback {display: none;}</style><div id=\"sk-container-id-13\" class=\"sk-top-container\"><div class=\"sk-text-repr-fallback\"><pre>GradientBoostingClassifier(max_depth=7, n_estimators=200, random_state=42)</pre><b>In a Jupyter environment, please rerun this cell to show the HTML representation or trust the notebook. <br />On GitHub, the HTML representation is unable to render, please try loading this page with nbviewer.org.</b></div><div class=\"sk-container\" hidden><div class=\"sk-item\"><div class=\"sk-estimator sk-toggleable\"><input class=\"sk-toggleable__control sk-hidden--visually\" id=\"sk-estimator-id-25\" type=\"checkbox\" checked><label for=\"sk-estimator-id-25\" class=\"sk-toggleable__label sk-toggleable__label-arrow\">GradientBoostingClassifier</label><div class=\"sk-toggleable__content\"><pre>GradientBoostingClassifier(max_depth=7, n_estimators=200, random_state=42)</pre></div></div></div></div></div>"
      ],
      "text/plain": [
       "GradientBoostingClassifier(max_depth=7, n_estimators=200, random_state=42)"
      ]
     },
     "execution_count": 163,
     "metadata": {},
     "output_type": "execute_result"
    }
   ],
   "source": [
    "model_gbc_best = grid_search.best_estimator_\n",
    "model_gbc_best.fit(X_train_scaled, y_train)"
   ]
  },
  {
   "cell_type": "code",
   "execution_count": 164,
   "id": "b5c7dc7c",
   "metadata": {},
   "outputs": [],
   "source": [
    "y_pred = model_gbc_best.predict(X_test_scaled)"
   ]
  },
  {
   "cell_type": "code",
   "execution_count": 165,
   "id": "76942051",
   "metadata": {},
   "outputs": [],
   "source": [
    "accuracy = accuracy_score(y_test, y_pred)\n",
    "precision = precision_score(y_test, y_pred, average='weighted')\n",
    "recall = recall_score(y_test, y_pred, average='weighted')\n",
    "f1 = f1_score(y_test, y_pred, average='weighted')"
   ]
  },
  {
   "cell_type": "code",
   "execution_count": 166,
   "id": "0e0ce195",
   "metadata": {},
   "outputs": [
    {
     "name": "stdout",
     "output_type": "stream",
     "text": [
      "Improved Gradient Boosting Classifier Evaluation:\n",
      "Accuracy: 0.8323699421965318\n",
      "Precision: 0.836300048727405\n",
      "Recall: 0.8323699421965318\n",
      "F1 Score: 0.8320671280553821\n"
     ]
    }
   ],
   "source": [
    "print(\"Improved Gradient Boosting Classifier Evaluation:\")\n",
    "print(\"Accuracy:\", accuracy)\n",
    "print(\"Precision:\", precision)\n",
    "print(\"Recall:\", recall)\n",
    "print(\"F1 Score:\", f1)"
   ]
  },
  {
   "cell_type": "code",
   "execution_count": 167,
   "id": "c5059230",
   "metadata": {},
   "outputs": [
    {
     "data": {
      "text/plain": [
       "['model_gbc_best.pkl']"
      ]
     },
     "execution_count": 167,
     "metadata": {},
     "output_type": "execute_result"
    }
   ],
   "source": [
    "joblib.dump(best_rf_model, 'model_gbc_best.pkl')"
   ]
  },
  {
   "cell_type": "markdown",
   "id": "f9eb100e",
   "metadata": {},
   "source": [
    "### PREDICTION"
   ]
  },
  {
   "cell_type": "code",
   "execution_count": 168,
   "id": "65d6642f",
   "metadata": {},
   "outputs": [
    {
     "name": "stdout",
     "output_type": "stream",
     "text": [
      "The prediction for  H:/My Drive/Task 2 - Feature Extarction/kashish_mru.wav  is  non_cough\n"
     ]
    },
    {
     "name": "stderr",
     "output_type": "stream",
     "text": [
      "C:\\Users\\pavan\\AppData\\Local\\Programs\\Python\\Python310\\lib\\site-packages\\sklearn\\base.py:439: UserWarning: X does not have valid feature names, but RandomForestClassifier was fitted with feature names\n",
      "  warnings.warn(\n"
     ]
    }
   ],
   "source": [
    "import joblib\n",
    "\n",
    "model = joblib.load('model_gbc_best.pkl')\n",
    "\n",
    "def predict(file_path):\n",
    "    features = extract_features(file_path)\n",
    "    features = np.array(features).reshape(1, -1)\n",
    "    prediction = model.predict(features)\n",
    "    return prediction[0]\n",
    "\n",
    "new_audio_signal = \"H:/My Drive/Task 2 - Feature Extarction/kashish_mru.wav\"\n",
    "prediction = predict(new_audio_signal)\n",
    "print(\"The prediction for \",new_audio_signal,\" is \",prediction)"
   ]
  },
  {
   "cell_type": "markdown",
   "id": "82bd2d8f",
   "metadata": {},
   "source": [
    "## CONVULUTIONAL NEURAL NETWORKS - 1"
   ]
  },
  {
   "cell_type": "code",
   "execution_count": 244,
   "id": "6ea86721",
   "metadata": {},
   "outputs": [],
   "source": [
    "from sklearn.model_selection import train_test_split\n",
    "from sklearn.preprocessing import StandardScaler"
   ]
  },
  {
   "cell_type": "code",
   "execution_count": 245,
   "id": "0ff92da8",
   "metadata": {},
   "outputs": [],
   "source": [
    "df = pd.read_csv('feature_extraction.csv')"
   ]
  },
  {
   "cell_type": "code",
   "execution_count": 246,
   "id": "61845f58",
   "metadata": {},
   "outputs": [],
   "source": [
    "X = df.drop(['label'], axis=1)\n",
    "y = df['label']"
   ]
  },
  {
   "cell_type": "code",
   "execution_count": 247,
   "id": "fb5bafe2",
   "metadata": {},
   "outputs": [],
   "source": [
    "y = y.map({'cough': 1, 'non_cough': 0})"
   ]
  },
  {
   "cell_type": "code",
   "execution_count": 248,
   "id": "6d9d5c10",
   "metadata": {},
   "outputs": [],
   "source": [
    "X_train, X_test, y_train, y_test = train_test_split(X, y, test_size=0.2, random_state=42)"
   ]
  },
  {
   "cell_type": "code",
   "execution_count": 249,
   "id": "9c9abc2b",
   "metadata": {},
   "outputs": [
    {
     "data": {
      "text/plain": [
       "(689, 27)"
      ]
     },
     "execution_count": 249,
     "metadata": {},
     "output_type": "execute_result"
    }
   ],
   "source": [
    "X_train.shape"
   ]
  },
  {
   "cell_type": "code",
   "execution_count": 250,
   "id": "4ea4f1a4",
   "metadata": {},
   "outputs": [
    {
     "data": {
      "text/plain": [
       "(173, 27)"
      ]
     },
     "execution_count": 250,
     "metadata": {},
     "output_type": "execute_result"
    }
   ],
   "source": [
    "X_test.shape"
   ]
  },
  {
   "cell_type": "code",
   "execution_count": 251,
   "id": "7db05e3d",
   "metadata": {},
   "outputs": [],
   "source": [
    "scaler = StandardScaler()\n",
    "X_train_scaled = scaler.fit_transform(X_train)\n",
    "X_test_scaled = scaler.transform(X_test)"
   ]
  },
  {
   "cell_type": "code",
   "execution_count": 252,
   "id": "48f67824",
   "metadata": {},
   "outputs": [],
   "source": [
    "X_train_scaled = X_train_scaled.reshape(X_train_scaled.shape[0], X_train_scaled.shape[1], 1)\n",
    "X_test_scaled = X_test_scaled.reshape(X_test_scaled.shape[0], X_test_scaled.shape[1], 1)"
   ]
  },
  {
   "cell_type": "code",
   "execution_count": 253,
   "id": "ad8fff21",
   "metadata": {},
   "outputs": [],
   "source": [
    "import tensorflow as tf\n",
    "from tensorflow.keras.models import Sequential\n",
    "from tensorflow.keras.layers import Conv1D, MaxPooling1D, Flatten, Dense, Dropout, BatchNormalization"
   ]
  },
  {
   "cell_type": "code",
   "execution_count": 254,
   "id": "bbc9ac56",
   "metadata": {},
   "outputs": [],
   "source": [
    "def create_cnn_model(input_shape):\n",
    "    model = Sequential()\n",
    "    model.add(Conv1D(64, kernel_size=3, activation='relu', input_shape=input_shape))\n",
    "    model.add(BatchNormalization())\n",
    "    model.add(MaxPooling1D(pool_size=2))\n",
    "    model.add(Dropout(0.2))\n",
    "\n",
    "    model.add(Conv1D(128, kernel_size=3, activation='relu'))\n",
    "    model.add(BatchNormalization())\n",
    "    model.add(MaxPooling1D(pool_size=2))\n",
    "    model.add(Dropout(0.2))\n",
    "\n",
    "    model.add(Conv1D(256, kernel_size=3, activation='relu'))\n",
    "    model.add(BatchNormalization())\n",
    "    model.add(MaxPooling1D(pool_size=2))\n",
    "    model.add(Dropout(0.2))\n",
    "\n",
    "    model.add(Flatten())\n",
    "    model.add(Dense(256, activation='relu'))\n",
    "    model.add(Dropout(0.5))\n",
    "    model.add(Dense(1, activation='sigmoid'))\n",
    "\n",
    "    return model"
   ]
  },
  {
   "cell_type": "code",
   "execution_count": 255,
   "id": "f6cb2e9c",
   "metadata": {},
   "outputs": [
    {
     "name": "stderr",
     "output_type": "stream",
     "text": [
      "C:\\Users\\pavan\\AppData\\Local\\Programs\\Python\\Python310\\lib\\site-packages\\keras\\src\\layers\\convolutional\\base_conv.py:107: UserWarning: Do not pass an `input_shape`/`input_dim` argument to a layer. When using Sequential models, prefer using an `Input(shape)` object as the first layer in the model instead.\n",
      "  super().__init__(activity_regularizer=activity_regularizer, **kwargs)\n"
     ]
    }
   ],
   "source": [
    "input_shape = (X_train_scaled.shape[1], 1)\n",
    "model = create_cnn_model(input_shape)"
   ]
  },
  {
   "cell_type": "code",
   "execution_count": 256,
   "id": "050cb47f",
   "metadata": {},
   "outputs": [
    {
     "name": "stdout",
     "output_type": "stream",
     "text": [
      "Epoch 1/10\n",
      "\u001b[1m6/6\u001b[0m \u001b[32m━━━━━━━━━━━━━━━━━━━━\u001b[0m\u001b[37m\u001b[0m \u001b[1m9s\u001b[0m 186ms/step - accuracy: 0.5872 - loss: 0.8668 - val_accuracy: 0.5434 - val_loss: 0.6653\n",
      "Epoch 2/10\n",
      "\u001b[1m6/6\u001b[0m \u001b[32m━━━━━━━━━━━━━━━━━━━━\u001b[0m\u001b[37m\u001b[0m \u001b[1m0s\u001b[0m 51ms/step - accuracy: 0.7721 - loss: 0.4996 - val_accuracy: 0.8150 - val_loss: 0.6600\n",
      "Epoch 3/10\n",
      "\u001b[1m6/6\u001b[0m \u001b[32m━━━━━━━━━━━━━━━━━━━━\u001b[0m\u001b[37m\u001b[0m \u001b[1m0s\u001b[0m 50ms/step - accuracy: 0.7672 - loss: 0.5181 - val_accuracy: 0.7572 - val_loss: 0.6607\n",
      "Epoch 4/10\n",
      "\u001b[1m6/6\u001b[0m \u001b[32m━━━━━━━━━━━━━━━━━━━━\u001b[0m\u001b[37m\u001b[0m \u001b[1m0s\u001b[0m 50ms/step - accuracy: 0.7857 - loss: 0.4573 - val_accuracy: 0.7110 - val_loss: 0.6463\n",
      "Epoch 5/10\n",
      "\u001b[1m6/6\u001b[0m \u001b[32m━━━━━━━━━━━━━━━━━━━━\u001b[0m\u001b[37m\u001b[0m \u001b[1m0s\u001b[0m 51ms/step - accuracy: 0.8167 - loss: 0.4159 - val_accuracy: 0.6474 - val_loss: 0.6358\n",
      "Epoch 6/10\n",
      "\u001b[1m6/6\u001b[0m \u001b[32m━━━━━━━━━━━━━━━━━━━━\u001b[0m\u001b[37m\u001b[0m \u001b[1m0s\u001b[0m 48ms/step - accuracy: 0.8339 - loss: 0.3931 - val_accuracy: 0.6012 - val_loss: 0.6332\n",
      "Epoch 7/10\n",
      "\u001b[1m6/6\u001b[0m \u001b[32m━━━━━━━━━━━━━━━━━━━━\u001b[0m\u001b[37m\u001b[0m \u001b[1m0s\u001b[0m 50ms/step - accuracy: 0.8193 - loss: 0.3932 - val_accuracy: 0.5896 - val_loss: 0.6359\n",
      "Epoch 8/10\n",
      "\u001b[1m6/6\u001b[0m \u001b[32m━━━━━━━━━━━━━━━━━━━━\u001b[0m\u001b[37m\u001b[0m \u001b[1m0s\u001b[0m 50ms/step - accuracy: 0.8440 - loss: 0.3908 - val_accuracy: 0.5607 - val_loss: 0.6446\n",
      "Epoch 9/10\n",
      "\u001b[1m6/6\u001b[0m \u001b[32m━━━━━━━━━━━━━━━━━━━━\u001b[0m\u001b[37m\u001b[0m \u001b[1m0s\u001b[0m 47ms/step - accuracy: 0.8423 - loss: 0.3517 - val_accuracy: 0.5434 - val_loss: 0.6586\n",
      "Epoch 10/10\n",
      "\u001b[1m6/6\u001b[0m \u001b[32m━━━━━━━━━━━━━━━━━━━━\u001b[0m\u001b[37m\u001b[0m \u001b[1m0s\u001b[0m 46ms/step - accuracy: 0.8467 - loss: 0.3912 - val_accuracy: 0.5376 - val_loss: 0.6787\n"
     ]
    }
   ],
   "source": [
    "model.compile(optimizer='adam', loss='binary_crossentropy', metrics=['accuracy'])\n",
    "\n",
    "history = model.fit(X_train_scaled, y_train, validation_data=(X_test_scaled, y_test), epochs=10, batch_size=128)"
   ]
  },
  {
   "cell_type": "code",
   "execution_count": 257,
   "id": "287cdd50",
   "metadata": {},
   "outputs": [
    {
     "data": {
      "text/html": [
       "<pre style=\"white-space:pre;overflow-x:auto;line-height:normal;font-family:Menlo,'DejaVu Sans Mono',consolas,'Courier New',monospace\"><span style=\"font-weight: bold\">Model: \"sequential_4\"</span>\n",
       "</pre>\n"
      ],
      "text/plain": [
       "\u001b[1mModel: \"sequential_4\"\u001b[0m\n"
      ]
     },
     "metadata": {},
     "output_type": "display_data"
    },
    {
     "data": {
      "text/html": [
       "<pre style=\"white-space:pre;overflow-x:auto;line-height:normal;font-family:Menlo,'DejaVu Sans Mono',consolas,'Courier New',monospace\">┏━━━━━━━━━━━━━━━━━━━━━━━━━━━━━━━━━━━━━━┳━━━━━━━━━━━━━━━━━━━━━━━━━━━━━┳━━━━━━━━━━━━━━━━━┓\n",
       "┃<span style=\"font-weight: bold\"> Layer (type)                         </span>┃<span style=\"font-weight: bold\"> Output Shape                </span>┃<span style=\"font-weight: bold\">         Param # </span>┃\n",
       "┡━━━━━━━━━━━━━━━━━━━━━━━━━━━━━━━━━━━━━━╇━━━━━━━━━━━━━━━━━━━━━━━━━━━━━╇━━━━━━━━━━━━━━━━━┩\n",
       "│ conv1d_9 (<span style=\"color: #0087ff; text-decoration-color: #0087ff\">Conv1D</span>)                    │ (<span style=\"color: #00d7ff; text-decoration-color: #00d7ff\">None</span>, <span style=\"color: #00af00; text-decoration-color: #00af00\">25</span>, <span style=\"color: #00af00; text-decoration-color: #00af00\">64</span>)              │             <span style=\"color: #00af00; text-decoration-color: #00af00\">256</span> │\n",
       "├──────────────────────────────────────┼─────────────────────────────┼─────────────────┤\n",
       "│ batch_normalization_6                │ (<span style=\"color: #00d7ff; text-decoration-color: #00d7ff\">None</span>, <span style=\"color: #00af00; text-decoration-color: #00af00\">25</span>, <span style=\"color: #00af00; text-decoration-color: #00af00\">64</span>)              │             <span style=\"color: #00af00; text-decoration-color: #00af00\">256</span> │\n",
       "│ (<span style=\"color: #0087ff; text-decoration-color: #0087ff\">BatchNormalization</span>)                 │                             │                 │\n",
       "├──────────────────────────────────────┼─────────────────────────────┼─────────────────┤\n",
       "│ max_pooling1d_9 (<span style=\"color: #0087ff; text-decoration-color: #0087ff\">MaxPooling1D</span>)       │ (<span style=\"color: #00d7ff; text-decoration-color: #00d7ff\">None</span>, <span style=\"color: #00af00; text-decoration-color: #00af00\">12</span>, <span style=\"color: #00af00; text-decoration-color: #00af00\">64</span>)              │               <span style=\"color: #00af00; text-decoration-color: #00af00\">0</span> │\n",
       "├──────────────────────────────────────┼─────────────────────────────┼─────────────────┤\n",
       "│ dropout_11 (<span style=\"color: #0087ff; text-decoration-color: #0087ff\">Dropout</span>)                 │ (<span style=\"color: #00d7ff; text-decoration-color: #00d7ff\">None</span>, <span style=\"color: #00af00; text-decoration-color: #00af00\">12</span>, <span style=\"color: #00af00; text-decoration-color: #00af00\">64</span>)              │               <span style=\"color: #00af00; text-decoration-color: #00af00\">0</span> │\n",
       "├──────────────────────────────────────┼─────────────────────────────┼─────────────────┤\n",
       "│ conv1d_10 (<span style=\"color: #0087ff; text-decoration-color: #0087ff\">Conv1D</span>)                   │ (<span style=\"color: #00d7ff; text-decoration-color: #00d7ff\">None</span>, <span style=\"color: #00af00; text-decoration-color: #00af00\">10</span>, <span style=\"color: #00af00; text-decoration-color: #00af00\">128</span>)             │          <span style=\"color: #00af00; text-decoration-color: #00af00\">24,704</span> │\n",
       "├──────────────────────────────────────┼─────────────────────────────┼─────────────────┤\n",
       "│ batch_normalization_7                │ (<span style=\"color: #00d7ff; text-decoration-color: #00d7ff\">None</span>, <span style=\"color: #00af00; text-decoration-color: #00af00\">10</span>, <span style=\"color: #00af00; text-decoration-color: #00af00\">128</span>)             │             <span style=\"color: #00af00; text-decoration-color: #00af00\">512</span> │\n",
       "│ (<span style=\"color: #0087ff; text-decoration-color: #0087ff\">BatchNormalization</span>)                 │                             │                 │\n",
       "├──────────────────────────────────────┼─────────────────────────────┼─────────────────┤\n",
       "│ max_pooling1d_10 (<span style=\"color: #0087ff; text-decoration-color: #0087ff\">MaxPooling1D</span>)      │ (<span style=\"color: #00d7ff; text-decoration-color: #00d7ff\">None</span>, <span style=\"color: #00af00; text-decoration-color: #00af00\">5</span>, <span style=\"color: #00af00; text-decoration-color: #00af00\">128</span>)              │               <span style=\"color: #00af00; text-decoration-color: #00af00\">0</span> │\n",
       "├──────────────────────────────────────┼─────────────────────────────┼─────────────────┤\n",
       "│ dropout_12 (<span style=\"color: #0087ff; text-decoration-color: #0087ff\">Dropout</span>)                 │ (<span style=\"color: #00d7ff; text-decoration-color: #00d7ff\">None</span>, <span style=\"color: #00af00; text-decoration-color: #00af00\">5</span>, <span style=\"color: #00af00; text-decoration-color: #00af00\">128</span>)              │               <span style=\"color: #00af00; text-decoration-color: #00af00\">0</span> │\n",
       "├──────────────────────────────────────┼─────────────────────────────┼─────────────────┤\n",
       "│ conv1d_11 (<span style=\"color: #0087ff; text-decoration-color: #0087ff\">Conv1D</span>)                   │ (<span style=\"color: #00d7ff; text-decoration-color: #00d7ff\">None</span>, <span style=\"color: #00af00; text-decoration-color: #00af00\">3</span>, <span style=\"color: #00af00; text-decoration-color: #00af00\">256</span>)              │          <span style=\"color: #00af00; text-decoration-color: #00af00\">98,560</span> │\n",
       "├──────────────────────────────────────┼─────────────────────────────┼─────────────────┤\n",
       "│ batch_normalization_8                │ (<span style=\"color: #00d7ff; text-decoration-color: #00d7ff\">None</span>, <span style=\"color: #00af00; text-decoration-color: #00af00\">3</span>, <span style=\"color: #00af00; text-decoration-color: #00af00\">256</span>)              │           <span style=\"color: #00af00; text-decoration-color: #00af00\">1,024</span> │\n",
       "│ (<span style=\"color: #0087ff; text-decoration-color: #0087ff\">BatchNormalization</span>)                 │                             │                 │\n",
       "├──────────────────────────────────────┼─────────────────────────────┼─────────────────┤\n",
       "│ max_pooling1d_11 (<span style=\"color: #0087ff; text-decoration-color: #0087ff\">MaxPooling1D</span>)      │ (<span style=\"color: #00d7ff; text-decoration-color: #00d7ff\">None</span>, <span style=\"color: #00af00; text-decoration-color: #00af00\">1</span>, <span style=\"color: #00af00; text-decoration-color: #00af00\">256</span>)              │               <span style=\"color: #00af00; text-decoration-color: #00af00\">0</span> │\n",
       "├──────────────────────────────────────┼─────────────────────────────┼─────────────────┤\n",
       "│ dropout_13 (<span style=\"color: #0087ff; text-decoration-color: #0087ff\">Dropout</span>)                 │ (<span style=\"color: #00d7ff; text-decoration-color: #00d7ff\">None</span>, <span style=\"color: #00af00; text-decoration-color: #00af00\">1</span>, <span style=\"color: #00af00; text-decoration-color: #00af00\">256</span>)              │               <span style=\"color: #00af00; text-decoration-color: #00af00\">0</span> │\n",
       "├──────────────────────────────────────┼─────────────────────────────┼─────────────────┤\n",
       "│ flatten_3 (<span style=\"color: #0087ff; text-decoration-color: #0087ff\">Flatten</span>)                  │ (<span style=\"color: #00d7ff; text-decoration-color: #00d7ff\">None</span>, <span style=\"color: #00af00; text-decoration-color: #00af00\">256</span>)                 │               <span style=\"color: #00af00; text-decoration-color: #00af00\">0</span> │\n",
       "├──────────────────────────────────────┼─────────────────────────────┼─────────────────┤\n",
       "│ dense_14 (<span style=\"color: #0087ff; text-decoration-color: #0087ff\">Dense</span>)                     │ (<span style=\"color: #00d7ff; text-decoration-color: #00d7ff\">None</span>, <span style=\"color: #00af00; text-decoration-color: #00af00\">256</span>)                 │          <span style=\"color: #00af00; text-decoration-color: #00af00\">65,792</span> │\n",
       "├──────────────────────────────────────┼─────────────────────────────┼─────────────────┤\n",
       "│ dropout_14 (<span style=\"color: #0087ff; text-decoration-color: #0087ff\">Dropout</span>)                 │ (<span style=\"color: #00d7ff; text-decoration-color: #00d7ff\">None</span>, <span style=\"color: #00af00; text-decoration-color: #00af00\">256</span>)                 │               <span style=\"color: #00af00; text-decoration-color: #00af00\">0</span> │\n",
       "├──────────────────────────────────────┼─────────────────────────────┼─────────────────┤\n",
       "│ dense_15 (<span style=\"color: #0087ff; text-decoration-color: #0087ff\">Dense</span>)                     │ (<span style=\"color: #00d7ff; text-decoration-color: #00d7ff\">None</span>, <span style=\"color: #00af00; text-decoration-color: #00af00\">1</span>)                   │             <span style=\"color: #00af00; text-decoration-color: #00af00\">257</span> │\n",
       "└──────────────────────────────────────┴─────────────────────────────┴─────────────────┘\n",
       "</pre>\n"
      ],
      "text/plain": [
       "┏━━━━━━━━━━━━━━━━━━━━━━━━━━━━━━━━━━━━━━┳━━━━━━━━━━━━━━━━━━━━━━━━━━━━━┳━━━━━━━━━━━━━━━━━┓\n",
       "┃\u001b[1m \u001b[0m\u001b[1mLayer (type)                        \u001b[0m\u001b[1m \u001b[0m┃\u001b[1m \u001b[0m\u001b[1mOutput Shape               \u001b[0m\u001b[1m \u001b[0m┃\u001b[1m \u001b[0m\u001b[1m        Param #\u001b[0m\u001b[1m \u001b[0m┃\n",
       "┡━━━━━━━━━━━━━━━━━━━━━━━━━━━━━━━━━━━━━━╇━━━━━━━━━━━━━━━━━━━━━━━━━━━━━╇━━━━━━━━━━━━━━━━━┩\n",
       "│ conv1d_9 (\u001b[38;5;33mConv1D\u001b[0m)                    │ (\u001b[38;5;45mNone\u001b[0m, \u001b[38;5;34m25\u001b[0m, \u001b[38;5;34m64\u001b[0m)              │             \u001b[38;5;34m256\u001b[0m │\n",
       "├──────────────────────────────────────┼─────────────────────────────┼─────────────────┤\n",
       "│ batch_normalization_6                │ (\u001b[38;5;45mNone\u001b[0m, \u001b[38;5;34m25\u001b[0m, \u001b[38;5;34m64\u001b[0m)              │             \u001b[38;5;34m256\u001b[0m │\n",
       "│ (\u001b[38;5;33mBatchNormalization\u001b[0m)                 │                             │                 │\n",
       "├──────────────────────────────────────┼─────────────────────────────┼─────────────────┤\n",
       "│ max_pooling1d_9 (\u001b[38;5;33mMaxPooling1D\u001b[0m)       │ (\u001b[38;5;45mNone\u001b[0m, \u001b[38;5;34m12\u001b[0m, \u001b[38;5;34m64\u001b[0m)              │               \u001b[38;5;34m0\u001b[0m │\n",
       "├──────────────────────────────────────┼─────────────────────────────┼─────────────────┤\n",
       "│ dropout_11 (\u001b[38;5;33mDropout\u001b[0m)                 │ (\u001b[38;5;45mNone\u001b[0m, \u001b[38;5;34m12\u001b[0m, \u001b[38;5;34m64\u001b[0m)              │               \u001b[38;5;34m0\u001b[0m │\n",
       "├──────────────────────────────────────┼─────────────────────────────┼─────────────────┤\n",
       "│ conv1d_10 (\u001b[38;5;33mConv1D\u001b[0m)                   │ (\u001b[38;5;45mNone\u001b[0m, \u001b[38;5;34m10\u001b[0m, \u001b[38;5;34m128\u001b[0m)             │          \u001b[38;5;34m24,704\u001b[0m │\n",
       "├──────────────────────────────────────┼─────────────────────────────┼─────────────────┤\n",
       "│ batch_normalization_7                │ (\u001b[38;5;45mNone\u001b[0m, \u001b[38;5;34m10\u001b[0m, \u001b[38;5;34m128\u001b[0m)             │             \u001b[38;5;34m512\u001b[0m │\n",
       "│ (\u001b[38;5;33mBatchNormalization\u001b[0m)                 │                             │                 │\n",
       "├──────────────────────────────────────┼─────────────────────────────┼─────────────────┤\n",
       "│ max_pooling1d_10 (\u001b[38;5;33mMaxPooling1D\u001b[0m)      │ (\u001b[38;5;45mNone\u001b[0m, \u001b[38;5;34m5\u001b[0m, \u001b[38;5;34m128\u001b[0m)              │               \u001b[38;5;34m0\u001b[0m │\n",
       "├──────────────────────────────────────┼─────────────────────────────┼─────────────────┤\n",
       "│ dropout_12 (\u001b[38;5;33mDropout\u001b[0m)                 │ (\u001b[38;5;45mNone\u001b[0m, \u001b[38;5;34m5\u001b[0m, \u001b[38;5;34m128\u001b[0m)              │               \u001b[38;5;34m0\u001b[0m │\n",
       "├──────────────────────────────────────┼─────────────────────────────┼─────────────────┤\n",
       "│ conv1d_11 (\u001b[38;5;33mConv1D\u001b[0m)                   │ (\u001b[38;5;45mNone\u001b[0m, \u001b[38;5;34m3\u001b[0m, \u001b[38;5;34m256\u001b[0m)              │          \u001b[38;5;34m98,560\u001b[0m │\n",
       "├──────────────────────────────────────┼─────────────────────────────┼─────────────────┤\n",
       "│ batch_normalization_8                │ (\u001b[38;5;45mNone\u001b[0m, \u001b[38;5;34m3\u001b[0m, \u001b[38;5;34m256\u001b[0m)              │           \u001b[38;5;34m1,024\u001b[0m │\n",
       "│ (\u001b[38;5;33mBatchNormalization\u001b[0m)                 │                             │                 │\n",
       "├──────────────────────────────────────┼─────────────────────────────┼─────────────────┤\n",
       "│ max_pooling1d_11 (\u001b[38;5;33mMaxPooling1D\u001b[0m)      │ (\u001b[38;5;45mNone\u001b[0m, \u001b[38;5;34m1\u001b[0m, \u001b[38;5;34m256\u001b[0m)              │               \u001b[38;5;34m0\u001b[0m │\n",
       "├──────────────────────────────────────┼─────────────────────────────┼─────────────────┤\n",
       "│ dropout_13 (\u001b[38;5;33mDropout\u001b[0m)                 │ (\u001b[38;5;45mNone\u001b[0m, \u001b[38;5;34m1\u001b[0m, \u001b[38;5;34m256\u001b[0m)              │               \u001b[38;5;34m0\u001b[0m │\n",
       "├──────────────────────────────────────┼─────────────────────────────┼─────────────────┤\n",
       "│ flatten_3 (\u001b[38;5;33mFlatten\u001b[0m)                  │ (\u001b[38;5;45mNone\u001b[0m, \u001b[38;5;34m256\u001b[0m)                 │               \u001b[38;5;34m0\u001b[0m │\n",
       "├──────────────────────────────────────┼─────────────────────────────┼─────────────────┤\n",
       "│ dense_14 (\u001b[38;5;33mDense\u001b[0m)                     │ (\u001b[38;5;45mNone\u001b[0m, \u001b[38;5;34m256\u001b[0m)                 │          \u001b[38;5;34m65,792\u001b[0m │\n",
       "├──────────────────────────────────────┼─────────────────────────────┼─────────────────┤\n",
       "│ dropout_14 (\u001b[38;5;33mDropout\u001b[0m)                 │ (\u001b[38;5;45mNone\u001b[0m, \u001b[38;5;34m256\u001b[0m)                 │               \u001b[38;5;34m0\u001b[0m │\n",
       "├──────────────────────────────────────┼─────────────────────────────┼─────────────────┤\n",
       "│ dense_15 (\u001b[38;5;33mDense\u001b[0m)                     │ (\u001b[38;5;45mNone\u001b[0m, \u001b[38;5;34m1\u001b[0m)                   │             \u001b[38;5;34m257\u001b[0m │\n",
       "└──────────────────────────────────────┴─────────────────────────────┴─────────────────┘\n"
      ]
     },
     "metadata": {},
     "output_type": "display_data"
    },
    {
     "data": {
      "text/html": [
       "<pre style=\"white-space:pre;overflow-x:auto;line-height:normal;font-family:Menlo,'DejaVu Sans Mono',consolas,'Courier New',monospace\"><span style=\"font-weight: bold\"> Total params: </span><span style=\"color: #00af00; text-decoration-color: #00af00\">572,293</span> (2.18 MB)\n",
       "</pre>\n"
      ],
      "text/plain": [
       "\u001b[1m Total params: \u001b[0m\u001b[38;5;34m572,293\u001b[0m (2.18 MB)\n"
      ]
     },
     "metadata": {},
     "output_type": "display_data"
    },
    {
     "data": {
      "text/html": [
       "<pre style=\"white-space:pre;overflow-x:auto;line-height:normal;font-family:Menlo,'DejaVu Sans Mono',consolas,'Courier New',monospace\"><span style=\"font-weight: bold\"> Trainable params: </span><span style=\"color: #00af00; text-decoration-color: #00af00\">190,465</span> (744.00 KB)\n",
       "</pre>\n"
      ],
      "text/plain": [
       "\u001b[1m Trainable params: \u001b[0m\u001b[38;5;34m190,465\u001b[0m (744.00 KB)\n"
      ]
     },
     "metadata": {},
     "output_type": "display_data"
    },
    {
     "data": {
      "text/html": [
       "<pre style=\"white-space:pre;overflow-x:auto;line-height:normal;font-family:Menlo,'DejaVu Sans Mono',consolas,'Courier New',monospace\"><span style=\"font-weight: bold\"> Non-trainable params: </span><span style=\"color: #00af00; text-decoration-color: #00af00\">896</span> (3.50 KB)\n",
       "</pre>\n"
      ],
      "text/plain": [
       "\u001b[1m Non-trainable params: \u001b[0m\u001b[38;5;34m896\u001b[0m (3.50 KB)\n"
      ]
     },
     "metadata": {},
     "output_type": "display_data"
    },
    {
     "data": {
      "text/html": [
       "<pre style=\"white-space:pre;overflow-x:auto;line-height:normal;font-family:Menlo,'DejaVu Sans Mono',consolas,'Courier New',monospace\"><span style=\"font-weight: bold\"> Optimizer params: </span><span style=\"color: #00af00; text-decoration-color: #00af00\">380,932</span> (1.45 MB)\n",
       "</pre>\n"
      ],
      "text/plain": [
       "\u001b[1m Optimizer params: \u001b[0m\u001b[38;5;34m380,932\u001b[0m (1.45 MB)\n"
      ]
     },
     "metadata": {},
     "output_type": "display_data"
    }
   ],
   "source": [
    "model.summary()"
   ]
  },
  {
   "cell_type": "code",
   "execution_count": 258,
   "id": "0a90698b",
   "metadata": {},
   "outputs": [],
   "source": [
    "from sklearn.metrics import accuracy_score, precision_score, recall_score, f1_score"
   ]
  },
  {
   "cell_type": "code",
   "execution_count": 259,
   "id": "4f08cf0d",
   "metadata": {},
   "outputs": [
    {
     "name": "stdout",
     "output_type": "stream",
     "text": [
      "\u001b[1m6/6\u001b[0m \u001b[32m━━━━━━━━━━━━━━━━━━━━\u001b[0m\u001b[37m\u001b[0m \u001b[1m1s\u001b[0m 97ms/step\n"
     ]
    }
   ],
   "source": [
    "y_pred = (model.predict(X_test_scaled) > 0.5).astype(\"int32\")"
   ]
  },
  {
   "cell_type": "code",
   "execution_count": 260,
   "id": "7eb7e26c",
   "metadata": {},
   "outputs": [],
   "source": [
    "accuracy = accuracy_score(y_test, y_pred)\n",
    "precision = precision_score(y_test, y_pred)\n",
    "recall = recall_score(y_test, y_pred)\n",
    "f1 = f1_score(y_test, y_pred)"
   ]
  },
  {
   "cell_type": "code",
   "execution_count": 261,
   "id": "4a61303e",
   "metadata": {},
   "outputs": [
    {
     "name": "stdout",
     "output_type": "stream",
     "text": [
      "Convolutional Neural Networks Evaluation :\n",
      "Accuracy: 0.5375722543352601\n",
      "Precision: 0.5238095238095238\n",
      "Recall: 1.0\n",
      "F1 Score: 0.6875000000000001\n"
     ]
    }
   ],
   "source": [
    "print(\"Convolutional Neural Networks Evaluation :\")\n",
    "print(\"Accuracy:\", accuracy)\n",
    "print(\"Precision:\", precision)\n",
    "print(\"Recall:\", recall)\n",
    "print(\"F1 Score:\", f1)"
   ]
  },
  {
   "cell_type": "code",
   "execution_count": 262,
   "id": "6acec482",
   "metadata": {},
   "outputs": [
    {
     "name": "stderr",
     "output_type": "stream",
     "text": [
      "WARNING:absl:You are saving your model as an HDF5 file via `model.save()` or `keras.saving.save_model(model)`. This file format is considered legacy. We recommend using instead the native Keras format, e.g. `model.save('my_model.keras')` or `keras.saving.save_model(model, 'my_model.keras')`. \n"
     ]
    }
   ],
   "source": [
    "model.save('cnn_cough_detection_model.h5')"
   ]
  },
  {
   "cell_type": "markdown",
   "id": "aae01618",
   "metadata": {},
   "source": [
    "### PREDICTION"
   ]
  },
  {
   "cell_type": "code",
   "execution_count": 264,
   "id": "106d6f76",
   "metadata": {},
   "outputs": [
    {
     "name": "stderr",
     "output_type": "stream",
     "text": [
      "WARNING:absl:Compiled the loaded model, but the compiled metrics have yet to be built. `model.compile_metrics` will be empty until you train or evaluate the model.\n",
      "C:\\Users\\pavan\\AppData\\Local\\Programs\\Python\\Python310\\lib\\site-packages\\sklearn\\base.py:439: UserWarning: X does not have valid feature names, but StandardScaler was fitted with feature names\n",
      "  warnings.warn(\n"
     ]
    },
    {
     "name": "stdout",
     "output_type": "stream",
     "text": [
      "\u001b[1m1/1\u001b[0m \u001b[32m━━━━━━━━━━━━━━━━━━━━\u001b[0m\u001b[37m\u001b[0m \u001b[1m0s\u001b[0m 455ms/step\n",
      "The prediction for  H:/My Drive/Task 2 - Feature Extarction/kashish_mru.wav  is  cough\n"
     ]
    }
   ],
   "source": [
    "from tensorflow.keras.models import load_model\n",
    "\n",
    "model = load_model('cnn_cough_detection_model.h5')\n",
    "\n",
    "def predict(audio_file):\n",
    "    features = extract_features(audio_file)\n",
    "    \n",
    "    features_df = pd.DataFrame([features])\n",
    "    \n",
    "    features_scaled = scaler.transform(features_df)\n",
    "    \n",
    "    features_scaled = features_scaled.reshape(features_scaled.shape[0], features_scaled.shape[1], 1)\n",
    "    \n",
    "    prediction = (model.predict(features_scaled) > 0.5).astype(\"int32\")\n",
    "    \n",
    "    label = 'cough' if prediction[0][0] == 1 else 'non cough'\n",
    "    \n",
    "    return label\n",
    "\n",
    "new_audio_signal = \"H:/My Drive/Task 2 - Feature Extarction/kashish_mru.wav\"\n",
    "prediction = predict(new_audio_signal)\n",
    "print(\"The prediction for \",new_audio_signal,\" is \",prediction)"
   ]
  },
  {
   "cell_type": "markdown",
   "id": "672724f7",
   "metadata": {},
   "source": [
    "## DENSE NEURAL NETWORKS - 1"
   ]
  },
  {
   "cell_type": "code",
   "execution_count": 265,
   "id": "f2fc2454",
   "metadata": {},
   "outputs": [],
   "source": [
    "from sklearn.model_selection import train_test_split\n",
    "from sklearn.preprocessing import LabelEncoder, StandardScaler\n",
    "from sklearn.metrics import accuracy_score, precision_score, recall_score, f1_score\n",
    "from tensorflow.keras import models, layers, callbacks"
   ]
  },
  {
   "cell_type": "code",
   "execution_count": 266,
   "id": "865d34ad",
   "metadata": {},
   "outputs": [],
   "source": [
    "df = pd.read_csv(\"feature_extraction.csv\")"
   ]
  },
  {
   "cell_type": "code",
   "execution_count": 267,
   "id": "b9c675b3",
   "metadata": {},
   "outputs": [
    {
     "data": {
      "text/html": [
       "<div>\n",
       "<style scoped>\n",
       "    .dataframe tbody tr th:only-of-type {\n",
       "        vertical-align: middle;\n",
       "    }\n",
       "\n",
       "    .dataframe tbody tr th {\n",
       "        vertical-align: top;\n",
       "    }\n",
       "\n",
       "    .dataframe thead th {\n",
       "        text-align: right;\n",
       "    }\n",
       "</style>\n",
       "<table border=\"1\" class=\"dataframe\">\n",
       "  <thead>\n",
       "    <tr style=\"text-align: right;\">\n",
       "      <th></th>\n",
       "      <th>zcr</th>\n",
       "      <th>spectral_centroid</th>\n",
       "      <th>spectral_bandwidth</th>\n",
       "      <th>spectral_contrast</th>\n",
       "      <th>spectral_rolloff</th>\n",
       "      <th>rms_energy</th>\n",
       "      <th>mfcc_1</th>\n",
       "      <th>mfcc_2</th>\n",
       "      <th>mfcc_3</th>\n",
       "      <th>mfcc_4</th>\n",
       "      <th>...</th>\n",
       "      <th>mfcc_13</th>\n",
       "      <th>mfcc_14</th>\n",
       "      <th>mfcc_15</th>\n",
       "      <th>mfcc_16</th>\n",
       "      <th>mfcc_17</th>\n",
       "      <th>mfcc_18</th>\n",
       "      <th>mfcc_19</th>\n",
       "      <th>mfcc_20</th>\n",
       "      <th>mfcc_21</th>\n",
       "      <th>label</th>\n",
       "    </tr>\n",
       "  </thead>\n",
       "  <tbody>\n",
       "    <tr>\n",
       "      <th>0</th>\n",
       "      <td>0.029213</td>\n",
       "      <td>1112.871564</td>\n",
       "      <td>1604.056017</td>\n",
       "      <td>24.892593</td>\n",
       "      <td>1760.744265</td>\n",
       "      <td>0.081122</td>\n",
       "      <td>-448.81583</td>\n",
       "      <td>122.14291</td>\n",
       "      <td>-30.411432</td>\n",
       "      <td>-21.905825</td>\n",
       "      <td>...</td>\n",
       "      <td>-17.041662</td>\n",
       "      <td>-19.493896</td>\n",
       "      <td>-17.205946</td>\n",
       "      <td>-9.201260</td>\n",
       "      <td>-0.198663</td>\n",
       "      <td>5.860787</td>\n",
       "      <td>7.860169</td>\n",
       "      <td>7.522961</td>\n",
       "      <td>8.683452</td>\n",
       "      <td>non_cough</td>\n",
       "    </tr>\n",
       "    <tr>\n",
       "      <th>1</th>\n",
       "      <td>0.012457</td>\n",
       "      <td>1050.948040</td>\n",
       "      <td>2174.865326</td>\n",
       "      <td>15.973477</td>\n",
       "      <td>1694.400239</td>\n",
       "      <td>0.040163</td>\n",
       "      <td>-412.30994</td>\n",
       "      <td>130.85251</td>\n",
       "      <td>16.608328</td>\n",
       "      <td>69.699390</td>\n",
       "      <td>...</td>\n",
       "      <td>-8.629910</td>\n",
       "      <td>-6.937414</td>\n",
       "      <td>-1.147614</td>\n",
       "      <td>-5.570846</td>\n",
       "      <td>0.199644</td>\n",
       "      <td>1.057782</td>\n",
       "      <td>-6.458854</td>\n",
       "      <td>0.350183</td>\n",
       "      <td>-0.142641</td>\n",
       "      <td>non_cough</td>\n",
       "    </tr>\n",
       "    <tr>\n",
       "      <th>2</th>\n",
       "      <td>0.100690</td>\n",
       "      <td>3195.011947</td>\n",
       "      <td>3049.857138</td>\n",
       "      <td>16.933318</td>\n",
       "      <td>5852.706205</td>\n",
       "      <td>0.109561</td>\n",
       "      <td>-293.02173</td>\n",
       "      <td>150.12302</td>\n",
       "      <td>-19.515726</td>\n",
       "      <td>-0.561357</td>\n",
       "      <td>...</td>\n",
       "      <td>5.950315</td>\n",
       "      <td>-3.206813</td>\n",
       "      <td>-0.501098</td>\n",
       "      <td>-3.582239</td>\n",
       "      <td>-4.231604</td>\n",
       "      <td>2.062259</td>\n",
       "      <td>2.788978</td>\n",
       "      <td>-0.896737</td>\n",
       "      <td>-0.267438</td>\n",
       "      <td>non_cough</td>\n",
       "    </tr>\n",
       "    <tr>\n",
       "      <th>3</th>\n",
       "      <td>0.001611</td>\n",
       "      <td>1067.626882</td>\n",
       "      <td>2618.348851</td>\n",
       "      <td>12.851745</td>\n",
       "      <td>1894.921875</td>\n",
       "      <td>0.250158</td>\n",
       "      <td>-320.02070</td>\n",
       "      <td>119.57776</td>\n",
       "      <td>6.242011</td>\n",
       "      <td>41.371864</td>\n",
       "      <td>...</td>\n",
       "      <td>11.427472</td>\n",
       "      <td>10.879184</td>\n",
       "      <td>10.726569</td>\n",
       "      <td>9.264940</td>\n",
       "      <td>5.624715</td>\n",
       "      <td>2.997437</td>\n",
       "      <td>5.239369</td>\n",
       "      <td>6.776089</td>\n",
       "      <td>3.964313</td>\n",
       "      <td>non_cough</td>\n",
       "    </tr>\n",
       "    <tr>\n",
       "      <th>4</th>\n",
       "      <td>0.044128</td>\n",
       "      <td>2770.453081</td>\n",
       "      <td>2867.777937</td>\n",
       "      <td>19.252790</td>\n",
       "      <td>5707.644653</td>\n",
       "      <td>0.161779</td>\n",
       "      <td>-195.62204</td>\n",
       "      <td>129.60016</td>\n",
       "      <td>-58.906826</td>\n",
       "      <td>52.263382</td>\n",
       "      <td>...</td>\n",
       "      <td>7.825397</td>\n",
       "      <td>-2.478972</td>\n",
       "      <td>6.249976</td>\n",
       "      <td>9.515294</td>\n",
       "      <td>-5.330663</td>\n",
       "      <td>1.446208</td>\n",
       "      <td>-8.028227</td>\n",
       "      <td>-5.254991</td>\n",
       "      <td>-3.608084</td>\n",
       "      <td>non_cough</td>\n",
       "    </tr>\n",
       "    <tr>\n",
       "      <th>...</th>\n",
       "      <td>...</td>\n",
       "      <td>...</td>\n",
       "      <td>...</td>\n",
       "      <td>...</td>\n",
       "      <td>...</td>\n",
       "      <td>...</td>\n",
       "      <td>...</td>\n",
       "      <td>...</td>\n",
       "      <td>...</td>\n",
       "      <td>...</td>\n",
       "      <td>...</td>\n",
       "      <td>...</td>\n",
       "      <td>...</td>\n",
       "      <td>...</td>\n",
       "      <td>...</td>\n",
       "      <td>...</td>\n",
       "      <td>...</td>\n",
       "      <td>...</td>\n",
       "      <td>...</td>\n",
       "      <td>...</td>\n",
       "      <td>...</td>\n",
       "    </tr>\n",
       "    <tr>\n",
       "      <th>857</th>\n",
       "      <td>0.079220</td>\n",
       "      <td>2693.482587</td>\n",
       "      <td>2599.789602</td>\n",
       "      <td>17.428186</td>\n",
       "      <td>4800.445662</td>\n",
       "      <td>0.040164</td>\n",
       "      <td>-300.02795</td>\n",
       "      <td>155.08849</td>\n",
       "      <td>-66.840660</td>\n",
       "      <td>20.671022</td>\n",
       "      <td>...</td>\n",
       "      <td>-8.014601</td>\n",
       "      <td>6.603203</td>\n",
       "      <td>-1.622552</td>\n",
       "      <td>-0.095497</td>\n",
       "      <td>5.154353</td>\n",
       "      <td>-5.718300</td>\n",
       "      <td>1.815212</td>\n",
       "      <td>-5.435640</td>\n",
       "      <td>-2.056177</td>\n",
       "      <td>cough</td>\n",
       "    </tr>\n",
       "    <tr>\n",
       "      <th>858</th>\n",
       "      <td>0.086063</td>\n",
       "      <td>4237.359232</td>\n",
       "      <td>4647.301584</td>\n",
       "      <td>17.323820</td>\n",
       "      <td>8733.250537</td>\n",
       "      <td>0.014105</td>\n",
       "      <td>-427.93470</td>\n",
       "      <td>102.49376</td>\n",
       "      <td>-26.879637</td>\n",
       "      <td>7.111455</td>\n",
       "      <td>...</td>\n",
       "      <td>-19.243622</td>\n",
       "      <td>-7.554722</td>\n",
       "      <td>-6.590545</td>\n",
       "      <td>-4.727139</td>\n",
       "      <td>-4.538400</td>\n",
       "      <td>-4.069426</td>\n",
       "      <td>-5.873992</td>\n",
       "      <td>-1.550436</td>\n",
       "      <td>-5.683088</td>\n",
       "      <td>cough</td>\n",
       "    </tr>\n",
       "    <tr>\n",
       "      <th>859</th>\n",
       "      <td>0.024711</td>\n",
       "      <td>1195.888758</td>\n",
       "      <td>1972.589472</td>\n",
       "      <td>17.095105</td>\n",
       "      <td>2294.282131</td>\n",
       "      <td>0.078553</td>\n",
       "      <td>-306.71332</td>\n",
       "      <td>169.64798</td>\n",
       "      <td>5.926561</td>\n",
       "      <td>-17.236458</td>\n",
       "      <td>...</td>\n",
       "      <td>4.376550</td>\n",
       "      <td>-4.724573</td>\n",
       "      <td>4.331160</td>\n",
       "      <td>9.613692</td>\n",
       "      <td>1.660168</td>\n",
       "      <td>1.348640</td>\n",
       "      <td>6.709805</td>\n",
       "      <td>2.372028</td>\n",
       "      <td>-0.943119</td>\n",
       "      <td>cough</td>\n",
       "    </tr>\n",
       "    <tr>\n",
       "      <th>860</th>\n",
       "      <td>0.108596</td>\n",
       "      <td>3871.364219</td>\n",
       "      <td>4093.153195</td>\n",
       "      <td>17.292438</td>\n",
       "      <td>7456.062180</td>\n",
       "      <td>0.011830</td>\n",
       "      <td>-444.11957</td>\n",
       "      <td>127.43482</td>\n",
       "      <td>-37.609917</td>\n",
       "      <td>35.145657</td>\n",
       "      <td>...</td>\n",
       "      <td>2.233887</td>\n",
       "      <td>-0.598832</td>\n",
       "      <td>10.553861</td>\n",
       "      <td>-9.460074</td>\n",
       "      <td>-0.121605</td>\n",
       "      <td>4.381053</td>\n",
       "      <td>-6.817329</td>\n",
       "      <td>2.434754</td>\n",
       "      <td>-3.922333</td>\n",
       "      <td>cough</td>\n",
       "    </tr>\n",
       "    <tr>\n",
       "      <th>861</th>\n",
       "      <td>0.055596</td>\n",
       "      <td>1684.951561</td>\n",
       "      <td>1554.551033</td>\n",
       "      <td>18.466850</td>\n",
       "      <td>2726.325758</td>\n",
       "      <td>0.170683</td>\n",
       "      <td>-212.80153</td>\n",
       "      <td>167.89682</td>\n",
       "      <td>-49.961820</td>\n",
       "      <td>-42.788550</td>\n",
       "      <td>...</td>\n",
       "      <td>1.079924</td>\n",
       "      <td>1.572679</td>\n",
       "      <td>-3.577433</td>\n",
       "      <td>1.724799</td>\n",
       "      <td>4.526328</td>\n",
       "      <td>-3.280967</td>\n",
       "      <td>-0.454278</td>\n",
       "      <td>5.085599</td>\n",
       "      <td>0.560330</td>\n",
       "      <td>cough</td>\n",
       "    </tr>\n",
       "  </tbody>\n",
       "</table>\n",
       "<p>862 rows × 28 columns</p>\n",
       "</div>"
      ],
      "text/plain": [
       "          zcr  spectral_centroid  spectral_bandwidth  spectral_contrast   \n",
       "0    0.029213        1112.871564         1604.056017          24.892593  \\\n",
       "1    0.012457        1050.948040         2174.865326          15.973477   \n",
       "2    0.100690        3195.011947         3049.857138          16.933318   \n",
       "3    0.001611        1067.626882         2618.348851          12.851745   \n",
       "4    0.044128        2770.453081         2867.777937          19.252790   \n",
       "..        ...                ...                 ...                ...   \n",
       "857  0.079220        2693.482587         2599.789602          17.428186   \n",
       "858  0.086063        4237.359232         4647.301584          17.323820   \n",
       "859  0.024711        1195.888758         1972.589472          17.095105   \n",
       "860  0.108596        3871.364219         4093.153195          17.292438   \n",
       "861  0.055596        1684.951561         1554.551033          18.466850   \n",
       "\n",
       "     spectral_rolloff  rms_energy     mfcc_1     mfcc_2     mfcc_3     mfcc_4   \n",
       "0         1760.744265    0.081122 -448.81583  122.14291 -30.411432 -21.905825  \\\n",
       "1         1694.400239    0.040163 -412.30994  130.85251  16.608328  69.699390   \n",
       "2         5852.706205    0.109561 -293.02173  150.12302 -19.515726  -0.561357   \n",
       "3         1894.921875    0.250158 -320.02070  119.57776   6.242011  41.371864   \n",
       "4         5707.644653    0.161779 -195.62204  129.60016 -58.906826  52.263382   \n",
       "..                ...         ...        ...        ...        ...        ...   \n",
       "857       4800.445662    0.040164 -300.02795  155.08849 -66.840660  20.671022   \n",
       "858       8733.250537    0.014105 -427.93470  102.49376 -26.879637   7.111455   \n",
       "859       2294.282131    0.078553 -306.71332  169.64798   5.926561 -17.236458   \n",
       "860       7456.062180    0.011830 -444.11957  127.43482 -37.609917  35.145657   \n",
       "861       2726.325758    0.170683 -212.80153  167.89682 -49.961820 -42.788550   \n",
       "\n",
       "     ...    mfcc_13    mfcc_14    mfcc_15   mfcc_16   mfcc_17   mfcc_18   \n",
       "0    ... -17.041662 -19.493896 -17.205946 -9.201260 -0.198663  5.860787  \\\n",
       "1    ...  -8.629910  -6.937414  -1.147614 -5.570846  0.199644  1.057782   \n",
       "2    ...   5.950315  -3.206813  -0.501098 -3.582239 -4.231604  2.062259   \n",
       "3    ...  11.427472  10.879184  10.726569  9.264940  5.624715  2.997437   \n",
       "4    ...   7.825397  -2.478972   6.249976  9.515294 -5.330663  1.446208   \n",
       "..   ...        ...        ...        ...       ...       ...       ...   \n",
       "857  ...  -8.014601   6.603203  -1.622552 -0.095497  5.154353 -5.718300   \n",
       "858  ... -19.243622  -7.554722  -6.590545 -4.727139 -4.538400 -4.069426   \n",
       "859  ...   4.376550  -4.724573   4.331160  9.613692  1.660168  1.348640   \n",
       "860  ...   2.233887  -0.598832  10.553861 -9.460074 -0.121605  4.381053   \n",
       "861  ...   1.079924   1.572679  -3.577433  1.724799  4.526328 -3.280967   \n",
       "\n",
       "      mfcc_19   mfcc_20   mfcc_21      label  \n",
       "0    7.860169  7.522961  8.683452  non_cough  \n",
       "1   -6.458854  0.350183 -0.142641  non_cough  \n",
       "2    2.788978 -0.896737 -0.267438  non_cough  \n",
       "3    5.239369  6.776089  3.964313  non_cough  \n",
       "4   -8.028227 -5.254991 -3.608084  non_cough  \n",
       "..        ...       ...       ...        ...  \n",
       "857  1.815212 -5.435640 -2.056177      cough  \n",
       "858 -5.873992 -1.550436 -5.683088      cough  \n",
       "859  6.709805  2.372028 -0.943119      cough  \n",
       "860 -6.817329  2.434754 -3.922333      cough  \n",
       "861 -0.454278  5.085599  0.560330      cough  \n",
       "\n",
       "[862 rows x 28 columns]"
      ]
     },
     "execution_count": 267,
     "metadata": {},
     "output_type": "execute_result"
    }
   ],
   "source": [
    "df"
   ]
  },
  {
   "cell_type": "code",
   "execution_count": 268,
   "id": "f0447e92",
   "metadata": {},
   "outputs": [],
   "source": [
    "genre_list = df.iloc[:, -1]\n",
    "encoder = LabelEncoder()\n",
    "y = encoder.fit_transform(genre_list)"
   ]
  },
  {
   "cell_type": "code",
   "execution_count": 269,
   "id": "ca8c5210",
   "metadata": {},
   "outputs": [],
   "source": [
    "scaler = StandardScaler()\n",
    "X = scaler.fit_transform(np.array(df.iloc[:, :-1], dtype=float))"
   ]
  },
  {
   "cell_type": "code",
   "execution_count": 270,
   "id": "7f58f5a1",
   "metadata": {},
   "outputs": [],
   "source": [
    "X_train, X_test, y_train, y_test = train_test_split(X, y, test_size=0.33, random_state=42)"
   ]
  },
  {
   "cell_type": "code",
   "execution_count": 271,
   "id": "4851ae64",
   "metadata": {},
   "outputs": [
    {
     "name": "stderr",
     "output_type": "stream",
     "text": [
      "C:\\Users\\pavan\\AppData\\Local\\Programs\\Python\\Python310\\lib\\site-packages\\keras\\src\\layers\\core\\dense.py:87: UserWarning: Do not pass an `input_shape`/`input_dim` argument to a layer. When using Sequential models, prefer using an `Input(shape)` object as the first layer in the model instead.\n",
      "  super().__init__(activity_regularizer=activity_regularizer, **kwargs)\n"
     ]
    }
   ],
   "source": [
    "model = models.Sequential()\n",
    "model.add(layers.Dense(256, activation='relu', input_shape=(X_train.shape[1],)))\n",
    "model.add(layers.Dropout(0.5))\n",
    "model.add(layers.Dense(128, activation='relu'))\n",
    "model.add(layers.Dropout(0.5))\n",
    "model.add(layers.Dense(64, activation='relu'))\n",
    "model.add(layers.Dropout(0.5))\n",
    "model.add(layers.Dense(2, activation='softmax'))"
   ]
  },
  {
   "cell_type": "code",
   "execution_count": 272,
   "id": "e015f3eb",
   "metadata": {},
   "outputs": [
    {
     "name": "stdout",
     "output_type": "stream",
     "text": [
      "Saved model to disk\n"
     ]
    }
   ],
   "source": [
    "model_json = model.to_json()\n",
    "with open(\"model.json\", \"w\") as json_file:\n",
    "    json_file.write(model_json)\n",
    "model.save_weights(\"model.weights.h5\")\n",
    "print(\"Saved model to disk\")"
   ]
  },
  {
   "cell_type": "code",
   "execution_count": 273,
   "id": "5fbc896d",
   "metadata": {},
   "outputs": [],
   "source": [
    "model.compile(optimizer='adam',\n",
    "              loss='sparse_categorical_crossentropy',\n",
    "              metrics=['accuracy'])"
   ]
  },
  {
   "cell_type": "code",
   "execution_count": 274,
   "id": "9fca5f84",
   "metadata": {},
   "outputs": [
    {
     "data": {
      "text/html": [
       "<pre style=\"white-space:pre;overflow-x:auto;line-height:normal;font-family:Menlo,'DejaVu Sans Mono',consolas,'Courier New',monospace\"><span style=\"font-weight: bold\">Model: \"sequential_5\"</span>\n",
       "</pre>\n"
      ],
      "text/plain": [
       "\u001b[1mModel: \"sequential_5\"\u001b[0m\n"
      ]
     },
     "metadata": {},
     "output_type": "display_data"
    },
    {
     "data": {
      "text/html": [
       "<pre style=\"white-space:pre;overflow-x:auto;line-height:normal;font-family:Menlo,'DejaVu Sans Mono',consolas,'Courier New',monospace\">┏━━━━━━━━━━━━━━━━━━━━━━━━━━━━━━━━━━━━━━┳━━━━━━━━━━━━━━━━━━━━━━━━━━━━━┳━━━━━━━━━━━━━━━━━┓\n",
       "┃<span style=\"font-weight: bold\"> Layer (type)                         </span>┃<span style=\"font-weight: bold\"> Output Shape                </span>┃<span style=\"font-weight: bold\">         Param # </span>┃\n",
       "┡━━━━━━━━━━━━━━━━━━━━━━━━━━━━━━━━━━━━━━╇━━━━━━━━━━━━━━━━━━━━━━━━━━━━━╇━━━━━━━━━━━━━━━━━┩\n",
       "│ dense_16 (<span style=\"color: #0087ff; text-decoration-color: #0087ff\">Dense</span>)                     │ (<span style=\"color: #00d7ff; text-decoration-color: #00d7ff\">None</span>, <span style=\"color: #00af00; text-decoration-color: #00af00\">256</span>)                 │           <span style=\"color: #00af00; text-decoration-color: #00af00\">7,168</span> │\n",
       "├──────────────────────────────────────┼─────────────────────────────┼─────────────────┤\n",
       "│ dropout_15 (<span style=\"color: #0087ff; text-decoration-color: #0087ff\">Dropout</span>)                 │ (<span style=\"color: #00d7ff; text-decoration-color: #00d7ff\">None</span>, <span style=\"color: #00af00; text-decoration-color: #00af00\">256</span>)                 │               <span style=\"color: #00af00; text-decoration-color: #00af00\">0</span> │\n",
       "├──────────────────────────────────────┼─────────────────────────────┼─────────────────┤\n",
       "│ dense_17 (<span style=\"color: #0087ff; text-decoration-color: #0087ff\">Dense</span>)                     │ (<span style=\"color: #00d7ff; text-decoration-color: #00d7ff\">None</span>, <span style=\"color: #00af00; text-decoration-color: #00af00\">128</span>)                 │          <span style=\"color: #00af00; text-decoration-color: #00af00\">32,896</span> │\n",
       "├──────────────────────────────────────┼─────────────────────────────┼─────────────────┤\n",
       "│ dropout_16 (<span style=\"color: #0087ff; text-decoration-color: #0087ff\">Dropout</span>)                 │ (<span style=\"color: #00d7ff; text-decoration-color: #00d7ff\">None</span>, <span style=\"color: #00af00; text-decoration-color: #00af00\">128</span>)                 │               <span style=\"color: #00af00; text-decoration-color: #00af00\">0</span> │\n",
       "├──────────────────────────────────────┼─────────────────────────────┼─────────────────┤\n",
       "│ dense_18 (<span style=\"color: #0087ff; text-decoration-color: #0087ff\">Dense</span>)                     │ (<span style=\"color: #00d7ff; text-decoration-color: #00d7ff\">None</span>, <span style=\"color: #00af00; text-decoration-color: #00af00\">64</span>)                  │           <span style=\"color: #00af00; text-decoration-color: #00af00\">8,256</span> │\n",
       "├──────────────────────────────────────┼─────────────────────────────┼─────────────────┤\n",
       "│ dropout_17 (<span style=\"color: #0087ff; text-decoration-color: #0087ff\">Dropout</span>)                 │ (<span style=\"color: #00d7ff; text-decoration-color: #00d7ff\">None</span>, <span style=\"color: #00af00; text-decoration-color: #00af00\">64</span>)                  │               <span style=\"color: #00af00; text-decoration-color: #00af00\">0</span> │\n",
       "├──────────────────────────────────────┼─────────────────────────────┼─────────────────┤\n",
       "│ dense_19 (<span style=\"color: #0087ff; text-decoration-color: #0087ff\">Dense</span>)                     │ (<span style=\"color: #00d7ff; text-decoration-color: #00d7ff\">None</span>, <span style=\"color: #00af00; text-decoration-color: #00af00\">2</span>)                   │             <span style=\"color: #00af00; text-decoration-color: #00af00\">130</span> │\n",
       "└──────────────────────────────────────┴─────────────────────────────┴─────────────────┘\n",
       "</pre>\n"
      ],
      "text/plain": [
       "┏━━━━━━━━━━━━━━━━━━━━━━━━━━━━━━━━━━━━━━┳━━━━━━━━━━━━━━━━━━━━━━━━━━━━━┳━━━━━━━━━━━━━━━━━┓\n",
       "┃\u001b[1m \u001b[0m\u001b[1mLayer (type)                        \u001b[0m\u001b[1m \u001b[0m┃\u001b[1m \u001b[0m\u001b[1mOutput Shape               \u001b[0m\u001b[1m \u001b[0m┃\u001b[1m \u001b[0m\u001b[1m        Param #\u001b[0m\u001b[1m \u001b[0m┃\n",
       "┡━━━━━━━━━━━━━━━━━━━━━━━━━━━━━━━━━━━━━━╇━━━━━━━━━━━━━━━━━━━━━━━━━━━━━╇━━━━━━━━━━━━━━━━━┩\n",
       "│ dense_16 (\u001b[38;5;33mDense\u001b[0m)                     │ (\u001b[38;5;45mNone\u001b[0m, \u001b[38;5;34m256\u001b[0m)                 │           \u001b[38;5;34m7,168\u001b[0m │\n",
       "├──────────────────────────────────────┼─────────────────────────────┼─────────────────┤\n",
       "│ dropout_15 (\u001b[38;5;33mDropout\u001b[0m)                 │ (\u001b[38;5;45mNone\u001b[0m, \u001b[38;5;34m256\u001b[0m)                 │               \u001b[38;5;34m0\u001b[0m │\n",
       "├──────────────────────────────────────┼─────────────────────────────┼─────────────────┤\n",
       "│ dense_17 (\u001b[38;5;33mDense\u001b[0m)                     │ (\u001b[38;5;45mNone\u001b[0m, \u001b[38;5;34m128\u001b[0m)                 │          \u001b[38;5;34m32,896\u001b[0m │\n",
       "├──────────────────────────────────────┼─────────────────────────────┼─────────────────┤\n",
       "│ dropout_16 (\u001b[38;5;33mDropout\u001b[0m)                 │ (\u001b[38;5;45mNone\u001b[0m, \u001b[38;5;34m128\u001b[0m)                 │               \u001b[38;5;34m0\u001b[0m │\n",
       "├──────────────────────────────────────┼─────────────────────────────┼─────────────────┤\n",
       "│ dense_18 (\u001b[38;5;33mDense\u001b[0m)                     │ (\u001b[38;5;45mNone\u001b[0m, \u001b[38;5;34m64\u001b[0m)                  │           \u001b[38;5;34m8,256\u001b[0m │\n",
       "├──────────────────────────────────────┼─────────────────────────────┼─────────────────┤\n",
       "│ dropout_17 (\u001b[38;5;33mDropout\u001b[0m)                 │ (\u001b[38;5;45mNone\u001b[0m, \u001b[38;5;34m64\u001b[0m)                  │               \u001b[38;5;34m0\u001b[0m │\n",
       "├──────────────────────────────────────┼─────────────────────────────┼─────────────────┤\n",
       "│ dense_19 (\u001b[38;5;33mDense\u001b[0m)                     │ (\u001b[38;5;45mNone\u001b[0m, \u001b[38;5;34m2\u001b[0m)                   │             \u001b[38;5;34m130\u001b[0m │\n",
       "└──────────────────────────────────────┴─────────────────────────────┴─────────────────┘\n"
      ]
     },
     "metadata": {},
     "output_type": "display_data"
    },
    {
     "data": {
      "text/html": [
       "<pre style=\"white-space:pre;overflow-x:auto;line-height:normal;font-family:Menlo,'DejaVu Sans Mono',consolas,'Courier New',monospace\"><span style=\"font-weight: bold\"> Total params: </span><span style=\"color: #00af00; text-decoration-color: #00af00\">48,450</span> (189.26 KB)\n",
       "</pre>\n"
      ],
      "text/plain": [
       "\u001b[1m Total params: \u001b[0m\u001b[38;5;34m48,450\u001b[0m (189.26 KB)\n"
      ]
     },
     "metadata": {},
     "output_type": "display_data"
    },
    {
     "data": {
      "text/html": [
       "<pre style=\"white-space:pre;overflow-x:auto;line-height:normal;font-family:Menlo,'DejaVu Sans Mono',consolas,'Courier New',monospace\"><span style=\"font-weight: bold\"> Trainable params: </span><span style=\"color: #00af00; text-decoration-color: #00af00\">48,450</span> (189.26 KB)\n",
       "</pre>\n"
      ],
      "text/plain": [
       "\u001b[1m Trainable params: \u001b[0m\u001b[38;5;34m48,450\u001b[0m (189.26 KB)\n"
      ]
     },
     "metadata": {},
     "output_type": "display_data"
    },
    {
     "data": {
      "text/html": [
       "<pre style=\"white-space:pre;overflow-x:auto;line-height:normal;font-family:Menlo,'DejaVu Sans Mono',consolas,'Courier New',monospace\"><span style=\"font-weight: bold\"> Non-trainable params: </span><span style=\"color: #00af00; text-decoration-color: #00af00\">0</span> (0.00 B)\n",
       "</pre>\n"
      ],
      "text/plain": [
       "\u001b[1m Non-trainable params: \u001b[0m\u001b[38;5;34m0\u001b[0m (0.00 B)\n"
      ]
     },
     "metadata": {},
     "output_type": "display_data"
    }
   ],
   "source": [
    "model.summary()"
   ]
  },
  {
   "cell_type": "code",
   "execution_count": 275,
   "id": "3fe5f18a",
   "metadata": {},
   "outputs": [],
   "source": [
    "early_stopping = callbacks.EarlyStopping(monitor='val_loss', patience=5, restore_best_weights=True)"
   ]
  },
  {
   "cell_type": "code",
   "execution_count": 281,
   "id": "be8d1b2b",
   "metadata": {},
   "outputs": [
    {
     "name": "stdout",
     "output_type": "stream",
     "text": [
      "Epoch 1/20\n",
      "\u001b[1m4/4\u001b[0m \u001b[32m━━━━━━━━━━━━━━━━━━━━\u001b[0m\u001b[37m\u001b[0m \u001b[1m0s\u001b[0m 73ms/step - accuracy: 0.8374 - loss: 0.3379 - val_accuracy: 0.8276 - val_loss: 0.3932\n",
      "Epoch 2/20\n",
      "\u001b[1m4/4\u001b[0m \u001b[32m━━━━━━━━━━━━━━━━━━━━\u001b[0m\u001b[37m\u001b[0m \u001b[1m0s\u001b[0m 30ms/step - accuracy: 0.8722 - loss: 0.3127 - val_accuracy: 0.8362 - val_loss: 0.3960\n",
      "Epoch 3/20\n",
      "\u001b[1m4/4\u001b[0m \u001b[32m━━━━━━━━━━━━━━━━━━━━\u001b[0m\u001b[37m\u001b[0m \u001b[1m0s\u001b[0m 32ms/step - accuracy: 0.8586 - loss: 0.3263 - val_accuracy: 0.8276 - val_loss: 0.3987\n",
      "Epoch 4/20\n",
      "\u001b[1m4/4\u001b[0m \u001b[32m━━━━━━━━━━━━━━━━━━━━\u001b[0m\u001b[37m\u001b[0m \u001b[1m0s\u001b[0m 38ms/step - accuracy: 0.8790 - loss: 0.2793 - val_accuracy: 0.8276 - val_loss: 0.4036\n",
      "Epoch 5/20\n",
      "\u001b[1m4/4\u001b[0m \u001b[32m━━━━━━━━━━━━━━━━━━━━\u001b[0m\u001b[37m\u001b[0m \u001b[1m0s\u001b[0m 36ms/step - accuracy: 0.8524 - loss: 0.3128 - val_accuracy: 0.8276 - val_loss: 0.4067\n"
     ]
    }
   ],
   "source": [
    "history = model.fit(X_train,\n",
    "                    y_train,\n",
    "                    epochs=20,\n",
    "                    batch_size=128,\n",
    "                    validation_split=0.2,\n",
    "                    callbacks=[early_stopping])"
   ]
  },
  {
   "cell_type": "code",
   "execution_count": 282,
   "id": "3d02c61b",
   "metadata": {},
   "outputs": [
    {
     "name": "stdout",
     "output_type": "stream",
     "text": [
      "\u001b[1m9/9\u001b[0m \u001b[32m━━━━━━━━━━━━━━━━━━━━\u001b[0m\u001b[37m\u001b[0m \u001b[1m0s\u001b[0m 3ms/step \n"
     ]
    }
   ],
   "source": [
    "y_pred = model.predict(X_test)\n",
    "y_pred_classes = np.argmax(y_pred, axis=1)"
   ]
  },
  {
   "cell_type": "code",
   "execution_count": 283,
   "id": "e4a0eb99",
   "metadata": {},
   "outputs": [],
   "source": [
    "accuracy = accuracy_score(y_test, y_pred_classes)\n",
    "precision = precision_score(y_test, y_pred_classes)\n",
    "recall = recall_score(y_test, y_pred_classes)\n",
    "f1 = f1_score(y_test, y_pred_classes)"
   ]
  },
  {
   "cell_type": "code",
   "execution_count": 284,
   "id": "f78e4b28",
   "metadata": {},
   "outputs": [
    {
     "name": "stdout",
     "output_type": "stream",
     "text": [
      "Dense Neural Network Evaluation:\n",
      "Accuracy: 0.8\n",
      "Precision: 0.8201438848920863\n",
      "Recall: 0.7808219178082192\n",
      "F1 Score: 0.7999999999999999\n"
     ]
    }
   ],
   "source": [
    "print(\"Dense Neural Network Evaluation:\")\n",
    "print(\"Accuracy:\", accuracy)\n",
    "print(\"Precision:\", precision)\n",
    "print(\"Recall:\", recall)\n",
    "print(\"F1 Score:\", f1)"
   ]
  },
  {
   "cell_type": "code",
   "execution_count": 285,
   "id": "719fa446",
   "metadata": {},
   "outputs": [
    {
     "name": "stderr",
     "output_type": "stream",
     "text": [
      "WARNING:absl:You are saving your model as an HDF5 file via `model.save()` or `keras.saving.save_model(model)`. This file format is considered legacy. We recommend using instead the native Keras format, e.g. `model.save('my_model.keras')` or `keras.saving.save_model(model, 'my_model.keras')`. \n"
     ]
    }
   ],
   "source": [
    "model.save('dense_nn_cough_detection_model.h5')"
   ]
  },
  {
   "cell_type": "markdown",
   "id": "256bedd5",
   "metadata": {},
   "source": [
    "### PREDICTION"
   ]
  },
  {
   "cell_type": "code",
   "execution_count": 287,
   "id": "65920678",
   "metadata": {},
   "outputs": [
    {
     "name": "stderr",
     "output_type": "stream",
     "text": [
      "WARNING:absl:Compiled the loaded model, but the compiled metrics have yet to be built. `model.compile_metrics` will be empty until you train or evaluate the model.\n"
     ]
    },
    {
     "name": "stdout",
     "output_type": "stream",
     "text": [
      "\u001b[1m1/1\u001b[0m \u001b[32m━━━━━━━━━━━━━━━━━━━━\u001b[0m\u001b[37m\u001b[0m \u001b[1m0s\u001b[0m 176ms/step\n",
      "The audio file contains a cough.\n"
     ]
    }
   ],
   "source": [
    "from tensorflow.keras.models import load_model\n",
    "from sklearn.preprocessing import StandardScaler\n",
    "\n",
    "new_audio_signal = \"H:/My Drive/Task 2 - Feature Extarction/kashish_mru.wav\"\n",
    "audio_features = extract_features(new_audio_signal)\n",
    "\n",
    "model = load_model('dense_nn_cough_detection_model.h5')\n",
    "\n",
    "scaler = StandardScaler()  \n",
    "audio_features_scaled = scaler.fit_transform(np.array(audio_features).reshape(1, -1))\n",
    "\n",
    "prediction = model.predict(audio_features_scaled)\n",
    "\n",
    "if prediction[0][0] < 0.5:\n",
    "    print(\"The audio file does not contain a cough\")\n",
    "else:\n",
    "    print(\"The audio file contains a cough.\")"
   ]
  },
  {
   "cell_type": "markdown",
   "id": "cd3cc9b7",
   "metadata": {},
   "source": [
    "## CONVOLUTIONAL NEURAL NETOWKS - 2"
   ]
  },
  {
   "cell_type": "code",
   "execution_count": 288,
   "id": "18ddbd11",
   "metadata": {},
   "outputs": [],
   "source": [
    "from sklearn.model_selection import train_test_split\n",
    "from sklearn.preprocessing import LabelEncoder\n",
    "from tensorflow.keras import models, layers\n",
    "from tensorflow.keras.utils import to_categorical"
   ]
  },
  {
   "cell_type": "code",
   "execution_count": 289,
   "id": "909fd49a",
   "metadata": {},
   "outputs": [],
   "source": [
    "df = pd.read_csv(\"feature_extraction.csv\")"
   ]
  },
  {
   "cell_type": "code",
   "execution_count": 290,
   "id": "3db11fc9",
   "metadata": {},
   "outputs": [],
   "source": [
    "X = df.drop(columns=['label']).values\n",
    "y = df['label'].values"
   ]
  },
  {
   "cell_type": "code",
   "execution_count": 291,
   "id": "b2c721b2",
   "metadata": {},
   "outputs": [],
   "source": [
    "label_encoder = LabelEncoder()\n",
    "y_encoded = label_encoder.fit_transform(y)\n",
    "y_categorical = to_categorical(y_encoded)"
   ]
  },
  {
   "cell_type": "code",
   "execution_count": 292,
   "id": "317f45c2",
   "metadata": {},
   "outputs": [],
   "source": [
    "X_train, X_val, y_train, y_val = train_test_split(X, y_categorical, test_size=0.33, random_state=42)"
   ]
  },
  {
   "cell_type": "code",
   "execution_count": 293,
   "id": "af3beca8",
   "metadata": {},
   "outputs": [],
   "source": [
    "X_train = X_train.astype('float32') / np.max(X_train)\n",
    "X_val = X_val.astype('float32') / np.max(X_val)"
   ]
  },
  {
   "cell_type": "code",
   "execution_count": 294,
   "id": "eca77787",
   "metadata": {},
   "outputs": [],
   "source": [
    "X_train = X_train[..., np.newaxis]\n",
    "X_val = X_val[..., np.newaxis]"
   ]
  },
  {
   "cell_type": "code",
   "execution_count": 295,
   "id": "15ee113d",
   "metadata": {},
   "outputs": [
    {
     "name": "stderr",
     "output_type": "stream",
     "text": [
      "C:\\Users\\pavan\\AppData\\Local\\Programs\\Python\\Python310\\lib\\site-packages\\keras\\src\\layers\\convolutional\\base_conv.py:107: UserWarning: Do not pass an `input_shape`/`input_dim` argument to a layer. When using Sequential models, prefer using an `Input(shape)` object as the first layer in the model instead.\n",
      "  super().__init__(activity_regularizer=activity_regularizer, **kwargs)\n"
     ]
    }
   ],
   "source": [
    "model = models.Sequential()\n",
    "model.add(layers.Conv1D(64, kernel_size=2, activation='relu', padding='same', input_shape=(X_train.shape[1], 1)))\n",
    "model.add(layers.MaxPooling1D(pool_size=2))\n",
    "model.add(layers.Conv1D(128, kernel_size=2, activation='relu', padding='same'))\n",
    "model.add(layers.MaxPooling1D(pool_size=2))\n",
    "model.add(layers.Conv1D(256, kernel_size=2, activation='relu', padding='same'))\n",
    "model.add(layers.MaxPooling1D(pool_size=2))\n",
    "model.add(layers.Flatten())\n",
    "model.add(layers.Dense(512, activation='relu'))\n",
    "model.add(layers.Dense(256, activation='relu'))\n",
    "model.add(layers.Dense(128, activation='relu'))\n",
    "model.add(layers.Dense(64, activation='relu'))\n",
    "model.add(layers.Dense(10, activation='relu'))\n",
    "model.add(layers.Dense(2, activation='softmax'))"
   ]
  },
  {
   "cell_type": "code",
   "execution_count": 296,
   "id": "e3f2aa9c",
   "metadata": {},
   "outputs": [],
   "source": [
    "model.compile(optimizer='adam', loss='categorical_crossentropy', metrics=['accuracy'])"
   ]
  },
  {
   "cell_type": "code",
   "execution_count": 297,
   "id": "ba187330",
   "metadata": {},
   "outputs": [
    {
     "data": {
      "text/html": [
       "<pre style=\"white-space:pre;overflow-x:auto;line-height:normal;font-family:Menlo,'DejaVu Sans Mono',consolas,'Courier New',monospace\"><span style=\"font-weight: bold\">Model: \"sequential_6\"</span>\n",
       "</pre>\n"
      ],
      "text/plain": [
       "\u001b[1mModel: \"sequential_6\"\u001b[0m\n"
      ]
     },
     "metadata": {},
     "output_type": "display_data"
    },
    {
     "data": {
      "text/html": [
       "<pre style=\"white-space:pre;overflow-x:auto;line-height:normal;font-family:Menlo,'DejaVu Sans Mono',consolas,'Courier New',monospace\">┏━━━━━━━━━━━━━━━━━━━━━━━━━━━━━━━━━━━━━━┳━━━━━━━━━━━━━━━━━━━━━━━━━━━━━┳━━━━━━━━━━━━━━━━━┓\n",
       "┃<span style=\"font-weight: bold\"> Layer (type)                         </span>┃<span style=\"font-weight: bold\"> Output Shape                </span>┃<span style=\"font-weight: bold\">         Param # </span>┃\n",
       "┡━━━━━━━━━━━━━━━━━━━━━━━━━━━━━━━━━━━━━━╇━━━━━━━━━━━━━━━━━━━━━━━━━━━━━╇━━━━━━━━━━━━━━━━━┩\n",
       "│ conv1d_12 (<span style=\"color: #0087ff; text-decoration-color: #0087ff\">Conv1D</span>)                   │ (<span style=\"color: #00d7ff; text-decoration-color: #00d7ff\">None</span>, <span style=\"color: #00af00; text-decoration-color: #00af00\">27</span>, <span style=\"color: #00af00; text-decoration-color: #00af00\">64</span>)              │             <span style=\"color: #00af00; text-decoration-color: #00af00\">192</span> │\n",
       "├──────────────────────────────────────┼─────────────────────────────┼─────────────────┤\n",
       "│ max_pooling1d_12 (<span style=\"color: #0087ff; text-decoration-color: #0087ff\">MaxPooling1D</span>)      │ (<span style=\"color: #00d7ff; text-decoration-color: #00d7ff\">None</span>, <span style=\"color: #00af00; text-decoration-color: #00af00\">13</span>, <span style=\"color: #00af00; text-decoration-color: #00af00\">64</span>)              │               <span style=\"color: #00af00; text-decoration-color: #00af00\">0</span> │\n",
       "├──────────────────────────────────────┼─────────────────────────────┼─────────────────┤\n",
       "│ conv1d_13 (<span style=\"color: #0087ff; text-decoration-color: #0087ff\">Conv1D</span>)                   │ (<span style=\"color: #00d7ff; text-decoration-color: #00d7ff\">None</span>, <span style=\"color: #00af00; text-decoration-color: #00af00\">13</span>, <span style=\"color: #00af00; text-decoration-color: #00af00\">128</span>)             │          <span style=\"color: #00af00; text-decoration-color: #00af00\">16,512</span> │\n",
       "├──────────────────────────────────────┼─────────────────────────────┼─────────────────┤\n",
       "│ max_pooling1d_13 (<span style=\"color: #0087ff; text-decoration-color: #0087ff\">MaxPooling1D</span>)      │ (<span style=\"color: #00d7ff; text-decoration-color: #00d7ff\">None</span>, <span style=\"color: #00af00; text-decoration-color: #00af00\">6</span>, <span style=\"color: #00af00; text-decoration-color: #00af00\">128</span>)              │               <span style=\"color: #00af00; text-decoration-color: #00af00\">0</span> │\n",
       "├──────────────────────────────────────┼─────────────────────────────┼─────────────────┤\n",
       "│ conv1d_14 (<span style=\"color: #0087ff; text-decoration-color: #0087ff\">Conv1D</span>)                   │ (<span style=\"color: #00d7ff; text-decoration-color: #00d7ff\">None</span>, <span style=\"color: #00af00; text-decoration-color: #00af00\">6</span>, <span style=\"color: #00af00; text-decoration-color: #00af00\">256</span>)              │          <span style=\"color: #00af00; text-decoration-color: #00af00\">65,792</span> │\n",
       "├──────────────────────────────────────┼─────────────────────────────┼─────────────────┤\n",
       "│ max_pooling1d_14 (<span style=\"color: #0087ff; text-decoration-color: #0087ff\">MaxPooling1D</span>)      │ (<span style=\"color: #00d7ff; text-decoration-color: #00d7ff\">None</span>, <span style=\"color: #00af00; text-decoration-color: #00af00\">3</span>, <span style=\"color: #00af00; text-decoration-color: #00af00\">256</span>)              │               <span style=\"color: #00af00; text-decoration-color: #00af00\">0</span> │\n",
       "├──────────────────────────────────────┼─────────────────────────────┼─────────────────┤\n",
       "│ flatten_4 (<span style=\"color: #0087ff; text-decoration-color: #0087ff\">Flatten</span>)                  │ (<span style=\"color: #00d7ff; text-decoration-color: #00d7ff\">None</span>, <span style=\"color: #00af00; text-decoration-color: #00af00\">768</span>)                 │               <span style=\"color: #00af00; text-decoration-color: #00af00\">0</span> │\n",
       "├──────────────────────────────────────┼─────────────────────────────┼─────────────────┤\n",
       "│ dense_20 (<span style=\"color: #0087ff; text-decoration-color: #0087ff\">Dense</span>)                     │ (<span style=\"color: #00d7ff; text-decoration-color: #00d7ff\">None</span>, <span style=\"color: #00af00; text-decoration-color: #00af00\">512</span>)                 │         <span style=\"color: #00af00; text-decoration-color: #00af00\">393,728</span> │\n",
       "├──────────────────────────────────────┼─────────────────────────────┼─────────────────┤\n",
       "│ dense_21 (<span style=\"color: #0087ff; text-decoration-color: #0087ff\">Dense</span>)                     │ (<span style=\"color: #00d7ff; text-decoration-color: #00d7ff\">None</span>, <span style=\"color: #00af00; text-decoration-color: #00af00\">256</span>)                 │         <span style=\"color: #00af00; text-decoration-color: #00af00\">131,328</span> │\n",
       "├──────────────────────────────────────┼─────────────────────────────┼─────────────────┤\n",
       "│ dense_22 (<span style=\"color: #0087ff; text-decoration-color: #0087ff\">Dense</span>)                     │ (<span style=\"color: #00d7ff; text-decoration-color: #00d7ff\">None</span>, <span style=\"color: #00af00; text-decoration-color: #00af00\">128</span>)                 │          <span style=\"color: #00af00; text-decoration-color: #00af00\">32,896</span> │\n",
       "├──────────────────────────────────────┼─────────────────────────────┼─────────────────┤\n",
       "│ dense_23 (<span style=\"color: #0087ff; text-decoration-color: #0087ff\">Dense</span>)                     │ (<span style=\"color: #00d7ff; text-decoration-color: #00d7ff\">None</span>, <span style=\"color: #00af00; text-decoration-color: #00af00\">64</span>)                  │           <span style=\"color: #00af00; text-decoration-color: #00af00\">8,256</span> │\n",
       "├──────────────────────────────────────┼─────────────────────────────┼─────────────────┤\n",
       "│ dense_24 (<span style=\"color: #0087ff; text-decoration-color: #0087ff\">Dense</span>)                     │ (<span style=\"color: #00d7ff; text-decoration-color: #00d7ff\">None</span>, <span style=\"color: #00af00; text-decoration-color: #00af00\">10</span>)                  │             <span style=\"color: #00af00; text-decoration-color: #00af00\">650</span> │\n",
       "├──────────────────────────────────────┼─────────────────────────────┼─────────────────┤\n",
       "│ dense_25 (<span style=\"color: #0087ff; text-decoration-color: #0087ff\">Dense</span>)                     │ (<span style=\"color: #00d7ff; text-decoration-color: #00d7ff\">None</span>, <span style=\"color: #00af00; text-decoration-color: #00af00\">2</span>)                   │              <span style=\"color: #00af00; text-decoration-color: #00af00\">22</span> │\n",
       "└──────────────────────────────────────┴─────────────────────────────┴─────────────────┘\n",
       "</pre>\n"
      ],
      "text/plain": [
       "┏━━━━━━━━━━━━━━━━━━━━━━━━━━━━━━━━━━━━━━┳━━━━━━━━━━━━━━━━━━━━━━━━━━━━━┳━━━━━━━━━━━━━━━━━┓\n",
       "┃\u001b[1m \u001b[0m\u001b[1mLayer (type)                        \u001b[0m\u001b[1m \u001b[0m┃\u001b[1m \u001b[0m\u001b[1mOutput Shape               \u001b[0m\u001b[1m \u001b[0m┃\u001b[1m \u001b[0m\u001b[1m        Param #\u001b[0m\u001b[1m \u001b[0m┃\n",
       "┡━━━━━━━━━━━━━━━━━━━━━━━━━━━━━━━━━━━━━━╇━━━━━━━━━━━━━━━━━━━━━━━━━━━━━╇━━━━━━━━━━━━━━━━━┩\n",
       "│ conv1d_12 (\u001b[38;5;33mConv1D\u001b[0m)                   │ (\u001b[38;5;45mNone\u001b[0m, \u001b[38;5;34m27\u001b[0m, \u001b[38;5;34m64\u001b[0m)              │             \u001b[38;5;34m192\u001b[0m │\n",
       "├──────────────────────────────────────┼─────────────────────────────┼─────────────────┤\n",
       "│ max_pooling1d_12 (\u001b[38;5;33mMaxPooling1D\u001b[0m)      │ (\u001b[38;5;45mNone\u001b[0m, \u001b[38;5;34m13\u001b[0m, \u001b[38;5;34m64\u001b[0m)              │               \u001b[38;5;34m0\u001b[0m │\n",
       "├──────────────────────────────────────┼─────────────────────────────┼─────────────────┤\n",
       "│ conv1d_13 (\u001b[38;5;33mConv1D\u001b[0m)                   │ (\u001b[38;5;45mNone\u001b[0m, \u001b[38;5;34m13\u001b[0m, \u001b[38;5;34m128\u001b[0m)             │          \u001b[38;5;34m16,512\u001b[0m │\n",
       "├──────────────────────────────────────┼─────────────────────────────┼─────────────────┤\n",
       "│ max_pooling1d_13 (\u001b[38;5;33mMaxPooling1D\u001b[0m)      │ (\u001b[38;5;45mNone\u001b[0m, \u001b[38;5;34m6\u001b[0m, \u001b[38;5;34m128\u001b[0m)              │               \u001b[38;5;34m0\u001b[0m │\n",
       "├──────────────────────────────────────┼─────────────────────────────┼─────────────────┤\n",
       "│ conv1d_14 (\u001b[38;5;33mConv1D\u001b[0m)                   │ (\u001b[38;5;45mNone\u001b[0m, \u001b[38;5;34m6\u001b[0m, \u001b[38;5;34m256\u001b[0m)              │          \u001b[38;5;34m65,792\u001b[0m │\n",
       "├──────────────────────────────────────┼─────────────────────────────┼─────────────────┤\n",
       "│ max_pooling1d_14 (\u001b[38;5;33mMaxPooling1D\u001b[0m)      │ (\u001b[38;5;45mNone\u001b[0m, \u001b[38;5;34m3\u001b[0m, \u001b[38;5;34m256\u001b[0m)              │               \u001b[38;5;34m0\u001b[0m │\n",
       "├──────────────────────────────────────┼─────────────────────────────┼─────────────────┤\n",
       "│ flatten_4 (\u001b[38;5;33mFlatten\u001b[0m)                  │ (\u001b[38;5;45mNone\u001b[0m, \u001b[38;5;34m768\u001b[0m)                 │               \u001b[38;5;34m0\u001b[0m │\n",
       "├──────────────────────────────────────┼─────────────────────────────┼─────────────────┤\n",
       "│ dense_20 (\u001b[38;5;33mDense\u001b[0m)                     │ (\u001b[38;5;45mNone\u001b[0m, \u001b[38;5;34m512\u001b[0m)                 │         \u001b[38;5;34m393,728\u001b[0m │\n",
       "├──────────────────────────────────────┼─────────────────────────────┼─────────────────┤\n",
       "│ dense_21 (\u001b[38;5;33mDense\u001b[0m)                     │ (\u001b[38;5;45mNone\u001b[0m, \u001b[38;5;34m256\u001b[0m)                 │         \u001b[38;5;34m131,328\u001b[0m │\n",
       "├──────────────────────────────────────┼─────────────────────────────┼─────────────────┤\n",
       "│ dense_22 (\u001b[38;5;33mDense\u001b[0m)                     │ (\u001b[38;5;45mNone\u001b[0m, \u001b[38;5;34m128\u001b[0m)                 │          \u001b[38;5;34m32,896\u001b[0m │\n",
       "├──────────────────────────────────────┼─────────────────────────────┼─────────────────┤\n",
       "│ dense_23 (\u001b[38;5;33mDense\u001b[0m)                     │ (\u001b[38;5;45mNone\u001b[0m, \u001b[38;5;34m64\u001b[0m)                  │           \u001b[38;5;34m8,256\u001b[0m │\n",
       "├──────────────────────────────────────┼─────────────────────────────┼─────────────────┤\n",
       "│ dense_24 (\u001b[38;5;33mDense\u001b[0m)                     │ (\u001b[38;5;45mNone\u001b[0m, \u001b[38;5;34m10\u001b[0m)                  │             \u001b[38;5;34m650\u001b[0m │\n",
       "├──────────────────────────────────────┼─────────────────────────────┼─────────────────┤\n",
       "│ dense_25 (\u001b[38;5;33mDense\u001b[0m)                     │ (\u001b[38;5;45mNone\u001b[0m, \u001b[38;5;34m2\u001b[0m)                   │              \u001b[38;5;34m22\u001b[0m │\n",
       "└──────────────────────────────────────┴─────────────────────────────┴─────────────────┘\n"
      ]
     },
     "metadata": {},
     "output_type": "display_data"
    },
    {
     "data": {
      "text/html": [
       "<pre style=\"white-space:pre;overflow-x:auto;line-height:normal;font-family:Menlo,'DejaVu Sans Mono',consolas,'Courier New',monospace\"><span style=\"font-weight: bold\"> Total params: </span><span style=\"color: #00af00; text-decoration-color: #00af00\">649,376</span> (2.48 MB)\n",
       "</pre>\n"
      ],
      "text/plain": [
       "\u001b[1m Total params: \u001b[0m\u001b[38;5;34m649,376\u001b[0m (2.48 MB)\n"
      ]
     },
     "metadata": {},
     "output_type": "display_data"
    },
    {
     "data": {
      "text/html": [
       "<pre style=\"white-space:pre;overflow-x:auto;line-height:normal;font-family:Menlo,'DejaVu Sans Mono',consolas,'Courier New',monospace\"><span style=\"font-weight: bold\"> Trainable params: </span><span style=\"color: #00af00; text-decoration-color: #00af00\">649,376</span> (2.48 MB)\n",
       "</pre>\n"
      ],
      "text/plain": [
       "\u001b[1m Trainable params: \u001b[0m\u001b[38;5;34m649,376\u001b[0m (2.48 MB)\n"
      ]
     },
     "metadata": {},
     "output_type": "display_data"
    },
    {
     "data": {
      "text/html": [
       "<pre style=\"white-space:pre;overflow-x:auto;line-height:normal;font-family:Menlo,'DejaVu Sans Mono',consolas,'Courier New',monospace\"><span style=\"font-weight: bold\"> Non-trainable params: </span><span style=\"color: #00af00; text-decoration-color: #00af00\">0</span> (0.00 B)\n",
       "</pre>\n"
      ],
      "text/plain": [
       "\u001b[1m Non-trainable params: \u001b[0m\u001b[38;5;34m0\u001b[0m (0.00 B)\n"
      ]
     },
     "metadata": {},
     "output_type": "display_data"
    }
   ],
   "source": [
    "model.summary()"
   ]
  },
  {
   "cell_type": "code",
   "execution_count": 298,
   "id": "414b247e",
   "metadata": {},
   "outputs": [
    {
     "name": "stdout",
     "output_type": "stream",
     "text": [
      "Epoch 1/50\n",
      "\u001b[1m5/5\u001b[0m \u001b[32m━━━━━━━━━━━━━━━━━━━━\u001b[0m\u001b[37m\u001b[0m \u001b[1m8s\u001b[0m 227ms/step - accuracy: 0.5058 - loss: 0.6932 - val_accuracy: 0.4877 - val_loss: 0.6932\n",
      "Epoch 2/50\n",
      "\u001b[1m5/5\u001b[0m \u001b[32m━━━━━━━━━━━━━━━━━━━━\u001b[0m\u001b[37m\u001b[0m \u001b[1m0s\u001b[0m 57ms/step - accuracy: 0.5048 - loss: 0.6919 - val_accuracy: 0.5333 - val_loss: 0.6930\n",
      "Epoch 3/50\n",
      "\u001b[1m5/5\u001b[0m \u001b[32m━━━━━━━━━━━━━━━━━━━━\u001b[0m\u001b[37m\u001b[0m \u001b[1m0s\u001b[0m 55ms/step - accuracy: 0.5801 - loss: 0.6917 - val_accuracy: 0.5509 - val_loss: 0.6919\n",
      "Epoch 4/50\n",
      "\u001b[1m5/5\u001b[0m \u001b[32m━━━━━━━━━━━━━━━━━━━━\u001b[0m\u001b[37m\u001b[0m \u001b[1m0s\u001b[0m 56ms/step - accuracy: 0.5829 - loss: 0.6878 - val_accuracy: 0.5860 - val_loss: 0.6931\n",
      "Epoch 5/50\n",
      "\u001b[1m5/5\u001b[0m \u001b[32m━━━━━━━━━━━━━━━━━━━━\u001b[0m\u001b[37m\u001b[0m \u001b[1m0s\u001b[0m 52ms/step - accuracy: 0.5897 - loss: 0.6928 - val_accuracy: 0.5474 - val_loss: 0.6900\n",
      "Epoch 6/50\n",
      "\u001b[1m5/5\u001b[0m \u001b[32m━━━━━━━━━━━━━━━━━━━━\u001b[0m\u001b[37m\u001b[0m \u001b[1m0s\u001b[0m 54ms/step - accuracy: 0.5806 - loss: 0.6854 - val_accuracy: 0.5509 - val_loss: 0.6888\n",
      "Epoch 7/50\n",
      "\u001b[1m5/5\u001b[0m \u001b[32m━━━━━━━━━━━━━━━━━━━━\u001b[0m\u001b[37m\u001b[0m \u001b[1m0s\u001b[0m 49ms/step - accuracy: 0.5917 - loss: 0.6806 - val_accuracy: 0.5649 - val_loss: 0.6858\n",
      "Epoch 8/50\n",
      "\u001b[1m5/5\u001b[0m \u001b[32m━━━━━━━━━━━━━━━━━━━━\u001b[0m\u001b[37m\u001b[0m \u001b[1m0s\u001b[0m 55ms/step - accuracy: 0.6195 - loss: 0.6738 - val_accuracy: 0.6281 - val_loss: 0.6773\n",
      "Epoch 9/50\n",
      "\u001b[1m5/5\u001b[0m \u001b[32m━━━━━━━━━━━━━━━━━━━━\u001b[0m\u001b[37m\u001b[0m \u001b[1m0s\u001b[0m 55ms/step - accuracy: 0.6591 - loss: 0.6641 - val_accuracy: 0.6140 - val_loss: 0.6795\n",
      "Epoch 10/50\n",
      "\u001b[1m5/5\u001b[0m \u001b[32m━━━━━━━━━━━━━━━━━━━━\u001b[0m\u001b[37m\u001b[0m \u001b[1m0s\u001b[0m 56ms/step - accuracy: 0.6653 - loss: 0.6498 - val_accuracy: 0.6211 - val_loss: 0.6756\n",
      "Epoch 11/50\n",
      "\u001b[1m5/5\u001b[0m \u001b[32m━━━━━━━━━━━━━━━━━━━━\u001b[0m\u001b[37m\u001b[0m \u001b[1m0s\u001b[0m 55ms/step - accuracy: 0.6645 - loss: 0.6380 - val_accuracy: 0.6211 - val_loss: 0.6640\n",
      "Epoch 12/50\n",
      "\u001b[1m5/5\u001b[0m \u001b[32m━━━━━━━━━━━━━━━━━━━━\u001b[0m\u001b[37m\u001b[0m \u001b[1m0s\u001b[0m 57ms/step - accuracy: 0.6492 - loss: 0.6359 - val_accuracy: 0.6421 - val_loss: 0.6821\n",
      "Epoch 13/50\n",
      "\u001b[1m5/5\u001b[0m \u001b[32m━━━━━━━━━━━━━━━━━━━━\u001b[0m\u001b[37m\u001b[0m \u001b[1m0s\u001b[0m 56ms/step - accuracy: 0.6272 - loss: 0.6380 - val_accuracy: 0.6035 - val_loss: 0.6749\n",
      "Epoch 14/50\n",
      "\u001b[1m5/5\u001b[0m \u001b[32m━━━━━━━━━━━━━━━━━━━━\u001b[0m\u001b[37m\u001b[0m \u001b[1m0s\u001b[0m 53ms/step - accuracy: 0.6832 - loss: 0.6177 - val_accuracy: 0.6211 - val_loss: 0.6450\n",
      "Epoch 15/50\n",
      "\u001b[1m5/5\u001b[0m \u001b[32m━━━━━━━━━━━━━━━━━━━━\u001b[0m\u001b[37m\u001b[0m \u001b[1m0s\u001b[0m 55ms/step - accuracy: 0.6345 - loss: 0.6341 - val_accuracy: 0.6175 - val_loss: 0.6515\n",
      "Epoch 16/50\n",
      "\u001b[1m5/5\u001b[0m \u001b[32m━━━━━━━━━━━━━━━━━━━━\u001b[0m\u001b[37m\u001b[0m \u001b[1m0s\u001b[0m 58ms/step - accuracy: 0.6704 - loss: 0.6174 - val_accuracy: 0.6316 - val_loss: 0.6629\n",
      "Epoch 17/50\n",
      "\u001b[1m5/5\u001b[0m \u001b[32m━━━━━━━━━━━━━━━━━━━━\u001b[0m\u001b[37m\u001b[0m \u001b[1m0s\u001b[0m 50ms/step - accuracy: 0.6886 - loss: 0.5856 - val_accuracy: 0.6035 - val_loss: 0.6683\n",
      "Epoch 18/50\n",
      "\u001b[1m5/5\u001b[0m \u001b[32m━━━━━━━━━━━━━━━━━━━━\u001b[0m\u001b[37m\u001b[0m \u001b[1m0s\u001b[0m 51ms/step - accuracy: 0.6273 - loss: 0.6393 - val_accuracy: 0.5860 - val_loss: 0.6895\n",
      "Epoch 19/50\n",
      "\u001b[1m5/5\u001b[0m \u001b[32m━━━━━━━━━━━━━━━━━━━━\u001b[0m\u001b[37m\u001b[0m \u001b[1m0s\u001b[0m 54ms/step - accuracy: 0.6564 - loss: 0.6262 - val_accuracy: 0.6035 - val_loss: 0.6393\n",
      "Epoch 20/50\n",
      "\u001b[1m5/5\u001b[0m \u001b[32m━━━━━━━━━━━━━━━━━━━━\u001b[0m\u001b[37m\u001b[0m \u001b[1m0s\u001b[0m 54ms/step - accuracy: 0.6575 - loss: 0.6090 - val_accuracy: 0.6211 - val_loss: 0.6480\n",
      "Epoch 21/50\n",
      "\u001b[1m5/5\u001b[0m \u001b[32m━━━━━━━━━━━━━━━━━━━━\u001b[0m\u001b[37m\u001b[0m \u001b[1m0s\u001b[0m 51ms/step - accuracy: 0.6808 - loss: 0.5871 - val_accuracy: 0.6175 - val_loss: 0.6337\n",
      "Epoch 22/50\n",
      "\u001b[1m5/5\u001b[0m \u001b[32m━━━━━━━━━━━━━━━━━━━━\u001b[0m\u001b[37m\u001b[0m \u001b[1m0s\u001b[0m 47ms/step - accuracy: 0.6753 - loss: 0.6110 - val_accuracy: 0.6386 - val_loss: 0.6334\n",
      "Epoch 23/50\n",
      "\u001b[1m5/5\u001b[0m \u001b[32m━━━━━━━━━━━━━━━━━━━━\u001b[0m\u001b[37m\u001b[0m \u001b[1m0s\u001b[0m 55ms/step - accuracy: 0.6633 - loss: 0.6010 - val_accuracy: 0.6316 - val_loss: 0.6228\n",
      "Epoch 24/50\n",
      "\u001b[1m5/5\u001b[0m \u001b[32m━━━━━━━━━━━━━━━━━━━━\u001b[0m\u001b[37m\u001b[0m \u001b[1m0s\u001b[0m 55ms/step - accuracy: 0.6780 - loss: 0.5910 - val_accuracy: 0.6491 - val_loss: 0.6359\n",
      "Epoch 25/50\n",
      "\u001b[1m5/5\u001b[0m \u001b[32m━━━━━━━━━━━━━━━━━━━━\u001b[0m\u001b[37m\u001b[0m \u001b[1m0s\u001b[0m 55ms/step - accuracy: 0.6835 - loss: 0.5907 - val_accuracy: 0.6491 - val_loss: 0.6174\n",
      "Epoch 26/50\n",
      "\u001b[1m5/5\u001b[0m \u001b[32m━━━━━━━━━━━━━━━━━━━━\u001b[0m\u001b[37m\u001b[0m \u001b[1m0s\u001b[0m 49ms/step - accuracy: 0.7042 - loss: 0.5733 - val_accuracy: 0.6421 - val_loss: 0.6160\n",
      "Epoch 27/50\n",
      "\u001b[1m5/5\u001b[0m \u001b[32m━━━━━━━━━━━━━━━━━━━━\u001b[0m\u001b[37m\u001b[0m \u001b[1m0s\u001b[0m 50ms/step - accuracy: 0.7269 - loss: 0.5526 - val_accuracy: 0.6491 - val_loss: 0.6235\n",
      "Epoch 28/50\n",
      "\u001b[1m5/5\u001b[0m \u001b[32m━━━━━━━━━━━━━━━━━━━━\u001b[0m\u001b[37m\u001b[0m \u001b[1m0s\u001b[0m 61ms/step - accuracy: 0.6712 - loss: 0.5920 - val_accuracy: 0.6561 - val_loss: 0.6032\n",
      "Epoch 29/50\n",
      "\u001b[1m5/5\u001b[0m \u001b[32m━━━━━━━━━━━━━━━━━━━━\u001b[0m\u001b[37m\u001b[0m \u001b[1m0s\u001b[0m 56ms/step - accuracy: 0.7170 - loss: 0.5587 - val_accuracy: 0.6596 - val_loss: 0.6072\n",
      "Epoch 30/50\n",
      "\u001b[1m5/5\u001b[0m \u001b[32m━━━━━━━━━━━━━━━━━━━━\u001b[0m\u001b[37m\u001b[0m \u001b[1m0s\u001b[0m 57ms/step - accuracy: 0.7028 - loss: 0.5669 - val_accuracy: 0.6526 - val_loss: 0.6045\n",
      "Epoch 31/50\n",
      "\u001b[1m5/5\u001b[0m \u001b[32m━━━━━━━━━━━━━━━━━━━━\u001b[0m\u001b[37m\u001b[0m \u001b[1m0s\u001b[0m 55ms/step - accuracy: 0.7110 - loss: 0.5610 - val_accuracy: 0.6737 - val_loss: 0.6056\n",
      "Epoch 32/50\n",
      "\u001b[1m5/5\u001b[0m \u001b[32m━━━━━━━━━━━━━━━━━━━━\u001b[0m\u001b[37m\u001b[0m \u001b[1m0s\u001b[0m 54ms/step - accuracy: 0.7205 - loss: 0.5659 - val_accuracy: 0.6632 - val_loss: 0.6032\n",
      "Epoch 33/50\n",
      "\u001b[1m5/5\u001b[0m \u001b[32m━━━━━━━━━━━━━━━━━━━━\u001b[0m\u001b[37m\u001b[0m \u001b[1m0s\u001b[0m 54ms/step - accuracy: 0.7136 - loss: 0.5659 - val_accuracy: 0.6842 - val_loss: 0.5975\n",
      "Epoch 34/50\n",
      "\u001b[1m5/5\u001b[0m \u001b[32m━━━━━━━━━━━━━━━━━━━━\u001b[0m\u001b[37m\u001b[0m \u001b[1m0s\u001b[0m 51ms/step - accuracy: 0.7319 - loss: 0.5446 - val_accuracy: 0.6632 - val_loss: 0.6068\n",
      "Epoch 35/50\n",
      "\u001b[1m5/5\u001b[0m \u001b[32m━━━━━━━━━━━━━━━━━━━━\u001b[0m\u001b[37m\u001b[0m \u001b[1m0s\u001b[0m 57ms/step - accuracy: 0.7236 - loss: 0.5480 - val_accuracy: 0.6632 - val_loss: 0.5989\n",
      "Epoch 36/50\n",
      "\u001b[1m5/5\u001b[0m \u001b[32m━━━━━━━━━━━━━━━━━━━━\u001b[0m\u001b[37m\u001b[0m \u001b[1m0s\u001b[0m 55ms/step - accuracy: 0.7044 - loss: 0.5611 - val_accuracy: 0.6702 - val_loss: 0.5931\n",
      "Epoch 37/50\n",
      "\u001b[1m5/5\u001b[0m \u001b[32m━━━━━━━━━━━━━━━━━━━━\u001b[0m\u001b[37m\u001b[0m \u001b[1m0s\u001b[0m 51ms/step - accuracy: 0.7218 - loss: 0.5421 - val_accuracy: 0.6702 - val_loss: 0.5995\n",
      "Epoch 38/50\n",
      "\u001b[1m5/5\u001b[0m \u001b[32m━━━━━━━━━━━━━━━━━━━━\u001b[0m\u001b[37m\u001b[0m \u001b[1m0s\u001b[0m 50ms/step - accuracy: 0.7261 - loss: 0.5622 - val_accuracy: 0.6737 - val_loss: 0.5976\n",
      "Epoch 39/50\n",
      "\u001b[1m5/5\u001b[0m \u001b[32m━━━━━━━━━━━━━━━━━━━━\u001b[0m\u001b[37m\u001b[0m \u001b[1m0s\u001b[0m 50ms/step - accuracy: 0.6931 - loss: 0.5605 - val_accuracy: 0.6912 - val_loss: 0.5901\n",
      "Epoch 40/50\n",
      "\u001b[1m5/5\u001b[0m \u001b[32m━━━━━━━━━━━━━━━━━━━━\u001b[0m\u001b[37m\u001b[0m \u001b[1m0s\u001b[0m 48ms/step - accuracy: 0.7281 - loss: 0.5491 - val_accuracy: 0.6702 - val_loss: 0.5866\n",
      "Epoch 41/50\n",
      "\u001b[1m5/5\u001b[0m \u001b[32m━━━━━━━━━━━━━━━━━━━━\u001b[0m\u001b[37m\u001b[0m \u001b[1m0s\u001b[0m 50ms/step - accuracy: 0.7178 - loss: 0.5475 - val_accuracy: 0.6772 - val_loss: 0.5921\n",
      "Epoch 42/50\n",
      "\u001b[1m5/5\u001b[0m \u001b[32m━━━━━━━━━━━━━━━━━━━━\u001b[0m\u001b[37m\u001b[0m \u001b[1m0s\u001b[0m 50ms/step - accuracy: 0.7320 - loss: 0.5435 - val_accuracy: 0.6842 - val_loss: 0.5862\n",
      "Epoch 43/50\n",
      "\u001b[1m5/5\u001b[0m \u001b[32m━━━━━━━━━━━━━━━━━━━━\u001b[0m\u001b[37m\u001b[0m \u001b[1m0s\u001b[0m 54ms/step - accuracy: 0.7385 - loss: 0.5301 - val_accuracy: 0.6912 - val_loss: 0.5806\n",
      "Epoch 44/50\n",
      "\u001b[1m5/5\u001b[0m \u001b[32m━━━━━━━━━━━━━━━━━━━━\u001b[0m\u001b[37m\u001b[0m \u001b[1m0s\u001b[0m 53ms/step - accuracy: 0.7354 - loss: 0.5472 - val_accuracy: 0.6877 - val_loss: 0.5754\n",
      "Epoch 45/50\n",
      "\u001b[1m5/5\u001b[0m \u001b[32m━━━━━━━━━━━━━━━━━━━━\u001b[0m\u001b[37m\u001b[0m \u001b[1m0s\u001b[0m 55ms/step - accuracy: 0.7388 - loss: 0.5470 - val_accuracy: 0.6842 - val_loss: 0.6014\n",
      "Epoch 46/50\n",
      "\u001b[1m5/5\u001b[0m \u001b[32m━━━━━━━━━━━━━━━━━━━━\u001b[0m\u001b[37m\u001b[0m \u001b[1m0s\u001b[0m 49ms/step - accuracy: 0.7294 - loss: 0.5371 - val_accuracy: 0.6807 - val_loss: 0.5768\n",
      "Epoch 47/50\n",
      "\u001b[1m5/5\u001b[0m \u001b[32m━━━━━━━━━━━━━━━━━━━━\u001b[0m\u001b[37m\u001b[0m \u001b[1m0s\u001b[0m 51ms/step - accuracy: 0.7144 - loss: 0.5542 - val_accuracy: 0.6947 - val_loss: 0.5787\n",
      "Epoch 48/50\n",
      "\u001b[1m5/5\u001b[0m \u001b[32m━━━━━━━━━━━━━━━━━━━━\u001b[0m\u001b[37m\u001b[0m \u001b[1m0s\u001b[0m 49ms/step - accuracy: 0.7237 - loss: 0.5534 - val_accuracy: 0.6807 - val_loss: 0.5781\n",
      "Epoch 49/50\n",
      "\u001b[1m5/5\u001b[0m \u001b[32m━━━━━━━━━━━━━━━━━━━━\u001b[0m\u001b[37m\u001b[0m \u001b[1m0s\u001b[0m 49ms/step - accuracy: 0.7124 - loss: 0.5454 - val_accuracy: 0.7053 - val_loss: 0.5703\n",
      "Epoch 50/50\n",
      "\u001b[1m5/5\u001b[0m \u001b[32m━━━━━━━━━━━━━━━━━━━━\u001b[0m\u001b[37m\u001b[0m \u001b[1m0s\u001b[0m 49ms/step - accuracy: 0.7297 - loss: 0.5290 - val_accuracy: 0.7018 - val_loss: 0.5739\n"
     ]
    }
   ],
   "source": [
    "batch_size = 128\n",
    "epochs = 50\n",
    "\n",
    "history = model.fit(\n",
    "    X_train, y_train,\n",
    "    batch_size=batch_size,\n",
    "    epochs=epochs,\n",
    "    validation_data=(X_val, y_val),\n",
    "    verbose=1\n",
    ")"
   ]
  },
  {
   "cell_type": "code",
   "execution_count": 299,
   "id": "67cfd8e5",
   "metadata": {},
   "outputs": [
    {
     "name": "stdout",
     "output_type": "stream",
     "text": [
      "\u001b[1m9/9\u001b[0m \u001b[32m━━━━━━━━━━━━━━━━━━━━\u001b[0m\u001b[37m\u001b[0m \u001b[1m0s\u001b[0m 9ms/step - accuracy: 0.7291 - loss: 0.5588 \n",
      "Validation Loss:  0.5739229917526245\n",
      "Validation Accuracy:  0.7017543911933899\n"
     ]
    }
   ],
   "source": [
    "val_loss, val_accuracy = model.evaluate(X_val, y_val)\n",
    "print(\"Validation Loss: \", val_loss)\n",
    "print(\"Validation Accuracy: \", val_accuracy)"
   ]
  },
  {
   "cell_type": "code",
   "execution_count": 300,
   "id": "be3415de",
   "metadata": {},
   "outputs": [
    {
     "name": "stderr",
     "output_type": "stream",
     "text": [
      "WARNING:absl:You are saving your model as an HDF5 file via `model.save()` or `keras.saving.save_model(model)`. This file format is considered legacy. We recommend using instead the native Keras format, e.g. `model.save('my_model.keras')` or `keras.saving.save_model(model, 'my_model.keras')`. \n"
     ]
    }
   ],
   "source": [
    "model.save('cnn_cough_classification.h5')"
   ]
  },
  {
   "cell_type": "code",
   "execution_count": 301,
   "id": "eecf2d6a",
   "metadata": {},
   "outputs": [],
   "source": [
    "import pickle\n",
    "from sklearn.preprocessing import LabelEncoder\n",
    "\n",
    "label_encoder = LabelEncoder()\n",
    "y_encoded = label_encoder.fit_transform(y)\n",
    "\n",
    "with open('label_encoder_cnn_2.pkl', 'wb') as file:\n",
    "    pickle.dump(label_encoder, file)"
   ]
  },
  {
   "cell_type": "markdown",
   "id": "129b6359",
   "metadata": {},
   "source": [
    "### PREDICTION"
   ]
  },
  {
   "cell_type": "code",
   "execution_count": 303,
   "id": "72bae8a3",
   "metadata": {},
   "outputs": [
    {
     "name": "stderr",
     "output_type": "stream",
     "text": [
      "WARNING:absl:Compiled the loaded model, but the compiled metrics have yet to be built. `model.compile_metrics` will be empty until you train or evaluate the model.\n"
     ]
    },
    {
     "name": "stdout",
     "output_type": "stream",
     "text": [
      "\u001b[1m1/1\u001b[0m \u001b[32m━━━━━━━━━━━━━━━━━━━━\u001b[0m\u001b[37m\u001b[0m \u001b[1m0s\u001b[0m 414ms/step\n",
      "Predicted Label:  non_cough\n"
     ]
    }
   ],
   "source": [
    "from tensorflow.keras.models import load_model\n",
    "\n",
    "with open('label_encoder_cnn_2.pkl', 'rb') as file:\n",
    "    label_encoder = pickle.load(file)\n",
    "\n",
    "model = load_model('cnn_cough_classification.h5')\n",
    "\n",
    "new_audio_signal = \"H:/My Drive/Task 2 - Feature Extarction/kashish_mru.wav\"\n",
    "audio_features = extract_features(new_audio_signal)\n",
    "\n",
    "audio_features = np.array(audio_features).reshape(1, -1)  \n",
    "audio_features_scaled = audio_features.astype('float32') / np.max(X_train)  \n",
    "audio_features_scaled = audio_features_scaled[..., np.newaxis]\n",
    "\n",
    "predictions = model.predict(audio_features_scaled)\n",
    "predicted_label_index = np.argmax(predictions, axis=1)[0]\n",
    "predicted_label = label_encoder.classes_[predicted_label_index]\n",
    "\n",
    "print(\"Predicted Label: \",predicted_label)"
   ]
  },
  {
   "cell_type": "markdown",
   "id": "ebffe9bb",
   "metadata": {},
   "source": [
    "## DENSE NEURAL NETWORKS - 2"
   ]
  },
  {
   "cell_type": "code",
   "execution_count": 304,
   "id": "43d9340b",
   "metadata": {},
   "outputs": [],
   "source": [
    "from sklearn.model_selection import train_test_split\n",
    "from sklearn.preprocessing import StandardScaler, LabelEncoder\n",
    "from tensorflow.keras.models import Sequential\n",
    "from tensorflow.keras.layers import Dense, Dropout\n",
    "from tensorflow.keras.utils import to_categorical"
   ]
  },
  {
   "cell_type": "code",
   "execution_count": 305,
   "id": "ea612fb5",
   "metadata": {},
   "outputs": [],
   "source": [
    "df = pd.read_csv(\"feature_extraction.csv\")"
   ]
  },
  {
   "cell_type": "code",
   "execution_count": 307,
   "id": "82135f39",
   "metadata": {},
   "outputs": [],
   "source": [
    "X = df.drop(columns=['label']).values\n",
    "y = df['label'].values"
   ]
  },
  {
   "cell_type": "code",
   "execution_count": 308,
   "id": "474dc3e6",
   "metadata": {},
   "outputs": [],
   "source": [
    "label_encoder = LabelEncoder()\n",
    "y = label_encoder.fit_transform(y)"
   ]
  },
  {
   "cell_type": "code",
   "execution_count": 309,
   "id": "941641d5",
   "metadata": {},
   "outputs": [],
   "source": [
    "X_train, X_test, y_train, y_test = train_test_split(X, y, test_size=0.2, random_state=42)"
   ]
  },
  {
   "cell_type": "code",
   "execution_count": 310,
   "id": "0c7a11db",
   "metadata": {},
   "outputs": [],
   "source": [
    "scaler = StandardScaler()\n",
    "X_train = scaler.fit_transform(X_train)\n",
    "X_test = scaler.transform(X_test)"
   ]
  },
  {
   "cell_type": "code",
   "execution_count": 311,
   "id": "484c2a1d",
   "metadata": {},
   "outputs": [
    {
     "name": "stderr",
     "output_type": "stream",
     "text": [
      "C:\\Users\\pavan\\AppData\\Local\\Programs\\Python\\Python310\\lib\\site-packages\\keras\\src\\layers\\core\\dense.py:87: UserWarning: Do not pass an `input_shape`/`input_dim` argument to a layer. When using Sequential models, prefer using an `Input(shape)` object as the first layer in the model instead.\n",
      "  super().__init__(activity_regularizer=activity_regularizer, **kwargs)\n"
     ]
    }
   ],
   "source": [
    "model = Sequential()\n",
    "\n",
    "model.add(Dense(512, activation='relu', input_shape=(X_train.shape[1],)))\n",
    "model.add(Dropout(0.5))\n",
    "\n",
    "model.add(Dense(256, activation='relu'))\n",
    "model.add(Dropout(0.5))\n",
    "\n",
    "model.add(Dense(128, activation='relu'))\n",
    "model.add(Dropout(0.5))\n",
    "\n",
    "model.add(Dense(64, activation='relu'))\n",
    "\n",
    "model.add(Dense(len(label_encoder.classes_), activation='softmax'))\n",
    "\n",
    "model.compile(optimizer='adam',\n",
    "              loss='sparse_categorical_crossentropy',\n",
    "              metrics=['accuracy'])"
   ]
  },
  {
   "cell_type": "code",
   "execution_count": 312,
   "id": "09e638d3",
   "metadata": {},
   "outputs": [
    {
     "data": {
      "text/html": [
       "<pre style=\"white-space:pre;overflow-x:auto;line-height:normal;font-family:Menlo,'DejaVu Sans Mono',consolas,'Courier New',monospace\"><span style=\"font-weight: bold\">Model: \"sequential_7\"</span>\n",
       "</pre>\n"
      ],
      "text/plain": [
       "\u001b[1mModel: \"sequential_7\"\u001b[0m\n"
      ]
     },
     "metadata": {},
     "output_type": "display_data"
    },
    {
     "data": {
      "text/html": [
       "<pre style=\"white-space:pre;overflow-x:auto;line-height:normal;font-family:Menlo,'DejaVu Sans Mono',consolas,'Courier New',monospace\">┏━━━━━━━━━━━━━━━━━━━━━━━━━━━━━━━━━━━━━━┳━━━━━━━━━━━━━━━━━━━━━━━━━━━━━┳━━━━━━━━━━━━━━━━━┓\n",
       "┃<span style=\"font-weight: bold\"> Layer (type)                         </span>┃<span style=\"font-weight: bold\"> Output Shape                </span>┃<span style=\"font-weight: bold\">         Param # </span>┃\n",
       "┡━━━━━━━━━━━━━━━━━━━━━━━━━━━━━━━━━━━━━━╇━━━━━━━━━━━━━━━━━━━━━━━━━━━━━╇━━━━━━━━━━━━━━━━━┩\n",
       "│ dense_26 (<span style=\"color: #0087ff; text-decoration-color: #0087ff\">Dense</span>)                     │ (<span style=\"color: #00d7ff; text-decoration-color: #00d7ff\">None</span>, <span style=\"color: #00af00; text-decoration-color: #00af00\">512</span>)                 │          <span style=\"color: #00af00; text-decoration-color: #00af00\">14,336</span> │\n",
       "├──────────────────────────────────────┼─────────────────────────────┼─────────────────┤\n",
       "│ dropout_18 (<span style=\"color: #0087ff; text-decoration-color: #0087ff\">Dropout</span>)                 │ (<span style=\"color: #00d7ff; text-decoration-color: #00d7ff\">None</span>, <span style=\"color: #00af00; text-decoration-color: #00af00\">512</span>)                 │               <span style=\"color: #00af00; text-decoration-color: #00af00\">0</span> │\n",
       "├──────────────────────────────────────┼─────────────────────────────┼─────────────────┤\n",
       "│ dense_27 (<span style=\"color: #0087ff; text-decoration-color: #0087ff\">Dense</span>)                     │ (<span style=\"color: #00d7ff; text-decoration-color: #00d7ff\">None</span>, <span style=\"color: #00af00; text-decoration-color: #00af00\">256</span>)                 │         <span style=\"color: #00af00; text-decoration-color: #00af00\">131,328</span> │\n",
       "├──────────────────────────────────────┼─────────────────────────────┼─────────────────┤\n",
       "│ dropout_19 (<span style=\"color: #0087ff; text-decoration-color: #0087ff\">Dropout</span>)                 │ (<span style=\"color: #00d7ff; text-decoration-color: #00d7ff\">None</span>, <span style=\"color: #00af00; text-decoration-color: #00af00\">256</span>)                 │               <span style=\"color: #00af00; text-decoration-color: #00af00\">0</span> │\n",
       "├──────────────────────────────────────┼─────────────────────────────┼─────────────────┤\n",
       "│ dense_28 (<span style=\"color: #0087ff; text-decoration-color: #0087ff\">Dense</span>)                     │ (<span style=\"color: #00d7ff; text-decoration-color: #00d7ff\">None</span>, <span style=\"color: #00af00; text-decoration-color: #00af00\">128</span>)                 │          <span style=\"color: #00af00; text-decoration-color: #00af00\">32,896</span> │\n",
       "├──────────────────────────────────────┼─────────────────────────────┼─────────────────┤\n",
       "│ dropout_20 (<span style=\"color: #0087ff; text-decoration-color: #0087ff\">Dropout</span>)                 │ (<span style=\"color: #00d7ff; text-decoration-color: #00d7ff\">None</span>, <span style=\"color: #00af00; text-decoration-color: #00af00\">128</span>)                 │               <span style=\"color: #00af00; text-decoration-color: #00af00\">0</span> │\n",
       "├──────────────────────────────────────┼─────────────────────────────┼─────────────────┤\n",
       "│ dense_29 (<span style=\"color: #0087ff; text-decoration-color: #0087ff\">Dense</span>)                     │ (<span style=\"color: #00d7ff; text-decoration-color: #00d7ff\">None</span>, <span style=\"color: #00af00; text-decoration-color: #00af00\">64</span>)                  │           <span style=\"color: #00af00; text-decoration-color: #00af00\">8,256</span> │\n",
       "├──────────────────────────────────────┼─────────────────────────────┼─────────────────┤\n",
       "│ dense_30 (<span style=\"color: #0087ff; text-decoration-color: #0087ff\">Dense</span>)                     │ (<span style=\"color: #00d7ff; text-decoration-color: #00d7ff\">None</span>, <span style=\"color: #00af00; text-decoration-color: #00af00\">2</span>)                   │             <span style=\"color: #00af00; text-decoration-color: #00af00\">130</span> │\n",
       "└──────────────────────────────────────┴─────────────────────────────┴─────────────────┘\n",
       "</pre>\n"
      ],
      "text/plain": [
       "┏━━━━━━━━━━━━━━━━━━━━━━━━━━━━━━━━━━━━━━┳━━━━━━━━━━━━━━━━━━━━━━━━━━━━━┳━━━━━━━━━━━━━━━━━┓\n",
       "┃\u001b[1m \u001b[0m\u001b[1mLayer (type)                        \u001b[0m\u001b[1m \u001b[0m┃\u001b[1m \u001b[0m\u001b[1mOutput Shape               \u001b[0m\u001b[1m \u001b[0m┃\u001b[1m \u001b[0m\u001b[1m        Param #\u001b[0m\u001b[1m \u001b[0m┃\n",
       "┡━━━━━━━━━━━━━━━━━━━━━━━━━━━━━━━━━━━━━━╇━━━━━━━━━━━━━━━━━━━━━━━━━━━━━╇━━━━━━━━━━━━━━━━━┩\n",
       "│ dense_26 (\u001b[38;5;33mDense\u001b[0m)                     │ (\u001b[38;5;45mNone\u001b[0m, \u001b[38;5;34m512\u001b[0m)                 │          \u001b[38;5;34m14,336\u001b[0m │\n",
       "├──────────────────────────────────────┼─────────────────────────────┼─────────────────┤\n",
       "│ dropout_18 (\u001b[38;5;33mDropout\u001b[0m)                 │ (\u001b[38;5;45mNone\u001b[0m, \u001b[38;5;34m512\u001b[0m)                 │               \u001b[38;5;34m0\u001b[0m │\n",
       "├──────────────────────────────────────┼─────────────────────────────┼─────────────────┤\n",
       "│ dense_27 (\u001b[38;5;33mDense\u001b[0m)                     │ (\u001b[38;5;45mNone\u001b[0m, \u001b[38;5;34m256\u001b[0m)                 │         \u001b[38;5;34m131,328\u001b[0m │\n",
       "├──────────────────────────────────────┼─────────────────────────────┼─────────────────┤\n",
       "│ dropout_19 (\u001b[38;5;33mDropout\u001b[0m)                 │ (\u001b[38;5;45mNone\u001b[0m, \u001b[38;5;34m256\u001b[0m)                 │               \u001b[38;5;34m0\u001b[0m │\n",
       "├──────────────────────────────────────┼─────────────────────────────┼─────────────────┤\n",
       "│ dense_28 (\u001b[38;5;33mDense\u001b[0m)                     │ (\u001b[38;5;45mNone\u001b[0m, \u001b[38;5;34m128\u001b[0m)                 │          \u001b[38;5;34m32,896\u001b[0m │\n",
       "├──────────────────────────────────────┼─────────────────────────────┼─────────────────┤\n",
       "│ dropout_20 (\u001b[38;5;33mDropout\u001b[0m)                 │ (\u001b[38;5;45mNone\u001b[0m, \u001b[38;5;34m128\u001b[0m)                 │               \u001b[38;5;34m0\u001b[0m │\n",
       "├──────────────────────────────────────┼─────────────────────────────┼─────────────────┤\n",
       "│ dense_29 (\u001b[38;5;33mDense\u001b[0m)                     │ (\u001b[38;5;45mNone\u001b[0m, \u001b[38;5;34m64\u001b[0m)                  │           \u001b[38;5;34m8,256\u001b[0m │\n",
       "├──────────────────────────────────────┼─────────────────────────────┼─────────────────┤\n",
       "│ dense_30 (\u001b[38;5;33mDense\u001b[0m)                     │ (\u001b[38;5;45mNone\u001b[0m, \u001b[38;5;34m2\u001b[0m)                   │             \u001b[38;5;34m130\u001b[0m │\n",
       "└──────────────────────────────────────┴─────────────────────────────┴─────────────────┘\n"
      ]
     },
     "metadata": {},
     "output_type": "display_data"
    },
    {
     "data": {
      "text/html": [
       "<pre style=\"white-space:pre;overflow-x:auto;line-height:normal;font-family:Menlo,'DejaVu Sans Mono',consolas,'Courier New',monospace\"><span style=\"font-weight: bold\"> Total params: </span><span style=\"color: #00af00; text-decoration-color: #00af00\">186,946</span> (730.26 KB)\n",
       "</pre>\n"
      ],
      "text/plain": [
       "\u001b[1m Total params: \u001b[0m\u001b[38;5;34m186,946\u001b[0m (730.26 KB)\n"
      ]
     },
     "metadata": {},
     "output_type": "display_data"
    },
    {
     "data": {
      "text/html": [
       "<pre style=\"white-space:pre;overflow-x:auto;line-height:normal;font-family:Menlo,'DejaVu Sans Mono',consolas,'Courier New',monospace\"><span style=\"font-weight: bold\"> Trainable params: </span><span style=\"color: #00af00; text-decoration-color: #00af00\">186,946</span> (730.26 KB)\n",
       "</pre>\n"
      ],
      "text/plain": [
       "\u001b[1m Trainable params: \u001b[0m\u001b[38;5;34m186,946\u001b[0m (730.26 KB)\n"
      ]
     },
     "metadata": {},
     "output_type": "display_data"
    },
    {
     "data": {
      "text/html": [
       "<pre style=\"white-space:pre;overflow-x:auto;line-height:normal;font-family:Menlo,'DejaVu Sans Mono',consolas,'Courier New',monospace\"><span style=\"font-weight: bold\"> Non-trainable params: </span><span style=\"color: #00af00; text-decoration-color: #00af00\">0</span> (0.00 B)\n",
       "</pre>\n"
      ],
      "text/plain": [
       "\u001b[1m Non-trainable params: \u001b[0m\u001b[38;5;34m0\u001b[0m (0.00 B)\n"
      ]
     },
     "metadata": {},
     "output_type": "display_data"
    }
   ],
   "source": [
    "model.summary()"
   ]
  },
  {
   "cell_type": "code",
   "execution_count": 313,
   "id": "38a53dd1",
   "metadata": {},
   "outputs": [
    {
     "name": "stdout",
     "output_type": "stream",
     "text": [
      "Epoch 1/50\n",
      "\u001b[1m22/22\u001b[0m \u001b[32m━━━━━━━━━━━━━━━━━━━━\u001b[0m\u001b[37m\u001b[0m \u001b[1m5s\u001b[0m 37ms/step - accuracy: 0.5227 - loss: 0.7157 - val_accuracy: 0.6647 - val_loss: 0.6231\n",
      "Epoch 2/50\n",
      "\u001b[1m22/22\u001b[0m \u001b[32m━━━━━━━━━━━━━━━━━━━━\u001b[0m\u001b[37m\u001b[0m \u001b[1m0s\u001b[0m 13ms/step - accuracy: 0.6187 - loss: 0.6354 - val_accuracy: 0.6821 - val_loss: 0.5607\n",
      "Epoch 3/50\n",
      "\u001b[1m22/22\u001b[0m \u001b[32m━━━━━━━━━━━━━━━━━━━━\u001b[0m\u001b[37m\u001b[0m \u001b[1m0s\u001b[0m 12ms/step - accuracy: 0.7346 - loss: 0.5436 - val_accuracy: 0.7341 - val_loss: 0.5179\n",
      "Epoch 4/50\n",
      "\u001b[1m22/22\u001b[0m \u001b[32m━━━━━━━━━━━━━━━━━━━━\u001b[0m\u001b[37m\u001b[0m \u001b[1m0s\u001b[0m 13ms/step - accuracy: 0.7877 - loss: 0.4529 - val_accuracy: 0.7861 - val_loss: 0.4694\n",
      "Epoch 5/50\n",
      "\u001b[1m22/22\u001b[0m \u001b[32m━━━━━━━━━━━━━━━━━━━━\u001b[0m\u001b[37m\u001b[0m \u001b[1m0s\u001b[0m 13ms/step - accuracy: 0.7666 - loss: 0.4766 - val_accuracy: 0.7746 - val_loss: 0.4431\n",
      "Epoch 6/50\n",
      "\u001b[1m22/22\u001b[0m \u001b[32m━━━━━━━━━━━━━━━━━━━━\u001b[0m\u001b[37m\u001b[0m \u001b[1m0s\u001b[0m 13ms/step - accuracy: 0.8098 - loss: 0.4332 - val_accuracy: 0.8150 - val_loss: 0.4322\n",
      "Epoch 7/50\n",
      "\u001b[1m22/22\u001b[0m \u001b[32m━━━━━━━━━━━━━━━━━━━━\u001b[0m\u001b[37m\u001b[0m \u001b[1m0s\u001b[0m 13ms/step - accuracy: 0.8143 - loss: 0.3815 - val_accuracy: 0.8035 - val_loss: 0.4254\n",
      "Epoch 8/50\n",
      "\u001b[1m22/22\u001b[0m \u001b[32m━━━━━━━━━━━━━━━━━━━━\u001b[0m\u001b[37m\u001b[0m \u001b[1m0s\u001b[0m 13ms/step - accuracy: 0.8601 - loss: 0.3520 - val_accuracy: 0.8208 - val_loss: 0.4085\n",
      "Epoch 9/50\n",
      "\u001b[1m22/22\u001b[0m \u001b[32m━━━━━━━━━━━━━━━━━━━━\u001b[0m\u001b[37m\u001b[0m \u001b[1m0s\u001b[0m 12ms/step - accuracy: 0.8341 - loss: 0.3725 - val_accuracy: 0.8324 - val_loss: 0.3940\n",
      "Epoch 10/50\n",
      "\u001b[1m22/22\u001b[0m \u001b[32m━━━━━━━━━━━━━━━━━━━━\u001b[0m\u001b[37m\u001b[0m \u001b[1m0s\u001b[0m 14ms/step - accuracy: 0.8667 - loss: 0.3372 - val_accuracy: 0.8092 - val_loss: 0.4110\n",
      "Epoch 11/50\n",
      "\u001b[1m22/22\u001b[0m \u001b[32m━━━━━━━━━━━━━━━━━━━━\u001b[0m\u001b[37m\u001b[0m \u001b[1m0s\u001b[0m 13ms/step - accuracy: 0.8813 - loss: 0.3146 - val_accuracy: 0.8208 - val_loss: 0.3959\n",
      "Epoch 12/50\n",
      "\u001b[1m22/22\u001b[0m \u001b[32m━━━━━━━━━━━━━━━━━━━━\u001b[0m\u001b[37m\u001b[0m \u001b[1m0s\u001b[0m 13ms/step - accuracy: 0.8817 - loss: 0.2914 - val_accuracy: 0.8439 - val_loss: 0.3593\n",
      "Epoch 13/50\n",
      "\u001b[1m22/22\u001b[0m \u001b[32m━━━━━━━━━━━━━━━━━━━━\u001b[0m\u001b[37m\u001b[0m \u001b[1m0s\u001b[0m 12ms/step - accuracy: 0.8923 - loss: 0.2795 - val_accuracy: 0.8266 - val_loss: 0.3789\n",
      "Epoch 14/50\n",
      "\u001b[1m22/22\u001b[0m \u001b[32m━━━━━━━━━━━━━━━━━━━━\u001b[0m\u001b[37m\u001b[0m \u001b[1m0s\u001b[0m 13ms/step - accuracy: 0.8643 - loss: 0.3039 - val_accuracy: 0.8613 - val_loss: 0.3567\n",
      "Epoch 15/50\n",
      "\u001b[1m22/22\u001b[0m \u001b[32m━━━━━━━━━━━━━━━━━━━━\u001b[0m\u001b[37m\u001b[0m \u001b[1m0s\u001b[0m 13ms/step - accuracy: 0.8973 - loss: 0.2714 - val_accuracy: 0.8324 - val_loss: 0.3651\n",
      "Epoch 16/50\n",
      "\u001b[1m22/22\u001b[0m \u001b[32m━━━━━━━━━━━━━━━━━━━━\u001b[0m\u001b[37m\u001b[0m \u001b[1m0s\u001b[0m 12ms/step - accuracy: 0.9081 - loss: 0.2381 - val_accuracy: 0.8613 - val_loss: 0.3447\n",
      "Epoch 17/50\n",
      "\u001b[1m22/22\u001b[0m \u001b[32m━━━━━━━━━━━━━━━━━━━━\u001b[0m\u001b[37m\u001b[0m \u001b[1m0s\u001b[0m 12ms/step - accuracy: 0.9139 - loss: 0.2208 - val_accuracy: 0.8728 - val_loss: 0.3273\n",
      "Epoch 18/50\n",
      "\u001b[1m22/22\u001b[0m \u001b[32m━━━━━━━━━━━━━━━━━━━━\u001b[0m\u001b[37m\u001b[0m \u001b[1m0s\u001b[0m 12ms/step - accuracy: 0.9231 - loss: 0.2199 - val_accuracy: 0.8728 - val_loss: 0.3330\n",
      "Epoch 19/50\n",
      "\u001b[1m22/22\u001b[0m \u001b[32m━━━━━━━━━━━━━━━━━━━━\u001b[0m\u001b[37m\u001b[0m \u001b[1m0s\u001b[0m 14ms/step - accuracy: 0.9073 - loss: 0.2160 - val_accuracy: 0.8728 - val_loss: 0.3492\n",
      "Epoch 20/50\n",
      "\u001b[1m22/22\u001b[0m \u001b[32m━━━━━━━━━━━━━━━━━━━━\u001b[0m\u001b[37m\u001b[0m \u001b[1m0s\u001b[0m 13ms/step - accuracy: 0.9019 - loss: 0.2092 - val_accuracy: 0.8844 - val_loss: 0.3353\n",
      "Epoch 21/50\n",
      "\u001b[1m22/22\u001b[0m \u001b[32m━━━━━━━━━━━━━━━━━━━━\u001b[0m\u001b[37m\u001b[0m \u001b[1m0s\u001b[0m 13ms/step - accuracy: 0.9229 - loss: 0.2072 - val_accuracy: 0.8786 - val_loss: 0.3325\n",
      "Epoch 22/50\n",
      "\u001b[1m22/22\u001b[0m \u001b[32m━━━━━━━━━━━━━━━━━━━━\u001b[0m\u001b[37m\u001b[0m \u001b[1m0s\u001b[0m 12ms/step - accuracy: 0.9226 - loss: 0.1874 - val_accuracy: 0.8555 - val_loss: 0.3311\n",
      "Epoch 23/50\n",
      "\u001b[1m22/22\u001b[0m \u001b[32m━━━━━━━━━━━━━━━━━━━━\u001b[0m\u001b[37m\u001b[0m \u001b[1m0s\u001b[0m 12ms/step - accuracy: 0.9117 - loss: 0.1975 - val_accuracy: 0.8613 - val_loss: 0.3346\n",
      "Epoch 24/50\n",
      "\u001b[1m22/22\u001b[0m \u001b[32m━━━━━━━━━━━━━━━━━━━━\u001b[0m\u001b[37m\u001b[0m \u001b[1m0s\u001b[0m 12ms/step - accuracy: 0.9338 - loss: 0.1810 - val_accuracy: 0.8728 - val_loss: 0.3451\n",
      "Epoch 25/50\n",
      "\u001b[1m22/22\u001b[0m \u001b[32m━━━━━━━━━━━━━━━━━━━━\u001b[0m\u001b[37m\u001b[0m \u001b[1m0s\u001b[0m 12ms/step - accuracy: 0.9251 - loss: 0.1972 - val_accuracy: 0.8613 - val_loss: 0.3353\n",
      "Epoch 26/50\n",
      "\u001b[1m22/22\u001b[0m \u001b[32m━━━━━━━━━━━━━━━━━━━━\u001b[0m\u001b[37m\u001b[0m \u001b[1m0s\u001b[0m 12ms/step - accuracy: 0.9091 - loss: 0.2069 - val_accuracy: 0.8728 - val_loss: 0.3354\n",
      "Epoch 27/50\n",
      "\u001b[1m22/22\u001b[0m \u001b[32m━━━━━━━━━━━━━━━━━━━━\u001b[0m\u001b[37m\u001b[0m \u001b[1m0s\u001b[0m 12ms/step - accuracy: 0.9302 - loss: 0.1802 - val_accuracy: 0.8786 - val_loss: 0.3272\n",
      "Epoch 28/50\n",
      "\u001b[1m22/22\u001b[0m \u001b[32m━━━━━━━━━━━━━━━━━━━━\u001b[0m\u001b[37m\u001b[0m \u001b[1m0s\u001b[0m 13ms/step - accuracy: 0.9500 - loss: 0.1374 - val_accuracy: 0.8555 - val_loss: 0.3582\n",
      "Epoch 29/50\n",
      "\u001b[1m22/22\u001b[0m \u001b[32m━━━━━━━━━━━━━━━━━━━━\u001b[0m\u001b[37m\u001b[0m \u001b[1m0s\u001b[0m 13ms/step - accuracy: 0.9116 - loss: 0.2067 - val_accuracy: 0.8728 - val_loss: 0.3459\n",
      "Epoch 30/50\n",
      "\u001b[1m22/22\u001b[0m \u001b[32m━━━━━━━━━━━━━━━━━━━━\u001b[0m\u001b[37m\u001b[0m \u001b[1m0s\u001b[0m 12ms/step - accuracy: 0.9407 - loss: 0.1609 - val_accuracy: 0.8844 - val_loss: 0.3333\n",
      "Epoch 31/50\n",
      "\u001b[1m22/22\u001b[0m \u001b[32m━━━━━━━━━━━━━━━━━━━━\u001b[0m\u001b[37m\u001b[0m \u001b[1m0s\u001b[0m 14ms/step - accuracy: 0.9403 - loss: 0.1432 - val_accuracy: 0.8902 - val_loss: 0.3266\n",
      "Epoch 32/50\n",
      "\u001b[1m22/22\u001b[0m \u001b[32m━━━━━━━━━━━━━━━━━━━━\u001b[0m\u001b[37m\u001b[0m \u001b[1m0s\u001b[0m 12ms/step - accuracy: 0.9304 - loss: 0.1633 - val_accuracy: 0.8960 - val_loss: 0.3282\n",
      "Epoch 33/50\n",
      "\u001b[1m22/22\u001b[0m \u001b[32m━━━━━━━━━━━━━━━━━━━━\u001b[0m\u001b[37m\u001b[0m \u001b[1m0s\u001b[0m 13ms/step - accuracy: 0.9395 - loss: 0.1502 - val_accuracy: 0.8902 - val_loss: 0.3092\n",
      "Epoch 34/50\n",
      "\u001b[1m22/22\u001b[0m \u001b[32m━━━━━━━━━━━━━━━━━━━━\u001b[0m\u001b[37m\u001b[0m \u001b[1m0s\u001b[0m 13ms/step - accuracy: 0.9522 - loss: 0.1240 - val_accuracy: 0.8728 - val_loss: 0.3659\n",
      "Epoch 35/50\n",
      "\u001b[1m22/22\u001b[0m \u001b[32m━━━━━━━━━━━━━━━━━━━━\u001b[0m\u001b[37m\u001b[0m \u001b[1m0s\u001b[0m 13ms/step - accuracy: 0.9457 - loss: 0.1604 - val_accuracy: 0.8728 - val_loss: 0.3588\n",
      "Epoch 36/50\n",
      "\u001b[1m22/22\u001b[0m \u001b[32m━━━━━━━━━━━━━━━━━━━━\u001b[0m\u001b[37m\u001b[0m \u001b[1m0s\u001b[0m 12ms/step - accuracy: 0.9534 - loss: 0.1326 - val_accuracy: 0.8786 - val_loss: 0.3515\n",
      "Epoch 37/50\n",
      "\u001b[1m22/22\u001b[0m \u001b[32m━━━━━━━━━━━━━━━━━━━━\u001b[0m\u001b[37m\u001b[0m \u001b[1m0s\u001b[0m 13ms/step - accuracy: 0.9679 - loss: 0.1057 - val_accuracy: 0.8960 - val_loss: 0.3349\n",
      "Epoch 38/50\n",
      "\u001b[1m22/22\u001b[0m \u001b[32m━━━━━━━━━━━━━━━━━━━━\u001b[0m\u001b[37m\u001b[0m \u001b[1m0s\u001b[0m 12ms/step - accuracy: 0.9502 - loss: 0.1493 - val_accuracy: 0.8902 - val_loss: 0.3325\n",
      "Epoch 39/50\n",
      "\u001b[1m22/22\u001b[0m \u001b[32m━━━━━━━━━━━━━━━━━━━━\u001b[0m\u001b[37m\u001b[0m \u001b[1m0s\u001b[0m 12ms/step - accuracy: 0.9369 - loss: 0.1441 - val_accuracy: 0.8844 - val_loss: 0.3668\n",
      "Epoch 40/50\n",
      "\u001b[1m22/22\u001b[0m \u001b[32m━━━━━━━━━━━━━━━━━━━━\u001b[0m\u001b[37m\u001b[0m \u001b[1m0s\u001b[0m 12ms/step - accuracy: 0.9282 - loss: 0.1500 - val_accuracy: 0.8786 - val_loss: 0.3286\n",
      "Epoch 41/50\n",
      "\u001b[1m22/22\u001b[0m \u001b[32m━━━━━━━━━━━━━━━━━━━━\u001b[0m\u001b[37m\u001b[0m \u001b[1m0s\u001b[0m 14ms/step - accuracy: 0.9455 - loss: 0.1232 - val_accuracy: 0.8728 - val_loss: 0.4347\n",
      "Epoch 42/50\n",
      "\u001b[1m22/22\u001b[0m \u001b[32m━━━━━━━━━━━━━━━━━━━━\u001b[0m\u001b[37m\u001b[0m \u001b[1m0s\u001b[0m 13ms/step - accuracy: 0.9600 - loss: 0.1018 - val_accuracy: 0.8844 - val_loss: 0.3563\n",
      "Epoch 43/50\n",
      "\u001b[1m22/22\u001b[0m \u001b[32m━━━━━━━━━━━━━━━━━━━━\u001b[0m\u001b[37m\u001b[0m \u001b[1m0s\u001b[0m 12ms/step - accuracy: 0.9669 - loss: 0.0969 - val_accuracy: 0.8902 - val_loss: 0.3401\n",
      "Epoch 44/50\n",
      "\u001b[1m22/22\u001b[0m \u001b[32m━━━━━━━━━━━━━━━━━━━━\u001b[0m\u001b[37m\u001b[0m \u001b[1m0s\u001b[0m 11ms/step - accuracy: 0.9551 - loss: 0.1086 - val_accuracy: 0.8902 - val_loss: 0.3656\n",
      "Epoch 45/50\n",
      "\u001b[1m22/22\u001b[0m \u001b[32m━━━━━━━━━━━━━━━━━━━━\u001b[0m\u001b[37m\u001b[0m \u001b[1m0s\u001b[0m 12ms/step - accuracy: 0.9455 - loss: 0.1495 - val_accuracy: 0.9017 - val_loss: 0.3175\n",
      "Epoch 46/50\n",
      "\u001b[1m22/22\u001b[0m \u001b[32m━━━━━━━━━━━━━━━━━━━━\u001b[0m\u001b[37m\u001b[0m \u001b[1m0s\u001b[0m 13ms/step - accuracy: 0.9751 - loss: 0.0769 - val_accuracy: 0.9075 - val_loss: 0.3065\n",
      "Epoch 47/50\n",
      "\u001b[1m22/22\u001b[0m \u001b[32m━━━━━━━━━━━━━━━━━━━━\u001b[0m\u001b[37m\u001b[0m \u001b[1m0s\u001b[0m 13ms/step - accuracy: 0.9814 - loss: 0.0748 - val_accuracy: 0.9133 - val_loss: 0.3349\n",
      "Epoch 48/50\n",
      "\u001b[1m22/22\u001b[0m \u001b[32m━━━━━━━━━━━━━━━━━━━━\u001b[0m\u001b[37m\u001b[0m \u001b[1m0s\u001b[0m 13ms/step - accuracy: 0.9614 - loss: 0.0869 - val_accuracy: 0.9017 - val_loss: 0.3764\n",
      "Epoch 49/50\n",
      "\u001b[1m22/22\u001b[0m \u001b[32m━━━━━━━━━━━━━━━━━━━━\u001b[0m\u001b[37m\u001b[0m \u001b[1m0s\u001b[0m 12ms/step - accuracy: 0.9664 - loss: 0.0993 - val_accuracy: 0.8960 - val_loss: 0.3546\n",
      "Epoch 50/50\n",
      "\u001b[1m22/22\u001b[0m \u001b[32m━━━━━━━━━━━━━━━━━━━━\u001b[0m\u001b[37m\u001b[0m \u001b[1m0s\u001b[0m 12ms/step - accuracy: 0.9763 - loss: 0.0657 - val_accuracy: 0.9075 - val_loss: 0.3647\n"
     ]
    }
   ],
   "source": [
    "batch_size = 32\n",
    "epochs = 50\n",
    "\n",
    "history = model.fit(X_train, y_train,\n",
    "                    batch_size=batch_size,\n",
    "                    epochs=epochs,\n",
    "                    verbose=1,\n",
    "                    validation_data=(X_test, y_test))"
   ]
  },
  {
   "cell_type": "code",
   "execution_count": 314,
   "id": "717c3b4d",
   "metadata": {},
   "outputs": [
    {
     "name": "stdout",
     "output_type": "stream",
     "text": [
      "\u001b[1m6/6\u001b[0m \u001b[32m━━━━━━━━━━━━━━━━━━━━\u001b[0m\u001b[37m\u001b[0m \u001b[1m0s\u001b[0m 5ms/step - accuracy: 0.9286 - loss: 0.3178 \n",
      "Test Accuracy:  0.9075144529342651\n"
     ]
    }
   ],
   "source": [
    "loss, accuracy = model.evaluate(X_test, y_test, verbose=1)\n",
    "print(\"Test Accuracy: \",accuracy)"
   ]
  },
  {
   "cell_type": "code",
   "execution_count": 315,
   "id": "da6c42ea",
   "metadata": {},
   "outputs": [
    {
     "name": "stdout",
     "output_type": "stream",
     "text": [
      "\u001b[1m6/6\u001b[0m \u001b[32m━━━━━━━━━━━━━━━━━━━━\u001b[0m\u001b[37m\u001b[0m \u001b[1m0s\u001b[0m 30ms/step\n"
     ]
    }
   ],
   "source": [
    "predictions = model.predict(X_test)"
   ]
  },
  {
   "cell_type": "code",
   "execution_count": 316,
   "id": "79b3baac",
   "metadata": {},
   "outputs": [
    {
     "name": "stderr",
     "output_type": "stream",
     "text": [
      "WARNING:absl:You are saving your model as an HDF5 file via `model.save()` or `keras.saving.save_model(model)`. This file format is considered legacy. We recommend using instead the native Keras format, e.g. `model.save('my_model.keras')` or `keras.saving.save_model(model, 'my_model.keras')`. \n"
     ]
    }
   ],
   "source": [
    "model.save('dense_neural_network_model.h5')"
   ]
  },
  {
   "cell_type": "markdown",
   "id": "3b3d63cb",
   "metadata": {},
   "source": [
    "### PREDICTION"
   ]
  },
  {
   "cell_type": "code",
   "execution_count": 322,
   "id": "ceafac7c",
   "metadata": {},
   "outputs": [
    {
     "name": "stderr",
     "output_type": "stream",
     "text": [
      "WARNING:absl:Compiled the loaded model, but the compiled metrics have yet to be built. `model.compile_metrics` will be empty until you train or evaluate the model.\n"
     ]
    },
    {
     "name": "stdout",
     "output_type": "stream",
     "text": [
      "\u001b[1m1/1\u001b[0m \u001b[32m━━━━━━━━━━━━━━━━━━━━\u001b[0m\u001b[37m\u001b[0m \u001b[1m0s\u001b[0m 208ms/step\n",
      "The audio signal does not contains cough\n"
     ]
    }
   ],
   "source": [
    "import numpy as np\n",
    "from tensorflow.keras.models import load_model\n",
    "\n",
    "def extract_features_prediction(file_path):\n",
    "    y, sr = librosa.load(file_path, sr=None)\n",
    "    \n",
    "    y, _ = librosa.effects.trim(y, top_db=20)\n",
    "    \n",
    "    zcr = np.mean(librosa.feature.zero_crossing_rate(y))\n",
    "    spectral_centroid = np.mean(librosa.feature.spectral_centroid(y=y, sr=sr))\n",
    "    spectral_bandwidth = np.mean(librosa.feature.spectral_bandwidth(y=y, sr=sr))\n",
    "    spectral_contrast = np.mean(librosa.feature.spectral_contrast(y=y, sr=sr))\n",
    "    spectral_rolloff = np.mean(librosa.feature.spectral_rolloff(y=y, sr=sr))\n",
    "    rms_energy = np.mean(librosa.feature.rms(y=y))\n",
    "    \n",
    "    mfccs = librosa.feature.mfcc(y=y, sr=sr, n_mfcc=21)\n",
    "    mfccs_mean = np.mean(mfccs, axis=1)\n",
    "    \n",
    "    features = np.hstack([zcr, spectral_centroid, spectral_bandwidth, spectral_contrast, spectral_rolloff, rms_energy, mfccs_mean])\n",
    "    \n",
    "    return features.astype(np.float32) \n",
    "\n",
    "model = load_model('dense_neural_network_model.h5')\n",
    "\n",
    "def predict_audio(file_path, model):\n",
    "    audio_features = extract_features(file_path)\n",
    "    audio_features = audio_features.reshape(1, -1)  \n",
    "    predictions = model.predict(audio_features)\n",
    "    predicted_class = np.argmax(predictions, axis=1)[0]  \n",
    "    \n",
    "    return predicted_class\n",
    "\n",
    "new_audio_signal = \"H:/My Drive/Task 2 - Feature Extarction/kashish_mru.wav\"\n",
    "predicted_label = predict_audio(new_audio_signal, model)\n",
    "\n",
    "if predicted_label == '1' :\n",
    "    print(\"The audio signal contains cough\")\n",
    "else :\n",
    "    print(\"The audio signal does not contains cough\")"
   ]
  },
  {
   "cell_type": "code",
   "execution_count": null,
   "id": "0c1f2fd9",
   "metadata": {},
   "outputs": [],
   "source": []
  }
 ],
 "metadata": {
  "kernelspec": {
   "display_name": "Python 3 (ipykernel)",
   "language": "python",
   "name": "python3"
  },
  "language_info": {
   "codemirror_mode": {
    "name": "ipython",
    "version": 3
   },
   "file_extension": ".py",
   "mimetype": "text/x-python",
   "name": "python",
   "nbconvert_exporter": "python",
   "pygments_lexer": "ipython3",
   "version": "3.10.11"
  }
 },
 "nbformat": 4,
 "nbformat_minor": 5
}
